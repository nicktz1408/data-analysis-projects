{
 "cells": [
  {
   "cell_type": "markdown",
   "metadata": {},
   "source": [
    "Σε αυτό το notebook κάνω ανάλυση των συνόλων δεδομένων CIFAR-100 με την χρήση της μεθόδου KPCA+LDA. Λειτουργώ με παρόμοιο τρόπο όπως και στην ανάλυση του CIFAR-10. Για περισσότερες λεπτομέριες, μπορείτε να ανατρέξετε στο αρχείο KPCA+LDA_CIFAR-10.ipynb. \n",
    "\n",
    "# CIFAR-100 analysis using KPCA+LDA\n",
    "## Dataset import and preprocess\n",
    "Χρησιμοποιώ τις οδηγίες στην ιστοσελίδα https://www.cs.toronto.edu/~kriz/cifar.html για την εγκατάσταση και φόρτωμα των δεδομένων του CIFAR-10 και CIFAR-100. Κάνω ένα απλό απλό min-max scaling των τιμών των δεδομένων στο $[0, 1]$."
   ]
  },
  {
   "cell_type": "code",
   "execution_count": 18,
   "metadata": {},
   "outputs": [],
   "source": [
    "import pickle\n",
    "\n",
    "def unpickle(file):\n",
    "    with open(file, 'rb') as fo:\n",
    "        dict = pickle.load(fo, encoding='bytes')\n",
    "    return dict\n",
    "\n",
    "def fetch_cifar100_data(filename):\n",
    "    decoded_data = unpickle(filename)\n",
    "    \n",
    "    # fine labels -> version with the higher amount of classification classes\n",
    "    return decoded_data[bytes('data', 'utf-8')], decoded_data[bytes('fine_labels', 'utf-8')]"
   ]
  },
  {
   "cell_type": "code",
   "execution_count": 19,
   "metadata": {},
   "outputs": [],
   "source": [
    "batch_filenames = [ 'cifar100/data_batch_1', 'cifar10/data_batch_2', 'cifar10/data_batch_3',\n",
    "                    'cifar10/data_batch_4', 'cifar10/data_batch_5']\n",
    "\n",
    "train_data, train_labels = fetch_cifar100_data('cifar100/train')\n",
    "test_data, test_labels = fetch_cifar100_data('cifar100/test')"
   ]
  },
  {
   "cell_type": "code",
   "execution_count": 20,
   "metadata": {},
   "outputs": [],
   "source": [
    "import numpy as np"
   ]
  },
  {
   "cell_type": "code",
   "execution_count": 36,
   "metadata": {},
   "outputs": [],
   "source": [
    "X, y = np.array(train_data), np.array(train_labels)\n",
    "X_test, y_test = np.array(test_data), np.array(test_labels)"
   ]
  },
  {
   "cell_type": "markdown",
   "metadata": {},
   "source": [
    "Λόγω μεγέθους το dataset, χρησιμοποιώ 5.000 δεδομένα για training και άλλα 5.000 για validation."
   ]
  },
  {
   "cell_type": "code",
   "execution_count": 37,
   "metadata": {},
   "outputs": [],
   "source": [
    "from sklearn.model_selection import train_test_split\n",
    "\n",
    "used_dataset_size = 5000 # amount of samples to retain\n",
    "\n",
    "X, _, y, _ = train_test_split(X, y, train_size=used_dataset_size) \n",
    "\n",
    "X_train, X_val, y_train, y_val = train_test_split(X, y, train_size=.5) # 50-50 split"
   ]
  },
  {
   "cell_type": "code",
   "execution_count": 38,
   "metadata": {},
   "outputs": [
    {
     "name": "stdout",
     "output_type": "stream",
     "text": [
      "(2500, 3072) (2500,) (2500, 3072) (2500,) (10000, 3072) (10000,)\n"
     ]
    }
   ],
   "source": [
    "print(X_train.shape, y_train.shape, X_val.shape, y_val.shape, X_test.shape, y_test.shape)"
   ]
  },
  {
   "cell_type": "markdown",
   "metadata": {},
   "source": [
    "Rescale:"
   ]
  },
  {
   "cell_type": "code",
   "execution_count": 39,
   "metadata": {},
   "outputs": [],
   "source": [
    "X_train, X_val, X_test = X_train / 255, X_val / 255, X_test / 255"
   ]
  },
  {
   "cell_type": "markdown",
   "metadata": {},
   "source": [
    "## Analysis\n",
    "Ξεικάω με την εφαρμογή ΚΝΝ (με $k=5$) και NearestCentroid στον αρχικό χώρο και σε απλό PCA με διατήρηση 90\\% της πληροφορίας."
   ]
  },
  {
   "cell_type": "code",
   "execution_count": 40,
   "metadata": {},
   "outputs": [],
   "source": [
    "from sklearn.neighbors import KNeighborsClassifier, NearestCentroid\n",
    "from sklearn.metrics import accuracy_score"
   ]
  },
  {
   "cell_type": "code",
   "execution_count": 41,
   "metadata": {},
   "outputs": [
    {
     "name": "stdout",
     "output_type": "stream",
     "text": [
      "KNN: 0.0715\n",
      "NC: 0.0879\n"
     ]
    }
   ],
   "source": [
    "knn = KNeighborsClassifier(n_neighbors=5)\n",
    "knn.fit(X_train, y_train)\n",
    "\n",
    "y_pred = knn.predict(X_test)\n",
    "print(f'KNN: {accuracy_score(y_pred, y_test)}')\n",
    "\n",
    "nc = NearestCentroid()\n",
    "nc.fit(X_train, y_train)\n",
    "\n",
    "y_pred = nc.predict(X_test)\n",
    "print(f'NC: {accuracy_score(y_pred, y_test)}')"
   ]
  },
  {
   "cell_type": "markdown",
   "metadata": {},
   "source": [
    "### PCA"
   ]
  },
  {
   "cell_type": "code",
   "execution_count": 43,
   "metadata": {},
   "outputs": [
    {
     "name": "stdout",
     "output_type": "stream",
     "text": [
      "KNN: 0.0771\n",
      "NC: 0.0868\n"
     ]
    }
   ],
   "source": [
    "from sklearn.decomposition import PCA\n",
    "\n",
    "pca = PCA(n_components=0.9)\n",
    "\n",
    "X_train_pca = pca.fit_transform(X_train)\n",
    "X_test_pca = pca.transform(X_test)\n",
    "\n",
    "knn = KNeighborsClassifier(n_neighbors=5)\n",
    "knn.fit(X_train_pca, y_train)\n",
    "\n",
    "y_pred = knn.predict(X_test_pca)\n",
    "print(f'KNN: {accuracy_score(y_pred, y_test)}')\n",
    "\n",
    "nc = NearestCentroid()\n",
    "nc.fit(X_train_pca, y_train)\n",
    "\n",
    "y_pred = nc.predict(X_test_pca)\n",
    "print(f'NC: {accuracy_score(y_pred, y_test)}')"
   ]
  },
  {
   "cell_type": "code",
   "execution_count": 44,
   "metadata": {},
   "outputs": [],
   "source": [
    "from sklearn.decomposition import KernelPCA\n",
    "from sklearn.discriminant_analysis import LinearDiscriminantAnalysis\n",
    "\n",
    "def kpca_plus_lda(kpca_model, lda_model_in=None):\n",
    "    X_train_kpca = kpca_model.fit_transform(X_train)\n",
    "    X_val_kpca = kpca_model.transform(X_val)\n",
    "    \n",
    "    lda_model = lda_model_in if lda_model_in is not None else LinearDiscriminantAnalysis()\n",
    "    \n",
    "    X_train_lda = lda_model.fit_transform(X_train_kpca, y_train)\n",
    "    X_val_lda = lda_model.transform(X_val_kpca)\n",
    "    \n",
    "    knn = KNeighborsClassifier(n_neighbors=5)\n",
    "    knn.fit(X_train_lda, y_train)\n",
    "\n",
    "    y_pred = knn.predict(X_val_lda)\n",
    "    knn_acc = accuracy_score(y_pred, y_val)\n",
    "\n",
    "    nc = NearestCentroid()\n",
    "    nc.fit(X_train_lda, y_train)\n",
    "\n",
    "    y_pred = nc.predict(X_val_lda)\n",
    "    nc_acc = accuracy_score(y_pred, y_val)\n",
    "    \n",
    "    return knn_acc, nc_acc"
   ]
  },
  {
   "cell_type": "markdown",
   "metadata": {},
   "source": [
    "### PCA + LDA\n",
    "Ξεκινάω με δοκιμή της απλής περίπτωσης PCA + LDA"
   ]
  },
  {
   "cell_type": "code",
   "execution_count": 45,
   "metadata": {},
   "outputs": [
    {
     "name": "stdout",
     "output_type": "stream",
     "text": [
      "PCA + LDA:\n",
      "KNN: 0.0658\n",
      "NC: 0.1106\n"
     ]
    }
   ],
   "source": [
    "pca_model = PCA(n_components=.9)\n",
    "\n",
    "print('PCA + LDA:')\n",
    "\n",
    "lda_model = LinearDiscriminantAnalysis()\n",
    "\n",
    "X_train_lda = lda_model.fit_transform(X_train_pca, y_train)\n",
    "X_test_lda = lda_model.transform(X_test_pca)\n",
    "\n",
    "knn = KNeighborsClassifier(n_neighbors=5)\n",
    "knn.fit(X_train_lda, y_train)\n",
    "\n",
    "y_pred = knn.predict(X_test_lda)\n",
    "print(f'KNN: {accuracy_score(y_pred, y_test)}')\n",
    "\n",
    "nc = NearestCentroid()\n",
    "nc.fit(X_train_lda, y_train)\n",
    "\n",
    "y_pred = nc.predict(X_test_lda)\n",
    "print(f'NC: {accuracy_score(y_pred, y_test)}')"
   ]
  },
  {
   "cell_type": "markdown",
   "metadata": {},
   "source": [
    "Παρατηρούμε ήδη πολύ καλύ βελτίωση σε σχέση με την απλή PCA.\n",
    "\n",
    "### RBF Kernel\n",
    "Δοκιμάζω αρικά με μεγάλες τιμές:"
   ]
  },
  {
   "cell_type": "code",
   "execution_count": 46,
   "metadata": {},
   "outputs": [
    {
     "name": "stdout",
     "output_type": "stream",
     "text": [
      "RBF with n_components=500, gamma=1: KNN: 1.20%, NC: 0.92%\n",
      "RBF with n_components=1000, gamma=1: KNN: 1.20%, NC: 0.92%\n",
      "RBF with n_components=1500, gamma=1: KNN: 1.12%, NC: 1.28%\n",
      "RBF with n_components=2000, gamma=1: KNN: 1.20%, NC: 1.20%\n",
      "RBF with n_components=2500, gamma=1: KNN: 1.00%, NC: 1.24%\n",
      "RBF with n_components=500, gamma=0.1: KNN: 1.28%, NC: 0.92%\n",
      "RBF with n_components=1000, gamma=0.1: KNN: 1.24%, NC: 0.92%\n",
      "RBF with n_components=1500, gamma=0.1: KNN: 0.76%, NC: 1.28%\n",
      "RBF with n_components=2000, gamma=0.1: KNN: 1.12%, NC: 1.20%\n",
      "RBF with n_components=2500, gamma=0.1: KNN: 0.72%, NC: 2.24%\n",
      "RBF with n_components=500, gamma=0.01: KNN: 7.12%, NC: 11.36%\n",
      "RBF with n_components=1000, gamma=0.01: KNN: 7.20%, NC: 9.84%\n",
      "RBF with n_components=1500, gamma=0.01: KNN: 7.32%, NC: 8.60%\n",
      "RBF with n_components=2000, gamma=0.01: KNN: 5.80%, NC: 6.04%\n",
      "RBF with n_components=2500, gamma=0.01: KNN: 5.00%, NC: 10.20%\n",
      "RBF with n_components=500, gamma=0.001: KNN: 6.52%, NC: 12.00%\n",
      "RBF with n_components=1000, gamma=0.001: KNN: 7.20%, NC: 11.20%\n",
      "RBF with n_components=1500, gamma=0.001: KNN: 6.92%, NC: 9.88%\n",
      "RBF with n_components=2000, gamma=0.001: KNN: 6.92%, NC: 7.96%\n",
      "RBF with n_components=2500, gamma=0.001: KNN: 4.36%, NC: 6.76%\n",
      "RBF with n_components=500, gamma=0.0001: KNN: 5.72%, NC: 10.56%\n",
      "RBF with n_components=1000, gamma=0.0001: KNN: 5.80%, NC: 9.12%\n",
      "RBF with n_components=1500, gamma=0.0001: KNN: 5.96%, NC: 8.48%\n",
      "RBF with n_components=2000, gamma=0.0001: KNN: 6.72%, NC: 7.20%\n",
      "RBF with n_components=2500, gamma=0.0001: KNN: 1.72%, NC: 6.44%\n",
      "RBF with n_components=500, gamma=1e-05: KNN: 4.20%, NC: 8.84%\n",
      "RBF with n_components=1000, gamma=1e-05: KNN: 4.88%, NC: 7.68%\n",
      "RBF with n_components=1500, gamma=1e-05: KNN: 5.36%, NC: 6.56%\n",
      "RBF with n_components=2000, gamma=1e-05: KNN: 5.36%, NC: 5.72%\n",
      "RBF with n_components=2500, gamma=1e-05: KNN: 1.28%, NC: 5.12%\n"
     ]
    }
   ],
   "source": [
    "for gamma in [ 1, 1e-1, 1e-2, 1e-3, 1e-4, 1e-5 ]:\n",
    "    for n_components in [ 500, 1000, 1500, 2000, 2500 ]:\n",
    "        kpca_model = KernelPCA(n_components=n_components, kernel='rbf', gamma=gamma)\n",
    "        knn_acc, nc_acc = kpca_plus_lda(kpca_model)\n",
    "        \n",
    "        print(f'RBF with n_components={n_components}, gamma={gamma}: KNN: {100 * knn_acc:.2f}%, NC: {100 * nc_acc:.2f}%')\n"
   ]
  },
  {
   "cell_type": "markdown",
   "metadata": {},
   "source": [
    "Πολύ καλή απόδοση παίρνουμε για `n_components=1000, gamma=0.001: KNN: 7.20%, NC: 11.20%`. Δοκιμάζω ένα ακόμη grid search."
   ]
  },
  {
   "cell_type": "code",
   "execution_count": 54,
   "metadata": {},
   "outputs": [
    {
     "name": "stdout",
     "output_type": "stream",
     "text": [
      "RBF with n_components=900, gamma=0.0008: KNN: 7.20%, NC: 11.24%\n",
      "RBF with n_components=1000, gamma=0.0008: KNN: 7.24%, NC: 11.20%\n",
      "RBF with n_components=1100, gamma=0.0008: KNN: 7.52%, NC: 10.92%\n",
      "RBF with n_components=900, gamma=0.001: KNN: 7.28%, NC: 11.40%\n",
      "RBF with n_components=1000, gamma=0.001: KNN: 7.20%, NC: 11.20%\n",
      "RBF with n_components=1100, gamma=0.001: KNN: 7.60%, NC: 10.92%\n",
      "RBF with n_components=900, gamma=0.0012: KNN: 7.84%, NC: 11.56%\n",
      "RBF with n_components=1000, gamma=0.0012: KNN: 7.32%, NC: 11.56%\n",
      "RBF with n_components=1100, gamma=0.0012: KNN: 7.60%, NC: 11.40%\n"
     ]
    }
   ],
   "source": [
    "for gamma in [ 0.0008, 0.001, 0.0012 ]:\n",
    "    for n_components in [ 900, 1000, 1100 ]:\n",
    "        kpca_model = KernelPCA(n_components=n_components, kernel='rbf', gamma=gamma)\n",
    "        knn_acc, nc_acc = kpca_plus_lda(kpca_model)\n",
    "\n",
    "        print(f'RBF with n_components={n_components}, gamma={gamma}: KNN: {100 * knn_acc:.2f}%, NC: {100 * nc_acc:.2f}%')"
   ]
  },
  {
   "cell_type": "markdown",
   "metadata": {},
   "source": [
    "`n_components=900, gamma=0.0012: KNN: 7.84%, NC: 11.56%`\n",
    "### Poly deg 2\n",
    "Συνεχίζω με ανάλυση για πολυωνυμικά κerel 2ου βαθμού."
   ]
  },
  {
   "cell_type": "code",
   "execution_count": 47,
   "metadata": {},
   "outputs": [
    {
     "name": "stdout",
     "output_type": "stream",
     "text": [
      "Poly deg 2 with n_components=500, coef0=100: KNN: 4.24%, NC: 8.12%\n",
      "Poly deg 2 with n_components=1000, coef0=100: KNN: 4.16%, NC: 6.72%\n",
      "Poly deg 2 with n_components=1500, coef0=100: KNN: 4.48%, NC: 5.80%\n",
      "Poly deg 2 with n_components=2000, coef0=100: KNN: 4.64%, NC: 5.28%\n",
      "Poly deg 2 with n_components=2500, coef0=100: KNN: 1.32%, NC: 4.00%\n",
      "Poly deg 2 with n_components=500, coef0=10: KNN: 4.84%, NC: 8.80%\n",
      "Poly deg 2 with n_components=1000, coef0=10: KNN: 4.68%, NC: 7.84%\n",
      "Poly deg 2 with n_components=1500, coef0=10: KNN: 5.64%, NC: 7.36%\n",
      "Poly deg 2 with n_components=2000, coef0=10: KNN: 5.60%, NC: 6.40%\n",
      "Poly deg 2 with n_components=2500, coef0=10: KNN: 1.28%, NC: 5.20%\n",
      "Poly deg 2 with n_components=500, coef0=1: KNN: 5.44%, NC: 10.08%\n",
      "Poly deg 2 with n_components=1000, coef0=1: KNN: 5.52%, NC: 9.12%\n",
      "Poly deg 2 with n_components=1500, coef0=1: KNN: 5.92%, NC: 8.20%\n",
      "Poly deg 2 with n_components=2000, coef0=1: KNN: 6.36%, NC: 7.28%\n",
      "Poly deg 2 with n_components=2500, coef0=1: KNN: 1.72%, NC: 5.40%\n",
      "Poly deg 2 with n_components=500, coef0=0.1: KNN: 5.44%, NC: 10.80%\n",
      "Poly deg 2 with n_components=1000, coef0=0.1: KNN: 6.64%, NC: 10.20%\n",
      "Poly deg 2 with n_components=1500, coef0=0.1: KNN: 6.64%, NC: 9.40%\n",
      "Poly deg 2 with n_components=2000, coef0=0.1: KNN: 5.80%, NC: 7.80%\n",
      "Poly deg 2 with n_components=2500, coef0=0.1: KNN: 1.96%, NC: 5.92%\n",
      "Poly deg 2 with n_components=500, coef0=0.01: KNN: 6.20%, NC: 10.92%\n",
      "Poly deg 2 with n_components=1000, coef0=0.01: KNN: 6.40%, NC: 10.28%\n",
      "Poly deg 2 with n_components=1500, coef0=0.01: KNN: 7.12%, NC: 8.48%\n",
      "Poly deg 2 with n_components=2000, coef0=0.01: KNN: 6.56%, NC: 7.48%\n",
      "Poly deg 2 with n_components=2500, coef0=0.01: KNN: 2.12%, NC: 5.96%\n",
      "Poly deg 2 with n_components=500, coef0=0.001: KNN: 5.80%, NC: 10.12%\n",
      "Poly deg 2 with n_components=1000, coef0=0.001: KNN: 6.16%, NC: 9.56%\n",
      "Poly deg 2 with n_components=1500, coef0=0.001: KNN: 7.24%, NC: 8.12%\n",
      "Poly deg 2 with n_components=2000, coef0=0.001: KNN: 5.72%, NC: 7.20%\n",
      "Poly deg 2 with n_components=2500, coef0=0.001: KNN: 2.08%, NC: 5.48%\n"
     ]
    }
   ],
   "source": [
    "for coef0 in [ 100, 10, 1, 1e-1, 1e-2, 1e-3 ]:\n",
    "    for n_components in [ 500, 1000, 1500, 2000, 2500 ]:\n",
    "        kpca_model = KernelPCA(n_components=n_components, kernel='poly', degree=2, coef0=coef0)\n",
    "        knn_acc, nc_acc = kpca_plus_lda(kpca_model)\n",
    "\n",
    "        print(f'Poly deg 2 with n_components={n_components}, coef0={coef0}: KNN: {100 * knn_acc:.2f}%, NC: {100 * nc_acc:.2f}%')"
   ]
  },
  {
   "cell_type": "markdown",
   "metadata": {},
   "source": [
    "* `n_components=1500, coef0=0.01: KNN: 7.12%, NC: 8.48%`\n",
    "* `n_components=500, coef0=0.01: KNN: 6.20%, NC: 10.92%`"
   ]
  },
  {
   "cell_type": "code",
   "execution_count": 53,
   "metadata": {},
   "outputs": [
    {
     "name": "stdout",
     "output_type": "stream",
     "text": [
      "Poly deg 2 with n_components=400, coef0=0.0005: KNN: 5.32%, NC: 10.68%\n",
      "Poly deg 2 with n_components=500, coef0=0.0005: KNN: 5.80%, NC: 10.20%\n",
      "Poly deg 2 with n_components=700, coef0=0.0005: KNN: 5.80%, NC: 9.80%\n",
      "Poly deg 2 with n_components=900, coef0=0.0005: KNN: 5.64%, NC: 9.88%\n",
      "Poly deg 2 with n_components=1100, coef0=0.0005: KNN: 5.96%, NC: 9.36%\n",
      "Poly deg 2 with n_components=1300, coef0=0.0005: KNN: 6.20%, NC: 8.92%\n",
      "Poly deg 2 with n_components=1500, coef0=0.0005: KNN: 7.04%, NC: 8.00%\n",
      "Poly deg 2 with n_components=1700, coef0=0.0005: KNN: 6.20%, NC: 7.88%\n",
      "Poly deg 2 with n_components=400, coef0=0.001: KNN: 5.24%, NC: 10.76%\n",
      "Poly deg 2 with n_components=500, coef0=0.001: KNN: 5.80%, NC: 10.12%\n",
      "Poly deg 2 with n_components=700, coef0=0.001: KNN: 5.76%, NC: 9.88%\n",
      "Poly deg 2 with n_components=900, coef0=0.001: KNN: 5.64%, NC: 9.88%\n",
      "Poly deg 2 with n_components=1100, coef0=0.001: KNN: 5.88%, NC: 9.52%\n",
      "Poly deg 2 with n_components=1300, coef0=0.001: KNN: 6.52%, NC: 9.04%\n",
      "Poly deg 2 with n_components=1500, coef0=0.001: KNN: 7.24%, NC: 8.12%\n",
      "Poly deg 2 with n_components=1700, coef0=0.001: KNN: 6.52%, NC: 7.84%\n",
      "Poly deg 2 with n_components=400, coef0=0.004: KNN: 5.40%, NC: 10.88%\n",
      "Poly deg 2 with n_components=500, coef0=0.004: KNN: 6.00%, NC: 10.32%\n",
      "Poly deg 2 with n_components=700, coef0=0.004: KNN: 6.16%, NC: 10.28%\n",
      "Poly deg 2 with n_components=900, coef0=0.004: KNN: 5.64%, NC: 10.12%\n",
      "Poly deg 2 with n_components=1100, coef0=0.004: KNN: 5.96%, NC: 9.88%\n",
      "Poly deg 2 with n_components=1300, coef0=0.004: KNN: 7.08%, NC: 9.16%\n",
      "Poly deg 2 with n_components=1500, coef0=0.004: KNN: 6.96%, NC: 8.24%\n",
      "Poly deg 2 with n_components=1700, coef0=0.004: KNN: 6.80%, NC: 8.04%\n",
      "Poly deg 2 with n_components=400, coef0=0.007: KNN: 5.44%, NC: 11.00%\n",
      "Poly deg 2 with n_components=500, coef0=0.007: KNN: 6.04%, NC: 10.64%\n",
      "Poly deg 2 with n_components=700, coef0=0.007: KNN: 6.04%, NC: 10.36%\n",
      "Poly deg 2 with n_components=900, coef0=0.007: KNN: 5.92%, NC: 9.84%\n",
      "Poly deg 2 with n_components=1100, coef0=0.007: KNN: 6.20%, NC: 9.96%\n",
      "Poly deg 2 with n_components=1300, coef0=0.007: KNN: 7.16%, NC: 9.28%\n",
      "Poly deg 2 with n_components=1500, coef0=0.007: KNN: 7.24%, NC: 8.32%\n",
      "Poly deg 2 with n_components=1700, coef0=0.007: KNN: 6.72%, NC: 8.24%\n",
      "Poly deg 2 with n_components=400, coef0=0.01: KNN: 5.36%, NC: 11.04%\n",
      "Poly deg 2 with n_components=500, coef0=0.01: KNN: 6.20%, NC: 10.92%\n",
      "Poly deg 2 with n_components=700, coef0=0.01: KNN: 6.00%, NC: 10.40%\n",
      "Poly deg 2 with n_components=900, coef0=0.01: KNN: 6.04%, NC: 10.04%\n",
      "Poly deg 2 with n_components=1100, coef0=0.01: KNN: 6.52%, NC: 10.00%\n",
      "Poly deg 2 with n_components=1300, coef0=0.01: KNN: 7.32%, NC: 9.32%\n",
      "Poly deg 2 with n_components=1500, coef0=0.01: KNN: 7.12%, NC: 8.48%\n",
      "Poly deg 2 with n_components=1700, coef0=0.01: KNN: 6.52%, NC: 8.32%\n",
      "Poly deg 2 with n_components=400, coef0=0.013: KNN: 5.56%, NC: 10.96%\n",
      "Poly deg 2 with n_components=500, coef0=0.013: KNN: 6.00%, NC: 11.00%\n",
      "Poly deg 2 with n_components=700, coef0=0.013: KNN: 6.32%, NC: 10.32%\n",
      "Poly deg 2 with n_components=900, coef0=0.013: KNN: 6.16%, NC: 10.20%\n",
      "Poly deg 2 with n_components=1100, coef0=0.013: KNN: 6.48%, NC: 10.00%\n",
      "Poly deg 2 with n_components=1300, coef0=0.013: KNN: 7.36%, NC: 9.48%\n",
      "Poly deg 2 with n_components=1500, coef0=0.013: KNN: 7.20%, NC: 8.72%\n",
      "Poly deg 2 with n_components=1700, coef0=0.013: KNN: 6.56%, NC: 8.32%\n"
     ]
    }
   ],
   "source": [
    "for coef0 in [ .0005, .001, .004, .007, .01, .013 ]:\n",
    "    for n_components in [ 400, 500, 700, 900, 1100, 1300, 1500, 1700 ]:\n",
    "        kpca_model = KernelPCA(n_components=n_components, kernel='poly', degree=2, coef0=coef0)\n",
    "        knn_acc, nc_acc = kpca_plus_lda(kpca_model)\n",
    "\n",
    "        print(f'Poly deg 2 with n_components={n_components}, coef0={coef0}: KNN: {100 * knn_acc:.2f}%, NC: {100 * nc_acc:.2f}%')"
   ]
  },
  {
   "cell_type": "markdown",
   "metadata": {},
   "source": [
    "`n_components=400, coef0=0.007: KNN: 5.44%, NC: 11.00%`"
   ]
  },
  {
   "cell_type": "code",
   "execution_count": 60,
   "metadata": {},
   "outputs": [
    {
     "name": "stdout",
     "output_type": "stream",
     "text": [
      "Poly deg 2 with n_components=1200, coef0=0.012: KNN: 6.88%, NC: 10.08%\n",
      "Poly deg 2 with n_components=1300, coef0=0.012: KNN: 7.48%, NC: 9.40%\n",
      "Poly deg 2 with n_components=1400, coef0=0.012: KNN: 7.48%, NC: 8.88%\n",
      "Poly deg 2 with n_components=1200, coef0=0.013: KNN: 7.00%, NC: 10.08%\n",
      "Poly deg 2 with n_components=1300, coef0=0.013: KNN: 7.36%, NC: 9.48%\n",
      "Poly deg 2 with n_components=1400, coef0=0.013: KNN: 7.40%, NC: 8.92%\n",
      "Poly deg 2 with n_components=1200, coef0=0.014: KNN: 7.00%, NC: 10.04%\n",
      "Poly deg 2 with n_components=1300, coef0=0.014: KNN: 7.48%, NC: 9.40%\n",
      "Poly deg 2 with n_components=1400, coef0=0.014: KNN: 7.24%, NC: 8.88%\n",
      "Poly deg 2 with n_components=1200, coef0=0.015: KNN: 7.08%, NC: 10.12%\n",
      "Poly deg 2 with n_components=1300, coef0=0.015: KNN: 7.44%, NC: 9.44%\n",
      "Poly deg 2 with n_components=1400, coef0=0.015: KNN: 7.24%, NC: 8.96%\n"
     ]
    }
   ],
   "source": [
    "for coef0 in [ .012, .013, .014, .015 ]:\n",
    "    for n_components in [ 1200, 1300, 1400 ]:\n",
    "        kpca_model = KernelPCA(n_components=n_components, kernel='poly', degree=2, coef0=coef0)\n",
    "        knn_acc, nc_acc = kpca_plus_lda(kpca_model)\n",
    "\n",
    "        print(f'Poly deg 2 with n_components={n_components}, coef0={coef0}: KNN: {100 * knn_acc:.2f}%, NC: {100 * nc_acc:.2f}%')"
   ]
  },
  {
   "cell_type": "markdown",
   "metadata": {},
   "source": [
    "### Poly deg 3\n",
    "Δοκιμάζω το ίδιο με πολυώνυμα 3ου βαθμού."
   ]
  },
  {
   "cell_type": "code",
   "execution_count": 48,
   "metadata": {},
   "outputs": [
    {
     "name": "stdout",
     "output_type": "stream",
     "text": [
      "Poly deg 3 with n_components=500, coef0=100: KNN: 4.12%, NC: 8.16%\n",
      "Poly deg 3 with n_components=1000, coef0=100: KNN: 4.48%, NC: 6.88%\n",
      "Poly deg 3 with n_components=1500, coef0=100: KNN: 4.52%, NC: 6.12%\n",
      "Poly deg 3 with n_components=2000, coef0=100: KNN: 5.16%, NC: 5.36%\n",
      "Poly deg 3 with n_components=2500, coef0=100: KNN: 1.88%, NC: 4.92%\n",
      "Poly deg 3 with n_components=500, coef0=10: KNN: 4.96%, NC: 9.32%\n",
      "Poly deg 3 with n_components=1000, coef0=10: KNN: 5.16%, NC: 8.36%\n",
      "Poly deg 3 with n_components=1500, coef0=10: KNN: 5.84%, NC: 7.60%\n",
      "Poly deg 3 with n_components=2000, coef0=10: KNN: 5.96%, NC: 6.72%\n",
      "Poly deg 3 with n_components=2500, coef0=10: KNN: 1.76%, NC: 5.16%\n",
      "Poly deg 3 with n_components=500, coef0=1: KNN: 5.96%, NC: 10.68%\n",
      "Poly deg 3 with n_components=1000, coef0=1: KNN: 6.28%, NC: 9.64%\n",
      "Poly deg 3 with n_components=1500, coef0=1: KNN: 6.52%, NC: 9.20%\n",
      "Poly deg 3 with n_components=2000, coef0=1: KNN: 5.84%, NC: 7.88%\n",
      "Poly deg 3 with n_components=2500, coef0=1: KNN: 1.60%, NC: 6.00%\n",
      "Poly deg 3 with n_components=500, coef0=0.1: KNN: 6.72%, NC: 10.88%\n",
      "Poly deg 3 with n_components=1000, coef0=0.1: KNN: 7.40%, NC: 9.56%\n",
      "Poly deg 3 with n_components=1500, coef0=0.1: KNN: 7.04%, NC: 8.96%\n",
      "Poly deg 3 with n_components=2000, coef0=0.1: KNN: 6.36%, NC: 8.20%\n",
      "Poly deg 3 with n_components=2500, coef0=0.1: KNN: 2.08%, NC: 6.48%\n",
      "Poly deg 3 with n_components=500, coef0=0.01: KNN: 6.84%, NC: 10.04%\n",
      "Poly deg 3 with n_components=1000, coef0=0.01: KNN: 7.48%, NC: 8.52%\n",
      "Poly deg 3 with n_components=1500, coef0=0.01: KNN: 8.08%, NC: 8.16%\n",
      "Poly deg 3 with n_components=2000, coef0=0.01: KNN: 6.72%, NC: 7.56%\n",
      "Poly deg 3 with n_components=2500, coef0=0.01: KNN: 1.64%, NC: 5.40%\n",
      "Poly deg 3 with n_components=500, coef0=0.001: KNN: 6.72%, NC: 10.08%\n",
      "Poly deg 3 with n_components=1000, coef0=0.001: KNN: 7.00%, NC: 8.32%\n",
      "Poly deg 3 with n_components=1500, coef0=0.001: KNN: 7.76%, NC: 7.76%\n",
      "Poly deg 3 with n_components=2000, coef0=0.001: KNN: 5.80%, NC: 7.04%\n",
      "Poly deg 3 with n_components=2500, coef0=0.001: KNN: 1.36%, NC: 5.56%\n"
     ]
    }
   ],
   "source": [
    "for coef0 in [ 100, 10, 1, 1e-1, 1e-2, 1e-3 ]:\n",
    "    for n_components in [ 500, 1000, 1500, 2000, 2500 ]:\n",
    "        kpca_model = KernelPCA(n_components=n_components, kernel='poly', degree=3, coef0=coef0)\n",
    "        knn_acc, nc_acc = kpca_plus_lda(kpca_model)\n",
    "\n",
    "        print(f'Poly deg 3 with n_components={n_components}, coef0={coef0}: KNN: {100 * knn_acc:.2f}%, NC: {100 * nc_acc:.2f}%')"
   ]
  },
  {
   "cell_type": "markdown",
   "metadata": {},
   "source": [
    "* `n_components=1000, coef0=0.1: KNN: 7.40%, NC: 9.56%`\n",
    "* `n_components=500, coef0=0.1: KNN: 6.72%, NC: 10.88%`"
   ]
  },
  {
   "cell_type": "code",
   "execution_count": 55,
   "metadata": {},
   "outputs": [
    {
     "name": "stdout",
     "output_type": "stream",
     "text": [
      "Poly deg 3 with n_components=800, coef0=0.08: KNN: 7.20%, NC: 10.08%\n",
      "Poly deg 3 with n_components=900, coef0=0.08: KNN: 7.12%, NC: 9.68%\n",
      "Poly deg 3 with n_components=1000, coef0=0.08: KNN: 7.44%, NC: 9.64%\n",
      "Poly deg 3 with n_components=1100, coef0=0.08: KNN: 7.88%, NC: 9.56%\n",
      "Poly deg 3 with n_components=1200, coef0=0.08: KNN: 7.84%, NC: 9.64%\n",
      "Poly deg 3 with n_components=800, coef0=0.09: KNN: 7.28%, NC: 10.16%\n",
      "Poly deg 3 with n_components=900, coef0=0.09: KNN: 7.20%, NC: 9.88%\n",
      "Poly deg 3 with n_components=1000, coef0=0.09: KNN: 7.36%, NC: 9.56%\n",
      "Poly deg 3 with n_components=1100, coef0=0.09: KNN: 7.92%, NC: 9.40%\n",
      "Poly deg 3 with n_components=1200, coef0=0.09: KNN: 7.68%, NC: 9.64%\n",
      "Poly deg 3 with n_components=800, coef0=0.1: KNN: 6.96%, NC: 10.20%\n",
      "Poly deg 3 with n_components=900, coef0=0.1: KNN: 7.16%, NC: 9.84%\n",
      "Poly deg 3 with n_components=1000, coef0=0.1: KNN: 7.40%, NC: 9.56%\n",
      "Poly deg 3 with n_components=1100, coef0=0.1: KNN: 7.76%, NC: 9.48%\n",
      "Poly deg 3 with n_components=1200, coef0=0.1: KNN: 7.48%, NC: 9.68%\n",
      "Poly deg 3 with n_components=800, coef0=0.11: KNN: 7.08%, NC: 10.24%\n",
      "Poly deg 3 with n_components=900, coef0=0.11: KNN: 7.32%, NC: 9.96%\n",
      "Poly deg 3 with n_components=1000, coef0=0.11: KNN: 7.16%, NC: 9.72%\n",
      "Poly deg 3 with n_components=1100, coef0=0.11: KNN: 7.84%, NC: 9.40%\n",
      "Poly deg 3 with n_components=1200, coef0=0.11: KNN: 7.60%, NC: 9.80%\n",
      "Poly deg 3 with n_components=800, coef0=0.12: KNN: 6.88%, NC: 10.36%\n",
      "Poly deg 3 with n_components=900, coef0=0.12: KNN: 7.36%, NC: 10.00%\n",
      "Poly deg 3 with n_components=1000, coef0=0.12: KNN: 6.88%, NC: 9.76%\n",
      "Poly deg 3 with n_components=1100, coef0=0.12: KNN: 7.72%, NC: 9.60%\n",
      "Poly deg 3 with n_components=1200, coef0=0.12: KNN: 7.60%, NC: 9.88%\n"
     ]
    }
   ],
   "source": [
    "for coef0 in [ .08, .09, .1, .11, .12 ]:\n",
    "    for n_components in [ 800, 900, 1000, 1100, 1200 ]:\n",
    "        kpca_model = KernelPCA(n_components=n_components, kernel='poly', degree=3, coef0=coef0)\n",
    "        knn_acc, nc_acc = kpca_plus_lda(kpca_model)\n",
    "\n",
    "        print(f'Poly deg 3 with n_components={n_components}, coef0={coef0}: KNN: {100 * knn_acc:.2f}%, NC: {100 * nc_acc:.2f}%')"
   ]
  },
  {
   "cell_type": "markdown",
   "metadata": {},
   "source": [
    "`n_components=1200, coef0=0.08: KNN: 7.84%, NC: 9.64%`"
   ]
  },
  {
   "cell_type": "code",
   "execution_count": 62,
   "metadata": {},
   "outputs": [
    {
     "name": "stdout",
     "output_type": "stream",
     "text": [
      "Poly deg 3 with n_components=300, coef0=0.08: KNN: 6.44%, NC: 11.32%\n",
      "Poly deg 3 with n_components=400, coef0=0.08: KNN: 7.08%, NC: 10.92%\n",
      "Poly deg 3 with n_components=500, coef0=0.08: KNN: 6.68%, NC: 10.88%\n",
      "Poly deg 3 with n_components=600, coef0=0.08: KNN: 7.04%, NC: 10.36%\n",
      "Poly deg 3 with n_components=700, coef0=0.08: KNN: 6.84%, NC: 10.16%\n",
      "Poly deg 3 with n_components=300, coef0=0.09: KNN: 6.72%, NC: 11.20%\n",
      "Poly deg 3 with n_components=400, coef0=0.09: KNN: 7.24%, NC: 11.00%\n",
      "Poly deg 3 with n_components=500, coef0=0.09: KNN: 6.72%, NC: 10.96%\n",
      "Poly deg 3 with n_components=600, coef0=0.09: KNN: 6.88%, NC: 10.44%\n",
      "Poly deg 3 with n_components=700, coef0=0.09: KNN: 6.56%, NC: 10.28%\n",
      "Poly deg 3 with n_components=300, coef0=0.1: KNN: 6.80%, NC: 11.20%\n",
      "Poly deg 3 with n_components=400, coef0=0.1: KNN: 7.04%, NC: 11.00%\n",
      "Poly deg 3 with n_components=500, coef0=0.1: KNN: 6.72%, NC: 10.88%\n",
      "Poly deg 3 with n_components=600, coef0=0.1: KNN: 6.88%, NC: 10.52%\n",
      "Poly deg 3 with n_components=700, coef0=0.1: KNN: 6.56%, NC: 10.32%\n",
      "Poly deg 3 with n_components=300, coef0=0.11: KNN: 6.72%, NC: 11.04%\n",
      "Poly deg 3 with n_components=400, coef0=0.11: KNN: 7.00%, NC: 11.00%\n",
      "Poly deg 3 with n_components=500, coef0=0.11: KNN: 6.68%, NC: 10.96%\n",
      "Poly deg 3 with n_components=600, coef0=0.11: KNN: 6.80%, NC: 10.56%\n",
      "Poly deg 3 with n_components=700, coef0=0.11: KNN: 6.52%, NC: 10.28%\n",
      "Poly deg 3 with n_components=300, coef0=0.12: KNN: 6.60%, NC: 11.12%\n",
      "Poly deg 3 with n_components=400, coef0=0.12: KNN: 6.64%, NC: 11.00%\n",
      "Poly deg 3 with n_components=500, coef0=0.12: KNN: 6.40%, NC: 11.04%\n",
      "Poly deg 3 with n_components=600, coef0=0.12: KNN: 6.72%, NC: 10.72%\n",
      "Poly deg 3 with n_components=700, coef0=0.12: KNN: 6.72%, NC: 10.16%\n"
     ]
    }
   ],
   "source": [
    "for coef0 in [ .08, .09, .1, .11, .12 ]:\n",
    "    for n_components in [ 300, 400, 500, 600, 700 ]:\n",
    "        kpca_model = KernelPCA(n_components=n_components, kernel='poly', degree=3, coef0=coef0)\n",
    "        knn_acc, nc_acc = kpca_plus_lda(kpca_model)\n",
    "\n",
    "        print(f'Poly deg 3 with n_components={n_components}, coef0={coef0}: KNN: {100 * knn_acc:.2f}%, NC: {100 * nc_acc:.2f}%')"
   ]
  },
  {
   "cell_type": "markdown",
   "metadata": {},
   "source": [
    "`n_components=400, coef0=0.09: KNN: 7.24%, NC: 11.00%`"
   ]
  },
  {
   "cell_type": "markdown",
   "metadata": {},
   "source": [
    "### Poly deg 5\n",
    "Συνεχίζω με πολυωνυμικά kernel βαθμού 5."
   ]
  },
  {
   "cell_type": "code",
   "execution_count": 49,
   "metadata": {},
   "outputs": [
    {
     "name": "stdout",
     "output_type": "stream",
     "text": [
      "Poly deg 5 with n_components=500, coef0=100: KNN: 4.28%, NC: 8.36%\n",
      "Poly deg 5 with n_components=1000, coef0=100: KNN: 4.52%, NC: 7.36%\n",
      "Poly deg 5 with n_components=1500, coef0=100: KNN: 4.92%, NC: 6.60%\n",
      "Poly deg 5 with n_components=2000, coef0=100: KNN: 5.20%, NC: 5.32%\n",
      "Poly deg 5 with n_components=2500, coef0=100: KNN: 1.20%, NC: 4.68%\n",
      "Poly deg 5 with n_components=500, coef0=10: KNN: 5.52%, NC: 10.04%\n",
      "Poly deg 5 with n_components=1000, coef0=10: KNN: 5.72%, NC: 8.56%\n",
      "Poly deg 5 with n_components=1500, coef0=10: KNN: 6.00%, NC: 7.88%\n",
      "Poly deg 5 with n_components=2000, coef0=10: KNN: 6.08%, NC: 6.76%\n",
      "Poly deg 5 with n_components=2500, coef0=10: KNN: 1.88%, NC: 5.68%\n",
      "Poly deg 5 with n_components=500, coef0=1: KNN: 6.12%, NC: 11.20%\n",
      "Poly deg 5 with n_components=1000, coef0=1: KNN: 6.88%, NC: 9.16%\n",
      "Poly deg 5 with n_components=1500, coef0=1: KNN: 7.28%, NC: 8.76%\n",
      "Poly deg 5 with n_components=2000, coef0=1: KNN: 6.48%, NC: 7.84%\n",
      "Poly deg 5 with n_components=2500, coef0=1: KNN: 2.76%, NC: 5.80%\n",
      "Poly deg 5 with n_components=500, coef0=0.1: KNN: 7.92%, NC: 9.04%\n",
      "Poly deg 5 with n_components=1000, coef0=0.1: KNN: 7.76%, NC: 8.56%\n",
      "Poly deg 5 with n_components=1500, coef0=0.1: KNN: 8.12%, NC: 7.68%\n",
      "Poly deg 5 with n_components=2000, coef0=0.1: KNN: 6.96%, NC: 7.28%\n",
      "Poly deg 5 with n_components=2500, coef0=0.1: KNN: 1.60%, NC: 4.16%\n",
      "Poly deg 5 with n_components=500, coef0=0.01: KNN: 6.80%, NC: 7.56%\n",
      "Poly deg 5 with n_components=1000, coef0=0.01: KNN: 7.16%, NC: 7.04%\n",
      "Poly deg 5 with n_components=1500, coef0=0.01: KNN: 7.60%, NC: 6.68%\n",
      "Poly deg 5 with n_components=2000, coef0=0.01: KNN: 6.20%, NC: 6.68%\n",
      "Poly deg 5 with n_components=2500, coef0=0.01: KNN: 1.80%, NC: 1.92%\n",
      "Poly deg 5 with n_components=500, coef0=0.001: KNN: 6.64%, NC: 7.40%\n",
      "Poly deg 5 with n_components=1000, coef0=0.001: KNN: 7.00%, NC: 6.76%\n",
      "Poly deg 5 with n_components=1500, coef0=0.001: KNN: 8.08%, NC: 6.48%\n",
      "Poly deg 5 with n_components=2000, coef0=0.001: KNN: 5.84%, NC: 6.56%\n",
      "Poly deg 5 with n_components=2500, coef0=0.001: KNN: 1.44%, NC: 1.84%\n"
     ]
    }
   ],
   "source": [
    "for coef0 in [ 100, 10, 1, 1e-1, 1e-2, 1e-3 ]:\n",
    "    for n_components in [ 500, 1000, 1500, 2000, 2500 ]:\n",
    "        kpca_model = KernelPCA(n_components=n_components, kernel='poly', degree=5, coef0=coef0)\n",
    "        knn_acc, nc_acc = kpca_plus_lda(kpca_model)\n",
    "\n",
    "        print(f'Poly deg 5 with n_components={n_components}, coef0={coef0}: KNN: {100 * knn_acc:.2f}%, NC: {100 * nc_acc:.2f}%')"
   ]
  },
  {
   "cell_type": "markdown",
   "metadata": {},
   "source": [
    "* `n_components=500, coef0=0.1: KNN: 7.92%, NC: 9.04%`\n",
    "* `n_components=500, coef0=1: KNN: 6.12%, NC: 11.20%`"
   ]
  },
  {
   "cell_type": "code",
   "execution_count": 56,
   "metadata": {},
   "outputs": [
    {
     "name": "stdout",
     "output_type": "stream",
     "text": [
      "Poly deg 5 with n_components=300, coef0=0.08: KNN: 6.76%, NC: 9.44%\n",
      "Poly deg 5 with n_components=400, coef0=0.08: KNN: 7.40%, NC: 9.16%\n",
      "Poly deg 5 with n_components=500, coef0=0.08: KNN: 7.52%, NC: 8.76%\n",
      "Poly deg 5 with n_components=600, coef0=0.08: KNN: 7.96%, NC: 8.56%\n",
      "Poly deg 5 with n_components=700, coef0=0.08: KNN: 8.48%, NC: 8.48%\n",
      "Poly deg 5 with n_components=300, coef0=0.09: KNN: 6.88%, NC: 9.52%\n",
      "Poly deg 5 with n_components=400, coef0=0.09: KNN: 7.24%, NC: 9.20%\n",
      "Poly deg 5 with n_components=500, coef0=0.09: KNN: 7.56%, NC: 8.84%\n",
      "Poly deg 5 with n_components=600, coef0=0.09: KNN: 7.80%, NC: 8.76%\n",
      "Poly deg 5 with n_components=700, coef0=0.09: KNN: 8.48%, NC: 8.52%\n",
      "Poly deg 5 with n_components=300, coef0=0.1: KNN: 7.12%, NC: 9.28%\n",
      "Poly deg 5 with n_components=400, coef0=0.1: KNN: 7.32%, NC: 9.52%\n",
      "Poly deg 5 with n_components=500, coef0=0.1: KNN: 7.92%, NC: 9.04%\n",
      "Poly deg 5 with n_components=600, coef0=0.1: KNN: 7.84%, NC: 8.80%\n",
      "Poly deg 5 with n_components=700, coef0=0.1: KNN: 8.52%, NC: 8.72%\n",
      "Poly deg 5 with n_components=300, coef0=0.11: KNN: 7.08%, NC: 9.52%\n",
      "Poly deg 5 with n_components=400, coef0=0.11: KNN: 7.36%, NC: 9.32%\n",
      "Poly deg 5 with n_components=500, coef0=0.11: KNN: 8.04%, NC: 9.12%\n",
      "Poly deg 5 with n_components=600, coef0=0.11: KNN: 8.04%, NC: 8.92%\n",
      "Poly deg 5 with n_components=700, coef0=0.11: KNN: 8.40%, NC: 8.84%\n",
      "Poly deg 5 with n_components=300, coef0=0.12: KNN: 6.68%, NC: 9.56%\n",
      "Poly deg 5 with n_components=400, coef0=0.12: KNN: 7.08%, NC: 9.12%\n",
      "Poly deg 5 with n_components=500, coef0=0.12: KNN: 8.12%, NC: 9.16%\n",
      "Poly deg 5 with n_components=600, coef0=0.12: KNN: 8.00%, NC: 9.04%\n",
      "Poly deg 5 with n_components=700, coef0=0.12: KNN: 8.36%, NC: 9.00%\n"
     ]
    }
   ],
   "source": [
    "for coef0 in [ .08, .09, .1, .11, .12 ]:\n",
    "    for n_components in [ 300, 400, 500, 600, 700 ]:\n",
    "        kpca_model = KernelPCA(n_components=n_components, kernel='poly', degree=5, coef0=coef0)\n",
    "        knn_acc, nc_acc = kpca_plus_lda(kpca_model)\n",
    "\n",
    "        print(f'Poly deg 5 with n_components={n_components}, coef0={coef0}: KNN: {100 * knn_acc:.2f}%, NC: {100 * nc_acc:.2f}%')"
   ]
  },
  {
   "cell_type": "code",
   "execution_count": 63,
   "metadata": {},
   "outputs": [
    {
     "name": "stdout",
     "output_type": "stream",
     "text": [
      "Poly deg 5 with n_components=300, coef0=0.8: KNN: 5.48%, NC: 11.96%\n",
      "Poly deg 5 with n_components=400, coef0=0.8: KNN: 6.24%, NC: 11.08%\n",
      "Poly deg 5 with n_components=500, coef0=0.8: KNN: 5.92%, NC: 11.20%\n",
      "Poly deg 5 with n_components=600, coef0=0.8: KNN: 6.56%, NC: 11.08%\n",
      "Poly deg 5 with n_components=700, coef0=0.8: KNN: 6.44%, NC: 10.12%\n",
      "Poly deg 5 with n_components=300, coef0=0.9: KNN: 5.44%, NC: 12.16%\n",
      "Poly deg 5 with n_components=400, coef0=0.9: KNN: 6.16%, NC: 10.92%\n",
      "Poly deg 5 with n_components=500, coef0=0.9: KNN: 6.00%, NC: 11.20%\n",
      "Poly deg 5 with n_components=600, coef0=0.9: KNN: 6.60%, NC: 10.80%\n",
      "Poly deg 5 with n_components=700, coef0=0.9: KNN: 6.48%, NC: 10.16%\n",
      "Poly deg 5 with n_components=300, coef0=1: KNN: 5.32%, NC: 11.72%\n",
      "Poly deg 5 with n_components=400, coef0=1: KNN: 5.84%, NC: 10.68%\n",
      "Poly deg 5 with n_components=500, coef0=1: KNN: 6.12%, NC: 11.20%\n",
      "Poly deg 5 with n_components=600, coef0=1: KNN: 6.52%, NC: 10.92%\n",
      "Poly deg 5 with n_components=700, coef0=1: KNN: 6.60%, NC: 10.40%\n",
      "Poly deg 5 with n_components=300, coef0=1.1: KNN: 5.40%, NC: 11.76%\n",
      "Poly deg 5 with n_components=400, coef0=1.1: KNN: 5.72%, NC: 10.84%\n",
      "Poly deg 5 with n_components=500, coef0=1.1: KNN: 5.92%, NC: 11.08%\n",
      "Poly deg 5 with n_components=600, coef0=1.1: KNN: 6.60%, NC: 10.96%\n",
      "Poly deg 5 with n_components=700, coef0=1.1: KNN: 7.16%, NC: 10.36%\n",
      "Poly deg 5 with n_components=300, coef0=1.2: KNN: 5.44%, NC: 11.56%\n",
      "Poly deg 5 with n_components=400, coef0=1.2: KNN: 5.36%, NC: 10.64%\n",
      "Poly deg 5 with n_components=500, coef0=1.2: KNN: 5.92%, NC: 10.88%\n",
      "Poly deg 5 with n_components=600, coef0=1.2: KNN: 6.60%, NC: 10.84%\n",
      "Poly deg 5 with n_components=700, coef0=1.2: KNN: 7.08%, NC: 10.32%\n"
     ]
    }
   ],
   "source": [
    "for coef0 in [ .8, .9, 1, 1.1, 1.2 ]:\n",
    "    for n_components in [ 300, 400, 500, 600, 700 ]:\n",
    "        kpca_model = KernelPCA(n_components=n_components, kernel='poly', degree=5, coef0=coef0)\n",
    "        knn_acc, nc_acc = kpca_plus_lda(kpca_model)\n",
    "\n",
    "        print(f'Poly deg 5 with n_components={n_components}, coef0={coef0}: KNN: {100 * knn_acc:.2f}%, NC: {100 * nc_acc:.2f}%')"
   ]
  },
  {
   "cell_type": "markdown",
   "metadata": {},
   "source": [
    "`n_components=300, coef0=0.9: KNN: 5.44%, NC: 12.16%`"
   ]
  },
  {
   "cell_type": "markdown",
   "metadata": {},
   "source": [
    "### Poly deg 7"
   ]
  },
  {
   "cell_type": "code",
   "execution_count": 50,
   "metadata": {},
   "outputs": [
    {
     "name": "stdout",
     "output_type": "stream",
     "text": [
      "Poly deg 7 with n_components=500, coef0=100: KNN: 4.16%, NC: 8.60%\n",
      "Poly deg 7 with n_components=1000, coef0=100: KNN: 4.56%, NC: 7.24%\n",
      "Poly deg 7 with n_components=1500, coef0=100: KNN: 5.12%, NC: 6.64%\n",
      "Poly deg 7 with n_components=2000, coef0=100: KNN: 5.32%, NC: 5.72%\n",
      "Poly deg 7 with n_components=2500, coef0=100: KNN: 1.56%, NC: 5.12%\n",
      "Poly deg 7 with n_components=500, coef0=10: KNN: 5.56%, NC: 9.88%\n",
      "Poly deg 7 with n_components=1000, coef0=10: KNN: 5.96%, NC: 9.04%\n",
      "Poly deg 7 with n_components=1500, coef0=10: KNN: 5.72%, NC: 8.36%\n",
      "Poly deg 7 with n_components=2000, coef0=10: KNN: 6.28%, NC: 7.20%\n",
      "Poly deg 7 with n_components=2500, coef0=10: KNN: 1.80%, NC: 5.52%\n",
      "Poly deg 7 with n_components=500, coef0=1: KNN: 6.24%, NC: 11.00%\n",
      "Poly deg 7 with n_components=1000, coef0=1: KNN: 6.96%, NC: 9.72%\n",
      "Poly deg 7 with n_components=1500, coef0=1: KNN: 7.36%, NC: 8.32%\n",
      "Poly deg 7 with n_components=2000, coef0=1: KNN: 6.32%, NC: 7.56%\n",
      "Poly deg 7 with n_components=2500, coef0=1: KNN: 1.88%, NC: 5.96%\n",
      "Poly deg 7 with n_components=500, coef0=0.1: KNN: 7.40%, NC: 7.60%\n",
      "Poly deg 7 with n_components=1000, coef0=0.1: KNN: 7.08%, NC: 7.28%\n",
      "Poly deg 7 with n_components=1500, coef0=0.1: KNN: 7.68%, NC: 6.72%\n",
      "Poly deg 7 with n_components=2000, coef0=0.1: KNN: 6.00%, NC: 7.16%\n",
      "Poly deg 7 with n_components=2500, coef0=0.1: KNN: 1.48%, NC: 2.56%\n",
      "Poly deg 7 with n_components=500, coef0=0.01: KNN: 6.96%, NC: 6.44%\n",
      "Poly deg 7 with n_components=1000, coef0=0.01: KNN: 6.12%, NC: 6.12%\n",
      "Poly deg 7 with n_components=1500, coef0=0.01: KNN: 6.36%, NC: 6.08%\n",
      "Poly deg 7 with n_components=2000, coef0=0.01: KNN: 4.28%, NC: 6.40%\n",
      "Poly deg 7 with n_components=2500, coef0=0.01: KNN: 1.36%, NC: 1.48%\n",
      "Poly deg 7 with n_components=500, coef0=0.001: KNN: 7.40%, NC: 6.12%\n",
      "Poly deg 7 with n_components=1000, coef0=0.001: KNN: 6.12%, NC: 5.92%\n",
      "Poly deg 7 with n_components=1500, coef0=0.001: KNN: 5.92%, NC: 6.08%\n",
      "Poly deg 7 with n_components=2000, coef0=0.001: KNN: 3.96%, NC: 5.60%\n",
      "Poly deg 7 with n_components=2500, coef0=0.001: KNN: 1.12%, NC: 0.92%\n"
     ]
    }
   ],
   "source": [
    "for coef0 in [ 100, 10, 1, 1e-1, 1e-2, 1e-3 ]:\n",
    "    for n_components in [ 500, 1000, 1500, 2000, 2500 ]:\n",
    "        kpca_model = KernelPCA(n_components=n_components, kernel='poly', degree=7, coef0=coef0)\n",
    "        knn_acc, nc_acc = kpca_plus_lda(kpca_model)\n",
    "\n",
    "        print(f'Poly deg 7 with n_components={n_components}, coef0={coef0}: KNN: {100 * knn_acc:.2f}%, NC: {100 * nc_acc:.2f}%')"
   ]
  },
  {
   "cell_type": "markdown",
   "metadata": {},
   "source": [
    "* `n_components=500, coef0=1: KNN: 6.24%, NC: 11.00%`\n",
    "* `n_components=1500, coef0=1: KNN: 7.36%, NC: 8.32%`"
   ]
  },
  {
   "cell_type": "code",
   "execution_count": 57,
   "metadata": {},
   "outputs": [
    {
     "name": "stdout",
     "output_type": "stream",
     "text": [
      "Poly deg 7 with n_components=400, coef0=0.8: KNN: 7.04%, NC: 11.04%\n",
      "Poly deg 7 with n_components=500, coef0=0.8: KNN: 6.76%, NC: 11.20%\n",
      "Poly deg 7 with n_components=700, coef0=0.8: KNN: 7.40%, NC: 10.12%\n",
      "Poly deg 7 with n_components=900, coef0=0.8: KNN: 7.44%, NC: 9.44%\n",
      "Poly deg 7 with n_components=1100, coef0=0.8: KNN: 7.32%, NC: 9.36%\n",
      "Poly deg 7 with n_components=1300, coef0=0.8: KNN: 7.88%, NC: 8.92%\n",
      "Poly deg 7 with n_components=1500, coef0=0.8: KNN: 7.12%, NC: 8.44%\n",
      "Poly deg 7 with n_components=1700, coef0=0.8: KNN: 7.64%, NC: 8.32%\n",
      "Poly deg 7 with n_components=400, coef0=0.9: KNN: 6.64%, NC: 10.84%\n",
      "Poly deg 7 with n_components=500, coef0=0.9: KNN: 6.52%, NC: 11.08%\n",
      "Poly deg 7 with n_components=700, coef0=0.9: KNN: 7.24%, NC: 10.16%\n",
      "Poly deg 7 with n_components=900, coef0=0.9: KNN: 7.00%, NC: 9.36%\n",
      "Poly deg 7 with n_components=1100, coef0=0.9: KNN: 7.20%, NC: 9.48%\n",
      "Poly deg 7 with n_components=1300, coef0=0.9: KNN: 7.52%, NC: 9.24%\n",
      "Poly deg 7 with n_components=1500, coef0=0.9: KNN: 7.40%, NC: 8.24%\n",
      "Poly deg 7 with n_components=1700, coef0=0.9: KNN: 6.92%, NC: 8.24%\n",
      "Poly deg 7 with n_components=400, coef0=1: KNN: 7.04%, NC: 11.00%\n",
      "Poly deg 7 with n_components=500, coef0=1: KNN: 6.24%, NC: 11.00%\n",
      "Poly deg 7 with n_components=700, coef0=1: KNN: 7.04%, NC: 10.24%\n",
      "Poly deg 7 with n_components=900, coef0=1: KNN: 6.80%, NC: 9.68%\n",
      "Poly deg 7 with n_components=1100, coef0=1: KNN: 7.24%, NC: 9.24%\n",
      "Poly deg 7 with n_components=1300, coef0=1: KNN: 7.44%, NC: 9.28%\n",
      "Poly deg 7 with n_components=1500, coef0=1: KNN: 7.36%, NC: 8.32%\n",
      "Poly deg 7 with n_components=1700, coef0=1: KNN: 6.96%, NC: 8.24%\n",
      "Poly deg 7 with n_components=400, coef0=1.1: KNN: 6.80%, NC: 11.28%\n",
      "Poly deg 7 with n_components=500, coef0=1.1: KNN: 6.24%, NC: 11.24%\n",
      "Poly deg 7 with n_components=700, coef0=1.1: KNN: 7.36%, NC: 9.96%\n",
      "Poly deg 7 with n_components=900, coef0=1.1: KNN: 6.84%, NC: 9.88%\n",
      "Poly deg 7 with n_components=1100, coef0=1.1: KNN: 7.32%, NC: 9.52%\n",
      "Poly deg 7 with n_components=1300, coef0=1.1: KNN: 7.16%, NC: 9.12%\n",
      "Poly deg 7 with n_components=1500, coef0=1.1: KNN: 7.20%, NC: 8.40%\n",
      "Poly deg 7 with n_components=1700, coef0=1.1: KNN: 6.88%, NC: 8.32%\n",
      "Poly deg 7 with n_components=400, coef0=1.2: KNN: 6.64%, NC: 11.48%\n",
      "Poly deg 7 with n_components=500, coef0=1.2: KNN: 6.08%, NC: 11.08%\n",
      "Poly deg 7 with n_components=700, coef0=1.2: KNN: 7.00%, NC: 10.00%\n",
      "Poly deg 7 with n_components=900, coef0=1.2: KNN: 6.68%, NC: 9.72%\n",
      "Poly deg 7 with n_components=1100, coef0=1.2: KNN: 7.44%, NC: 9.64%\n",
      "Poly deg 7 with n_components=1300, coef0=1.2: KNN: 7.16%, NC: 9.16%\n",
      "Poly deg 7 with n_components=1500, coef0=1.2: KNN: 7.28%, NC: 8.32%\n",
      "Poly deg 7 with n_components=1700, coef0=1.2: KNN: 6.84%, NC: 8.28%\n"
     ]
    }
   ],
   "source": [
    "for coef0 in [ .8, .9, 1, 1.1, 1.2  ]:\n",
    "    for n_components in [ 400, 500, 700, 900, 1100, 1300, 1500, 1700 ]:\n",
    "        kpca_model = KernelPCA(n_components=n_components, kernel='poly', degree=7, coef0=coef0)\n",
    "        knn_acc, nc_acc = kpca_plus_lda(kpca_model)\n",
    "\n",
    "        print(f'Poly deg 7 with n_components={n_components}, coef0={coef0}: KNN: {100 * knn_acc:.2f}%, NC: {100 * nc_acc:.2f}%')"
   ]
  },
  {
   "cell_type": "markdown",
   "metadata": {},
   "source": [
    "`n_components=400, coef0=1: KNN: 7.04%, NC: 11.00%`"
   ]
  },
  {
   "cell_type": "markdown",
   "metadata": {},
   "source": [
    "### Poly deg 9"
   ]
  },
  {
   "cell_type": "code",
   "execution_count": 51,
   "metadata": {},
   "outputs": [
    {
     "name": "stdout",
     "output_type": "stream",
     "text": [
      "Poly deg 9 with n_components=500, coef0=100: KNN: 4.52%, NC: 8.72%\n",
      "Poly deg 9 with n_components=1000, coef0=100: KNN: 4.96%, NC: 7.72%\n",
      "Poly deg 9 with n_components=1500, coef0=100: KNN: 5.60%, NC: 7.16%\n",
      "Poly deg 9 with n_components=2000, coef0=100: KNN: 5.52%, NC: 6.20%\n",
      "Poly deg 9 with n_components=2500, coef0=100: KNN: 1.80%, NC: 5.08%\n",
      "Poly deg 9 with n_components=500, coef0=10: KNN: 5.72%, NC: 10.16%\n",
      "Poly deg 9 with n_components=1000, coef0=10: KNN: 6.00%, NC: 9.16%\n",
      "Poly deg 9 with n_components=1500, coef0=10: KNN: 6.00%, NC: 8.56%\n",
      "Poly deg 9 with n_components=2000, coef0=10: KNN: 6.32%, NC: 7.56%\n",
      "Poly deg 9 with n_components=2500, coef0=10: KNN: 1.72%, NC: 5.28%\n",
      "Poly deg 9 with n_components=500, coef0=1: KNN: 7.20%, NC: 10.64%\n",
      "Poly deg 9 with n_components=1000, coef0=1: KNN: 7.08%, NC: 9.32%\n",
      "Poly deg 9 with n_components=1500, coef0=1: KNN: 7.36%, NC: 8.60%\n",
      "Poly deg 9 with n_components=2000, coef0=1: KNN: 6.56%, NC: 7.68%\n",
      "Poly deg 9 with n_components=2500, coef0=1: KNN: 2.28%, NC: 5.40%\n",
      "Poly deg 9 with n_components=500, coef0=0.1: KNN: 7.04%, NC: 7.12%\n",
      "Poly deg 9 with n_components=1000, coef0=0.1: KNN: 6.88%, NC: 6.64%\n",
      "Poly deg 9 with n_components=1500, coef0=0.1: KNN: 6.44%, NC: 6.44%\n",
      "Poly deg 9 with n_components=2000, coef0=0.1: KNN: 5.28%, NC: 6.64%\n",
      "Poly deg 9 with n_components=2500, coef0=0.1: KNN: 1.16%, NC: 1.36%\n",
      "Poly deg 9 with n_components=500, coef0=0.01: KNN: 7.12%, NC: 5.92%\n",
      "Poly deg 9 with n_components=1000, coef0=0.01: KNN: 6.20%, NC: 5.52%\n",
      "Poly deg 9 with n_components=1500, coef0=0.01: KNN: 5.00%, NC: 5.44%\n",
      "Poly deg 9 with n_components=2000, coef0=0.01: KNN: 3.00%, NC: 4.44%\n",
      "Poly deg 9 with n_components=2500, coef0=0.01: KNN: 1.08%, NC: 1.08%\n",
      "Poly deg 9 with n_components=500, coef0=0.001: KNN: 6.96%, NC: 5.56%\n",
      "Poly deg 9 with n_components=1000, coef0=0.001: KNN: 5.68%, NC: 5.56%\n",
      "Poly deg 9 with n_components=1500, coef0=0.001: KNN: 4.84%, NC: 5.32%\n",
      "Poly deg 9 with n_components=2000, coef0=0.001: KNN: 2.88%, NC: 4.24%\n",
      "Poly deg 9 with n_components=2500, coef0=0.001: KNN: 1.20%, NC: 1.24%\n"
     ]
    }
   ],
   "source": [
    "for coef0 in [ 100, 10, 1, 1e-1, 1e-2, 1e-3 ]:\n",
    "    for n_components in [ 500, 1000, 1500, 2000, 2500 ]:\n",
    "        kpca_model = KernelPCA(n_components=n_components, kernel='poly', degree=9, coef0=coef0)\n",
    "        knn_acc, nc_acc = kpca_plus_lda(kpca_model)\n",
    "\n",
    "        print(f'Poly deg 9 with n_components={n_components}, coef0={coef0}: KNN: {100 * knn_acc:.2f}%, NC: {100 * nc_acc:.2f}%')"
   ]
  },
  {
   "cell_type": "markdown",
   "metadata": {},
   "source": [
    "`n_components=500, coef0=1: KNN: 7.20%, NC: 10.64%`"
   ]
  },
  {
   "cell_type": "code",
   "execution_count": 58,
   "metadata": {},
   "outputs": [
    {
     "name": "stdout",
     "output_type": "stream",
     "text": [
      "Poly deg 9 with n_components=300, coef0=0.8: KNN: 7.12%, NC: 10.56%\n",
      "Poly deg 9 with n_components=400, coef0=0.8: KNN: 7.52%, NC: 10.20%\n",
      "Poly deg 9 with n_components=500, coef0=0.8: KNN: 7.12%, NC: 9.84%\n",
      "Poly deg 9 with n_components=600, coef0=0.8: KNN: 7.36%, NC: 9.60%\n",
      "Poly deg 9 with n_components=700, coef0=0.8: KNN: 7.84%, NC: 9.76%\n",
      "Poly deg 9 with n_components=300, coef0=0.9: KNN: 7.32%, NC: 10.52%\n",
      "Poly deg 9 with n_components=400, coef0=0.9: KNN: 7.44%, NC: 10.40%\n",
      "Poly deg 9 with n_components=500, coef0=0.9: KNN: 7.08%, NC: 9.96%\n",
      "Poly deg 9 with n_components=600, coef0=0.9: KNN: 7.16%, NC: 10.04%\n",
      "Poly deg 9 with n_components=700, coef0=0.9: KNN: 7.44%, NC: 9.80%\n",
      "Poly deg 9 with n_components=300, coef0=1: KNN: 7.08%, NC: 10.84%\n",
      "Poly deg 9 with n_components=400, coef0=1: KNN: 7.48%, NC: 10.44%\n",
      "Poly deg 9 with n_components=500, coef0=1: KNN: 7.20%, NC: 10.64%\n",
      "Poly deg 9 with n_components=600, coef0=1: KNN: 7.08%, NC: 10.16%\n",
      "Poly deg 9 with n_components=700, coef0=1: KNN: 7.60%, NC: 9.84%\n",
      "Poly deg 9 with n_components=300, coef0=1.1: KNN: 6.64%, NC: 10.80%\n",
      "Poly deg 9 with n_components=400, coef0=1.1: KNN: 7.24%, NC: 10.84%\n",
      "Poly deg 9 with n_components=500, coef0=1.1: KNN: 6.80%, NC: 10.96%\n",
      "Poly deg 9 with n_components=600, coef0=1.1: KNN: 6.64%, NC: 10.28%\n",
      "Poly deg 9 with n_components=700, coef0=1.1: KNN: 7.36%, NC: 9.88%\n",
      "Poly deg 9 with n_components=300, coef0=1.2: KNN: 6.40%, NC: 10.84%\n",
      "Poly deg 9 with n_components=400, coef0=1.2: KNN: 7.24%, NC: 10.96%\n",
      "Poly deg 9 with n_components=500, coef0=1.2: KNN: 6.56%, NC: 11.12%\n",
      "Poly deg 9 with n_components=600, coef0=1.2: KNN: 7.28%, NC: 10.32%\n",
      "Poly deg 9 with n_components=700, coef0=1.2: KNN: 7.32%, NC: 10.12%\n"
     ]
    }
   ],
   "source": [
    "for coef0 in [ .8, .9, 1, 1.1, 1.2 ]:\n",
    "    for n_components in [ 300, 400, 500, 600, 700 ]:\n",
    "        kpca_model = KernelPCA(n_components=n_components, kernel='poly', degree=9, coef0=coef0)\n",
    "        knn_acc, nc_acc = kpca_plus_lda(kpca_model)\n",
    "\n",
    "        print(f'Poly deg 9 with n_components={n_components}, coef0={coef0}: KNN: {100 * knn_acc:.2f}%, NC: {100 * nc_acc:.2f}%')"
   ]
  },
  {
   "cell_type": "markdown",
   "metadata": {},
   "source": [
    "Δεν παρατηρούμε μεγάλες διαφορές με το προηγούμενο.\n",
    "\n",
    "### Poly deg 11"
   ]
  },
  {
   "cell_type": "code",
   "execution_count": 52,
   "metadata": {},
   "outputs": [
    {
     "name": "stdout",
     "output_type": "stream",
     "text": [
      "Poly deg 11 with n_components=500, coef0=100: KNN: 4.96%, NC: 8.72%\n",
      "Poly deg 11 with n_components=1000, coef0=100: KNN: 4.84%, NC: 7.84%\n",
      "Poly deg 11 with n_components=1500, coef0=100: KNN: 5.72%, NC: 7.44%\n",
      "Poly deg 11 with n_components=2000, coef0=100: KNN: 5.60%, NC: 6.28%\n",
      "Poly deg 11 with n_components=2500, coef0=100: KNN: 1.96%, NC: 5.84%\n",
      "Poly deg 11 with n_components=500, coef0=10: KNN: 5.88%, NC: 10.32%\n",
      "Poly deg 11 with n_components=1000, coef0=10: KNN: 5.96%, NC: 9.08%\n",
      "Poly deg 11 with n_components=1500, coef0=10: KNN: 6.04%, NC: 8.80%\n",
      "Poly deg 11 with n_components=2000, coef0=10: KNN: 6.24%, NC: 7.84%\n",
      "Poly deg 11 with n_components=2500, coef0=10: KNN: 2.28%, NC: 5.72%\n",
      "Poly deg 11 with n_components=500, coef0=1: KNN: 7.04%, NC: 9.64%\n",
      "Poly deg 11 with n_components=1000, coef0=1: KNN: 7.68%, NC: 9.20%\n",
      "Poly deg 11 with n_components=1500, coef0=1: KNN: 7.56%, NC: 8.20%\n",
      "Poly deg 11 with n_components=2000, coef0=1: KNN: 6.84%, NC: 7.76%\n",
      "Poly deg 11 with n_components=2500, coef0=1: KNN: 1.72%, NC: 4.80%\n",
      "Poly deg 11 with n_components=500, coef0=0.1: KNN: 6.64%, NC: 6.32%\n",
      "Poly deg 11 with n_components=1000, coef0=0.1: KNN: 6.52%, NC: 5.68%\n",
      "Poly deg 11 with n_components=1500, coef0=0.1: KNN: 5.44%, NC: 5.80%\n",
      "Poly deg 11 with n_components=2000, coef0=0.1: KNN: 3.72%, NC: 5.28%\n",
      "Poly deg 11 with n_components=2500, coef0=0.1: KNN: 1.12%, NC: 1.48%\n",
      "Poly deg 11 with n_components=500, coef0=0.01: KNN: 6.64%, NC: 4.96%\n",
      "Poly deg 11 with n_components=1000, coef0=0.01: KNN: 5.40%, NC: 4.68%\n",
      "Poly deg 11 with n_components=1500, coef0=0.01: KNN: 5.16%, NC: 4.88%\n",
      "Poly deg 11 with n_components=2000, coef0=0.01: KNN: 3.00%, NC: 3.64%\n",
      "Poly deg 11 with n_components=2500, coef0=0.01: KNN: 2.20%, NC: 2.24%\n",
      "Poly deg 11 with n_components=500, coef0=0.001: KNN: 6.36%, NC: 4.84%\n",
      "Poly deg 11 with n_components=1000, coef0=0.001: KNN: 5.64%, NC: 4.68%\n",
      "Poly deg 11 with n_components=1500, coef0=0.001: KNN: 4.72%, NC: 4.68%\n",
      "Poly deg 11 with n_components=2000, coef0=0.001: KNN: 3.00%, NC: 3.60%\n",
      "Poly deg 11 with n_components=2500, coef0=0.001: KNN: 2.60%, NC: 2.60%\n"
     ]
    }
   ],
   "source": [
    "for coef0 in [ 100, 10, 1, 1e-1, 1e-2, 1e-3 ]:\n",
    "    for n_components in [ 500, 1000, 1500, 2000, 2500 ]:\n",
    "        kpca_model = KernelPCA(n_components=n_components, kernel='poly', degree=11, coef0=coef0)\n",
    "        knn_acc, nc_acc = kpca_plus_lda(kpca_model)\n",
    "\n",
    "        print(f'Poly deg 11 with n_components={n_components}, coef0={coef0}: KNN: {100 * knn_acc:.2f}%, NC: {100 * nc_acc:.2f}%')"
   ]
  },
  {
   "cell_type": "markdown",
   "metadata": {},
   "source": [
    "* `n_components=500, coef0=10: KNN: 5.88%, NC: 10.32%`\n",
    "* `n_components=500, coef0=1: KNN: 7.04%, NC: 9.64%`"
   ]
  },
  {
   "cell_type": "code",
   "execution_count": 59,
   "metadata": {},
   "outputs": [
    {
     "name": "stdout",
     "output_type": "stream",
     "text": [
      "Poly deg 11 with n_components=300, coef0=0.5: KNN: 7.32%, NC: 9.24%\n",
      "Poly deg 11 with n_components=400, coef0=0.5: KNN: 7.64%, NC: 8.88%\n",
      "Poly deg 11 with n_components=500, coef0=0.5: KNN: 7.72%, NC: 8.40%\n",
      "Poly deg 11 with n_components=600, coef0=0.5: KNN: 7.72%, NC: 8.24%\n",
      "Poly deg 11 with n_components=700, coef0=0.5: KNN: 7.56%, NC: 8.16%\n",
      "Poly deg 11 with n_components=300, coef0=1: KNN: 7.80%, NC: 10.44%\n",
      "Poly deg 11 with n_components=400, coef0=1: KNN: 7.32%, NC: 9.48%\n",
      "Poly deg 11 with n_components=500, coef0=1: KNN: 7.04%, NC: 9.64%\n",
      "Poly deg 11 with n_components=600, coef0=1: KNN: 7.12%, NC: 9.52%\n",
      "Poly deg 11 with n_components=700, coef0=1: KNN: 7.52%, NC: 9.72%\n",
      "Poly deg 11 with n_components=300, coef0=3: KNN: 5.32%, NC: 12.12%\n",
      "Poly deg 11 with n_components=400, coef0=3: KNN: 5.92%, NC: 10.60%\n",
      "Poly deg 11 with n_components=500, coef0=3: KNN: 6.12%, NC: 10.96%\n",
      "Poly deg 11 with n_components=600, coef0=3: KNN: 6.48%, NC: 10.80%\n",
      "Poly deg 11 with n_components=700, coef0=3: KNN: 6.84%, NC: 10.20%\n",
      "Poly deg 11 with n_components=300, coef0=5: KNN: 5.24%, NC: 11.36%\n",
      "Poly deg 11 with n_components=400, coef0=5: KNN: 5.28%, NC: 11.16%\n",
      "Poly deg 11 with n_components=500, coef0=5: KNN: 6.08%, NC: 10.68%\n",
      "Poly deg 11 with n_components=600, coef0=5: KNN: 6.48%, NC: 10.68%\n",
      "Poly deg 11 with n_components=700, coef0=5: KNN: 6.68%, NC: 10.12%\n",
      "Poly deg 11 with n_components=300, coef0=7: KNN: 5.20%, NC: 11.28%\n",
      "Poly deg 11 with n_components=400, coef0=7: KNN: 5.24%, NC: 11.12%\n",
      "Poly deg 11 with n_components=500, coef0=7: KNN: 6.20%, NC: 10.44%\n",
      "Poly deg 11 with n_components=600, coef0=7: KNN: 5.96%, NC: 10.64%\n",
      "Poly deg 11 with n_components=700, coef0=7: KNN: 6.48%, NC: 10.12%\n",
      "Poly deg 11 with n_components=300, coef0=10: KNN: 5.16%, NC: 10.88%\n",
      "Poly deg 11 with n_components=400, coef0=10: KNN: 5.08%, NC: 10.60%\n",
      "Poly deg 11 with n_components=500, coef0=10: KNN: 5.88%, NC: 10.32%\n",
      "Poly deg 11 with n_components=600, coef0=10: KNN: 5.52%, NC: 10.04%\n",
      "Poly deg 11 with n_components=700, coef0=10: KNN: 6.32%, NC: 9.44%\n",
      "Poly deg 11 with n_components=300, coef0=12: KNN: 5.16%, NC: 10.56%\n",
      "Poly deg 11 with n_components=400, coef0=12: KNN: 4.92%, NC: 10.44%\n",
      "Poly deg 11 with n_components=500, coef0=12: KNN: 5.52%, NC: 10.04%\n",
      "Poly deg 11 with n_components=600, coef0=12: KNN: 5.48%, NC: 10.12%\n",
      "Poly deg 11 with n_components=700, coef0=12: KNN: 5.64%, NC: 9.20%\n"
     ]
    }
   ],
   "source": [
    "for coef0 in [ 0.5, 1, 3, 5, 7, 10, 12 ]:\n",
    "    for n_components in [ 300, 400, 500, 600, 700 ]:\n",
    "        kpca_model = KernelPCA(n_components=n_components, kernel='poly', degree=11, coef0=coef0)\n",
    "        knn_acc, nc_acc = kpca_plus_lda(kpca_model)\n",
    "\n",
    "        print(f'Poly deg 11 with n_components={n_components}, coef0={coef0}: KNN: {100 * knn_acc:.2f}%, NC: {100 * nc_acc:.2f}%')"
   ]
  },
  {
   "cell_type": "markdown",
   "metadata": {},
   "source": [
    "`n_components=300, coef0=3: KNN: 5.32%, NC: 12.12%`"
   ]
  },
  {
   "cell_type": "markdown",
   "metadata": {},
   "source": [
    "## Σύνοψη\n",
    "Συλλέγω τις καλύτερες παραμέτρους από όλα τα kernels και τα τρέχω στο test set."
   ]
  },
  {
   "cell_type": "code",
   "execution_count": 64,
   "metadata": {},
   "outputs": [
    {
     "name": "stdout",
     "output_type": "stream",
     "text": [
      "Accuracies on the test data.\n",
      "KPCA RBF: KNN: 7.53%, NCC: 10.67%\n",
      "KPCA poly deg 2: KNN: 5.81%, NCC: 10.72%\n",
      "KPCA poly deg 3: KNN: 6.66%, NCC: 10.80%\n",
      "KPCA poly deg 5: KNN: 5.94%, NCC: 11.44%\n",
      "KPCA poly deg 7: KNN: 6.34%, NCC: 11.13%\n",
      "KPCA poly deg 9: KNN: 7.22%, NCC: 10.89%\n",
      "KPCA poly deg 11: KNN: 5.94%, NCC: 11.32%\n"
     ]
    }
   ],
   "source": [
    "def kpca_plus_lda_test(kpca_model, lda_model_in=None):\n",
    "    X_train_kpca = kpca_model.fit_transform(X_train)\n",
    "    X_test_kpca = kpca_model.transform(X_test)\n",
    "    \n",
    "    lda_model = lda_model_in if lda_model_in is not None else LinearDiscriminantAnalysis()\n",
    "    \n",
    "    X_train_lda = lda_model.fit_transform(X_train_kpca, y_train)\n",
    "    X_test_lda = lda_model.transform(X_test_kpca)\n",
    "    \n",
    "    knn = KNeighborsClassifier(n_neighbors=5)\n",
    "    knn.fit(X_train_lda, y_train)\n",
    "\n",
    "    y_pred = knn.predict(X_test_lda)\n",
    "    knn_acc = accuracy_score(y_pred, y_test)\n",
    "\n",
    "    nc = NearestCentroid()\n",
    "    nc.fit(X_train_lda, y_train)\n",
    "\n",
    "    y_pred = nc.predict(X_test_lda)\n",
    "    nc_acc = accuracy_score(y_pred, y_test)\n",
    "    \n",
    "    return knn_acc, nc_acc\n",
    "\n",
    "print('Accuracies on the test data.')\n",
    "\n",
    "kpca_rbf = KernelPCA(n_components=900, kernel='rbf', gamma=0.0012)\n",
    "knn_acc, nc_acc = kpca_plus_lda_test(kpca_rbf)\n",
    "print(f'KPCA RBF: KNN: {100 * knn_acc:.2f}%, NCC: {100 * nc_acc:.2f}%')\n",
    "\n",
    "kpca_poly2 = KernelPCA(n_components=400, kernel='poly', degree=2, coef0=0.007)\n",
    "knn_acc, nc_acc = kpca_plus_lda_test(kpca_poly2)\n",
    "print(f'KPCA poly deg 2: KNN: {100 * knn_acc:.2f}%, NCC: {100 * nc_acc:.2f}%')\n",
    "\n",
    "kpca_poly3 = KernelPCA(n_components=400, kernel='poly', degree=3, coef0=0.09)\n",
    "knn_acc, nc_acc = kpca_plus_lda_test(kpca_poly3)\n",
    "print(f'KPCA poly deg 3: KNN: {100 * knn_acc:.2f}%, NCC: {100 * nc_acc:.2f}%')\n",
    "\n",
    "kpca_poly5 = KernelPCA(n_components=300, kernel='poly', degree=5, coef0=0.9)\n",
    "knn_acc, nc_acc = kpca_plus_lda_test(kpca_poly5)\n",
    "print(f'KPCA poly deg 5: KNN: {100 * knn_acc:.2f}%, NCC: {100 * nc_acc:.2f}%')\n",
    "\n",
    "kpca_poly7 = KernelPCA(n_components=400, kernel='poly', degree=7, coef0=1)\n",
    "knn_acc, nc_acc = kpca_plus_lda_test(kpca_poly7)\n",
    "print(f'KPCA poly deg 7: KNN: {100 * knn_acc:.2f}%, NCC: {100 * nc_acc:.2f}%')\n",
    "\n",
    "kpca_poly9 = KernelPCA(n_components=500, kernel='poly', degree=9, coef0=1)\n",
    "knn_acc, nc_acc = kpca_plus_lda_test(kpca_poly9)\n",
    "print(f'KPCA poly deg 9: KNN: {100 * knn_acc:.2f}%, NCC: {100 * nc_acc:.2f}%')\n",
    "\n",
    "kpca_poly11 = KernelPCA(n_components=300, kernel='poly', degree=11, coef0=3)\n",
    "knn_acc, nc_acc = kpca_plus_lda_test(kpca_poly11)\n",
    "print(f'KPCA poly deg 11: KNN: {100 * knn_acc:.2f}%, NCC: {100 * nc_acc:.2f}%')\n",
    "\n"
   ]
  },
  {
   "cell_type": "markdown",
   "metadata": {},
   "source": [
    "Πίνακας αποτελεσμάτων για το CIFAR-10 στα test data:\n",
    "\n",
    "| Kernel      | KNN Acc    | NCC Acc  |\n",
    "| :---        | ---    | ---    |\n",
    "| original    | 7.15% | 8.79% |\n",
    "| PCA         | 7.71% | 8.68% |\n",
    "| PCA+LDA     | 6.58% | 11.06% |\n",
    "| Poly deg 2  | 5.81% | 10.72% |\n",
    "| Poly deg 3  | 6.66% | 10.80% |\n",
    "| Poly deg 5  | 5.94% | 11.44% |\n",
    "| Poly deg 7  | 6.34% | 11.13% |\n",
    "| Poly deg 9  | 7.22% | 10.89% |\n",
    "| Poly deg 11 | 5.94% | 11.32% |\n",
    "| RBF         | 7.53% | 10.67% |"
   ]
  },
  {
   "cell_type": "markdown",
   "metadata": {},
   "source": [
    "## Σύγκριση με SVM\n",
    "Δοκιμάζω μερικά SVM για σύγκριση:"
   ]
  },
  {
   "cell_type": "code",
   "execution_count": 65,
   "metadata": {},
   "outputs": [],
   "source": [
    "from sklearn.svm import SVC\n",
    "\n",
    "def train_test_SVM(model):\n",
    "    model.fit(X_train, y_train)\n",
    "    y_pred = model.predict(X_val)\n",
    "    \n",
    "    return accuracy_score(y_pred, y_val)"
   ]
  },
  {
   "cell_type": "code",
   "execution_count": 66,
   "metadata": {},
   "outputs": [
    {
     "name": "stdout",
     "output_type": "stream",
     "text": [
      "Linear SVM: 10.95%\n"
     ]
    }
   ],
   "source": [
    "linear_svc = SVC(kernel='linear')\n",
    "linear_svc.fit(X_train, y_train) # same results for any C\n",
    "\n",
    "y_pred = linear_svc.predict(X_test)\n",
    "acc = accuracy_score(y_pred, y_test)\n",
    "print(f'Linear SVM: {100 * acc:.2f}%')"
   ]
  },
  {
   "cell_type": "code",
   "execution_count": 71,
   "metadata": {},
   "outputs": [
    {
     "name": "stdout",
     "output_type": "stream",
     "text": [
      "RBF SVM with gamma=scale, C=0.001: 0.92%\n",
      "RBF SVM with gamma=scale, C=0.01: 0.92%\n",
      "RBF SVM with gamma=scale, C=0.1: 0.92%\n",
      "RBF SVM with gamma=scale, C=1: 11.48%\n",
      "RBF SVM with gamma=scale, C=10: 13.72%\n",
      "RBF SVM with gamma=scale, C=100: 13.68%\n",
      "RBF SVM with gamma=scale, C=1000.0: 13.68%\n",
      "RBF SVM with gamma=auto, C=0.001: 0.92%\n",
      "RBF SVM with gamma=auto, C=0.01: 0.92%\n",
      "RBF SVM with gamma=auto, C=0.1: 0.92%\n",
      "RBF SVM with gamma=auto, C=1: 3.32%\n",
      "RBF SVM with gamma=auto, C=10: 12.20%\n",
      "RBF SVM with gamma=auto, C=100: 12.68%\n",
      "RBF SVM with gamma=auto, C=1000.0: 12.16%\n"
     ]
    }
   ],
   "source": [
    "for gamma in ['scale', 'auto']:\n",
    "    for C in [1e-3, 1e-2, .1, 1, 10, 100, 1e3]:\n",
    "        rbf_svc = SVC(kernel='rbf', gamma=gamma, C=C)\n",
    "        \n",
    "        acc = train_test_SVM(rbf_svc)\n",
    "        print(f'RBF SVM with gamma={gamma}, C={C}: {100 * acc:.2f}%')        \n"
   ]
  },
  {
   "cell_type": "code",
   "execution_count": 70,
   "metadata": {},
   "outputs": [
    {
     "name": "stdout",
     "output_type": "stream",
     "text": [
      "RBF SVM with gamma=0.1, C=1: 0.92%\n",
      "RBF SVM with gamma=0.1, C=10: 0.92%\n",
      "RBF SVM with gamma=0.1, C=100: 0.92%\n",
      "RBF SVM with gamma=0.1, C=1000.0: 0.92%\n",
      "RBF SVM with gamma=0.1, C=10000.0: 0.92%\n",
      "RBF SVM with gamma=0.01, C=1: 11.44%\n",
      "RBF SVM with gamma=0.01, C=10: 12.68%\n",
      "RBF SVM with gamma=0.01, C=100: 12.68%\n",
      "RBF SVM with gamma=0.01, C=1000.0: 12.68%\n",
      "RBF SVM with gamma=0.01, C=10000.0: 12.68%\n",
      "RBF SVM with gamma=0.001, C=1: 8.00%\n",
      "RBF SVM with gamma=0.001, C=10: 13.56%\n",
      "RBF SVM with gamma=0.001, C=100: 13.20%\n",
      "RBF SVM with gamma=0.001, C=1000.0: 13.16%\n",
      "RBF SVM with gamma=0.001, C=10000.0: 13.16%\n",
      "RBF SVM with gamma=0.0001, C=1: 1.44%\n",
      "RBF SVM with gamma=0.0001, C=10: 8.24%\n",
      "RBF SVM with gamma=0.0001, C=100: 12.96%\n",
      "RBF SVM with gamma=0.0001, C=1000.0: 12.60%\n",
      "RBF SVM with gamma=0.0001, C=10000.0: 12.52%\n",
      "RBF SVM with gamma=1e-05, C=1: 0.92%\n",
      "RBF SVM with gamma=1e-05, C=10: 1.56%\n",
      "RBF SVM with gamma=1e-05, C=100: 8.44%\n",
      "RBF SVM with gamma=1e-05, C=1000.0: 12.48%\n",
      "RBF SVM with gamma=1e-05, C=10000.0: 12.12%\n"
     ]
    }
   ],
   "source": [
    "for gamma in [.1, 1e-2, 1e-3, 1e-4, 1e-5]:\n",
    "    for C in [1, 10, 100, 1e3, 1e4]:\n",
    "        rbf_svc = SVC(kernel='rbf', gamma=gamma, C=C)\n",
    "        \n",
    "        acc = train_test_SVM(rbf_svc)\n",
    "        print(f'RBF SVM with gamma={gamma}, C={C}: {100 * acc:.2f}%')    "
   ]
  },
  {
   "cell_type": "markdown",
   "metadata": {},
   "source": [
    "`gamma=0.001, C=10: 13.56%`"
   ]
  },
  {
   "cell_type": "code",
   "execution_count": 72,
   "metadata": {},
   "outputs": [
    {
     "name": "stdout",
     "output_type": "stream",
     "text": [
      "RBF SVM with gamma=0.0006, C=6: 12.52%\n",
      "RBF SVM with gamma=0.0006, C=8: 13.16%\n",
      "RBF SVM with gamma=0.0006, C=10: 13.08%\n",
      "RBF SVM with gamma=0.0006, C=12: 13.36%\n",
      "RBF SVM with gamma=0.0006, C=14: 13.40%\n",
      "RBF SVM with gamma=0.0008, C=6: 13.04%\n",
      "RBF SVM with gamma=0.0008, C=8: 13.12%\n",
      "RBF SVM with gamma=0.0008, C=10: 13.32%\n",
      "RBF SVM with gamma=0.0008, C=12: 13.52%\n",
      "RBF SVM with gamma=0.0008, C=14: 13.92%\n",
      "RBF SVM with gamma=0.001, C=6: 13.32%\n",
      "RBF SVM with gamma=0.001, C=8: 13.40%\n",
      "RBF SVM with gamma=0.001, C=10: 13.56%\n",
      "RBF SVM with gamma=0.001, C=12: 13.68%\n",
      "RBF SVM with gamma=0.001, C=14: 13.40%\n",
      "RBF SVM with gamma=0.0012, C=6: 13.52%\n",
      "RBF SVM with gamma=0.0012, C=8: 13.60%\n",
      "RBF SVM with gamma=0.0012, C=10: 13.60%\n",
      "RBF SVM with gamma=0.0012, C=12: 13.20%\n",
      "RBF SVM with gamma=0.0012, C=14: 13.48%\n",
      "RBF SVM with gamma=0.0014, C=6: 13.84%\n",
      "RBF SVM with gamma=0.0014, C=8: 13.88%\n",
      "RBF SVM with gamma=0.0014, C=10: 13.48%\n",
      "RBF SVM with gamma=0.0014, C=12: 13.32%\n",
      "RBF SVM with gamma=0.0014, C=14: 13.48%\n"
     ]
    }
   ],
   "source": [
    "for gamma in [.0006, .0008, .001, .0012, .0014]:\n",
    "    for C in [6, 8, 10, 12, 14]:\n",
    "        rbf_svc = SVC(kernel='rbf', gamma=gamma, C=C)\n",
    "        \n",
    "        acc = train_test_SVM(rbf_svc)\n",
    "        print(f'RBF SVM with gamma={gamma}, C={C}: {100 * acc:.2f}%')    "
   ]
  },
  {
   "cell_type": "markdown",
   "metadata": {},
   "source": [
    "`gamma=0.0014, C=8: 13.88%`"
   ]
  },
  {
   "cell_type": "code",
   "execution_count": 73,
   "metadata": {},
   "outputs": [
    {
     "name": "stdout",
     "output_type": "stream",
     "text": [
      "RBF SVM with gamma=0.0014, C=8: 13.44%\n"
     ]
    }
   ],
   "source": [
    "rbf_svc = SVC(kernel='rbf', gamma=0.0014, C=8)\n",
    "rbf_svc.fit(X_train, y_train) # same results for any C\n",
    "\n",
    "y_pred = rbf_svc.predict(X_test)\n",
    "acc = accuracy_score(y_pred, y_test)\n",
    "print(f'RBF SVM with gamma=0.0014, C=8: {100 * acc:.2f}%')"
   ]
  },
  {
   "cell_type": "code",
   "execution_count": null,
   "metadata": {},
   "outputs": [],
   "source": []
  }
 ],
 "metadata": {
  "kernelspec": {
   "display_name": "Python 3",
   "language": "python",
   "name": "python3"
  },
  "language_info": {
   "codemirror_mode": {
    "name": "ipython",
    "version": 3
   },
   "file_extension": ".py",
   "mimetype": "text/x-python",
   "name": "python",
   "nbconvert_exporter": "python",
   "pygments_lexer": "ipython3",
   "version": "3.8.3"
  }
 },
 "nbformat": 4,
 "nbformat_minor": 4
}
