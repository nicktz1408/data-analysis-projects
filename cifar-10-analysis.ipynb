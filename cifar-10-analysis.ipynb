{
 "cells": [
  {
   "cell_type": "markdown",
   "metadata": {},
   "source": [
    "Σε αυτό το notebook κάνω ανάλυση των συνόλων δεδομένων CIFAR-10 με την χρήση της μεθόδου KPCA+LDA. Πριν ξεκινήσω με την ανάλυση, εξηγώ μερικά πράγματα για την KPCA+LDA και τον τρόπο που θα λειτουργήσω κατά την ανάλυση.\n",
    "\n",
    "Η ιδέα της KPCA+LDA είναι πρώτα να εφαρμόσουμε KPCA και να ρίξουμε την διάσταση των δεδομένων έτσι ώστε να μειωθεί η ασήμαντη πληροφορία. Έπειτα, στον χώρο KPCA που προκύπτει, εφαρμόζουμε LDA για να εξάγουμε ακόμη περισσότερη πληροφορία για τα δεδομένα μας. Στο ομώνυμο paper, οι Jian Yang, et. all. αποδεικνύουνε ότι τα παραπάνω βήματα είναι αντοίστοιχα με την χρήση KFD και θεωρούν ότι η εφαρμογή KPCA+LDA κάνει ακριβώς το ίδιο πράγμα με την Kernel Discriminant Analysis.\n",
    "\n",
    "Θεωρώ σαν benchmark το accuracy score των Nearest Neighbor και Nearest Class Centroid στον αρχικό χώρο των δεδομένων, καθώς και σε χώρο PCA όπου κρατάω το 90% της πληροφορίας. Έπειτα, λειτουργώ παρόμοια με τα SVM, εφαρμόζοντας γραμμικό (PCA+LDA), πολυωνυμικό και RBF kernel στον μετασχηματισμό KPCA+LDA και καταγράφοντας τις αποδόσεις των 2 μοντέλων σε κάθε περίπτωση. Για την επιλογή των υπερπαραμέτρων (gamme στον RBF και coef0 στον poly, καθώς και num_components), χρησιμοποιώ 2D search, δοκιμάζοντας αρχικά πολύ μεγάλες τιμές και μικραίνω το εύρος τιμών ανάλογα με τα αποτελέσματα που παίρνω κάθε φορα. Για το LDA, αφήνω default την τελική διάσταση.\n",
    "\n",
    "# CIFAR-10 analysis using KPCA+LDA\n",
    "## Dataset import and preprocess\n",
    "Χρησιμοποιώ τις οδηγίες στην ιστοσελίδα https://www.cs.toronto.edu/~kriz/cifar.html για την εγκατάσταση και φόρτωμα των δεδομένων του CIFAR-10 και CIFAR-100. Κάνω ένα απλό απλό min-max scaling των τιμών των δεδομένων στο $[0, 1]$."
   ]
  },
  {
   "cell_type": "code",
   "execution_count": 16,
   "metadata": {},
   "outputs": [],
   "source": [
    "import pickle\n",
    "\n",
    "def unpickle(file):\n",
    "    with open(file, 'rb') as fo:\n",
    "        dict = pickle.load(fo, encoding='bytes')\n",
    "    return dict\n",
    "\n",
    "def get_batch_data(filename):\n",
    "    decoded_data = unpickle(filename)\n",
    "    \n",
    "    return decoded_data[bytes('data', 'utf-8')], decoded_data[bytes('labels', 'utf-8')]\n",
    "\n",
    "def combine_data_from_files(filenames_list):\n",
    "    data = []\n",
    "    labels = []\n",
    "    \n",
    "    for filename in filenames_list:\n",
    "        curr_data, curr_labels = get_batch_data(filename)\n",
    "        \n",
    "        data.extend(curr_data)\n",
    "        labels.extend(curr_labels)\n",
    "    \n",
    "    return data, labels"
   ]
  },
  {
   "cell_type": "code",
   "execution_count": 17,
   "metadata": {},
   "outputs": [],
   "source": [
    "batch_filenames = [ 'cifar10/data_batch_1', 'cifar10/data_batch_2', 'cifar10/data_batch_3',\n",
    "                    'cifar10/data_batch_4', 'cifar10/data_batch_5']\n",
    "\n",
    "train_data, train_labels = combine_data_from_files(batch_filenames)\n",
    "test_data, test_labels = get_batch_data('cifar10/test_batch')"
   ]
  },
  {
   "cell_type": "code",
   "execution_count": 20,
   "metadata": {},
   "outputs": [],
   "source": [
    "import numpy as np"
   ]
  },
  {
   "cell_type": "code",
   "execution_count": 61,
   "metadata": {},
   "outputs": [],
   "source": [
    "X, y = np.array(train_data), np.array(train_labels)\n",
    "X_test, y_test = np.array(test_data), np.array(test_labels)"
   ]
  },
  {
   "cell_type": "markdown",
   "metadata": {},
   "source": [
    "Λόγω μεγέθους το dataset, χρησιμοποιώ 5.000 δεδομένα για training και άλλα 5.000 για validation."
   ]
  },
  {
   "cell_type": "code",
   "execution_count": 62,
   "metadata": {},
   "outputs": [],
   "source": [
    "from sklearn.model_selection import train_test_split\n",
    "\n",
    "used_dataset_size = 5000 # amount of samples to retain\n",
    "\n",
    "X, _, y, _ = train_test_split(X, y, train_size=used_dataset_size) \n",
    "\n",
    "X_train, X_val, y_train, y_val = train_test_split(X, y, train_size=.5) # 50-50 split"
   ]
  },
  {
   "cell_type": "code",
   "execution_count": 63,
   "metadata": {},
   "outputs": [
    {
     "name": "stdout",
     "output_type": "stream",
     "text": [
      "(2500, 3072) (2500,) (2500, 3072) (2500,) (10000, 3072) (10000,)\n"
     ]
    }
   ],
   "source": [
    "print(X_train.shape, y_train.shape, X_val.shape, y_val.shape, X_test.shape, y_test.shape)"
   ]
  },
  {
   "cell_type": "markdown",
   "metadata": {},
   "source": [
    "Rescale:"
   ]
  },
  {
   "cell_type": "code",
   "execution_count": 64,
   "metadata": {},
   "outputs": [],
   "source": [
    "X_train, X_val, X_test = X_train / 255, X_val / 255, X_test / 255"
   ]
  },
  {
   "cell_type": "markdown",
   "metadata": {},
   "source": [
    "## Analysis\n",
    "Ξεικάω με την εφαρμογή ΚΝΝ (με $k=5$) και NearestCentroid στον αρχικό χώρο και σε απλό PCA με διατήρηση 90\\% της πληροφορίας."
   ]
  },
  {
   "cell_type": "code",
   "execution_count": 65,
   "metadata": {},
   "outputs": [],
   "source": [
    "from sklearn.neighbors import KNeighborsClassifier, NearestCentroid\n",
    "from sklearn.metrics import accuracy_score"
   ]
  },
  {
   "cell_type": "code",
   "execution_count": 66,
   "metadata": {},
   "outputs": [
    {
     "name": "stdout",
     "output_type": "stream",
     "text": [
      "KNN: 0.2522\n",
      "NC: 0.2694\n"
     ]
    }
   ],
   "source": [
    "knn = KNeighborsClassifier(n_neighbors=5)\n",
    "knn.fit(X_train, y_train)\n",
    "\n",
    "y_pred = knn.predict(X_test)\n",
    "print(f'KNN: {accuracy_score(y_pred, y_test)}')\n",
    "\n",
    "nc = NearestCentroid()\n",
    "nc.fit(X_train, y_train)\n",
    "\n",
    "y_pred = nc.predict(X_test)\n",
    "print(f'NC: {accuracy_score(y_pred, y_test)}')"
   ]
  },
  {
   "cell_type": "code",
   "execution_count": 67,
   "metadata": {},
   "outputs": [
    {
     "name": "stdout",
     "output_type": "stream",
     "text": [
      "KNN: 0.2745\n",
      "NC: 0.2697\n"
     ]
    }
   ],
   "source": [
    "from sklearn.decomposition import PCA\n",
    "\n",
    "pca = PCA(n_components=0.9)\n",
    "\n",
    "X_train_pca = pca.fit_transform(X_train)\n",
    "X_test_pca = pca.transform(X_test)\n",
    "\n",
    "knn = KNeighborsClassifier(n_neighbors=5)\n",
    "knn.fit(X_train_pca, y_train)\n",
    "\n",
    "y_pred = knn.predict(X_test_pca)\n",
    "print(f'KNN: {accuracy_score(y_pred, y_test)}')\n",
    "\n",
    "nc = NearestCentroid()\n",
    "nc.fit(X_train_pca, y_train)\n",
    "\n",
    "y_pred = nc.predict(X_test_pca)\n",
    "print(f'NC: {accuracy_score(y_pred, y_test)}')"
   ]
  },
  {
   "cell_type": "markdown",
   "metadata": {},
   "source": [
    "Παρατηρούμε μια μικρή βελτίωση της απόδοσης του ΚΝΝ στον χώρο του PCA."
   ]
  },
  {
   "cell_type": "code",
   "execution_count": 76,
   "metadata": {},
   "outputs": [],
   "source": [
    "from sklearn.decomposition import KernelPCA\n",
    "from sklearn.discriminant_analysis import LinearDiscriminantAnalysis\n",
    "\n",
    "def kpca_plus_lda(kpca_model, lda_model_in=None):\n",
    "    X_train_kpca = kpca_model.fit_transform(X_train)\n",
    "    X_val_kpca = kpca_model.transform(X_val)\n",
    "    \n",
    "    lda_model = lda_model_in if lda_model_in is not None else LinearDiscriminantAnalysis()\n",
    "    \n",
    "    X_train_lda = lda_model.fit_transform(X_train_kpca, y_train)\n",
    "    X_val_lda = lda_model.transform(X_val_kpca)\n",
    "    \n",
    "    knn = KNeighborsClassifier(n_neighbors=5)\n",
    "    knn.fit(X_train_lda, y_train)\n",
    "\n",
    "    y_pred = knn.predict(X_val_lda)\n",
    "    knn_acc = accuracy_score(y_pred, y_val)\n",
    "\n",
    "    nc = NearestCentroid()\n",
    "    nc.fit(X_train_lda, y_train)\n",
    "\n",
    "    y_pred = nc.predict(X_val_lda)\n",
    "    nc_acc = accuracy_score(y_pred, y_val)\n",
    "    \n",
    "    return knn_acc, nc_acc"
   ]
  },
  {
   "cell_type": "markdown",
   "metadata": {},
   "source": [
    "### PCA + LDA\n",
    "Ξεκινάω με δοκιμή της απλής περίπτωσης PCA + LDA"
   ]
  },
  {
   "cell_type": "code",
   "execution_count": 72,
   "metadata": {},
   "outputs": [
    {
     "name": "stdout",
     "output_type": "stream",
     "text": [
      "PCA + LDA:\n",
      "KNN: 0.3072\n",
      "NC: 0.3544\n"
     ]
    }
   ],
   "source": [
    "pca_model = PCA(n_components=.9)\n",
    "\n",
    "print('PCA + LDA:')\n",
    "\n",
    "lda_model = LinearDiscriminantAnalysis()\n",
    "\n",
    "X_train_lda = lda_model.fit_transform(X_train_pca, y_train)\n",
    "X_test_lda = lda_model.transform(X_test_pca)\n",
    "\n",
    "knn = KNeighborsClassifier(n_neighbors=5)\n",
    "knn.fit(X_train_lda, y_train)\n",
    "\n",
    "y_pred = knn.predict(X_test_lda)\n",
    "print(f'KNN: {accuracy_score(y_pred, y_test)}')\n",
    "\n",
    "nc = NearestCentroid()\n",
    "nc.fit(X_train_lda, y_train)\n",
    "\n",
    "y_pred = nc.predict(X_test_lda)\n",
    "print(f'NC: {accuracy_score(y_pred, y_test)}')"
   ]
  },
  {
   "cell_type": "markdown",
   "metadata": {},
   "source": [
    "Παρατηρούμε ήδη πολύ καλύ βελτίωση σε σχέση με την απλή PCA.\n",
    "\n",
    "### RBF Kernel\n",
    "Δοκιμάζω αρικά με μεγάλες τιμές:"
   ]
  },
  {
   "cell_type": "code",
   "execution_count": 79,
   "metadata": {},
   "outputs": [
    {
     "name": "stdout",
     "output_type": "stream",
     "text": [
      "RBF with n_components=500, gamma=1: KNN: 9.56%, NC: 9.56%\n",
      "RBF with n_components=1000, gamma=1: KNN: 10.08%, NC: 9.44%\n",
      "RBF with n_components=1500, gamma=1: KNN: 10.68%, NC: 10.08%\n",
      "RBF with n_components=2000, gamma=1: KNN: 9.36%, NC: 9.36%\n",
      "RBF with n_components=2500, gamma=1: KNN: 9.36%, NC: 10.48%\n",
      "RBF with n_components=500, gamma=0.1: KNN: 11.20%, NC: 11.12%\n",
      "RBF with n_components=1000, gamma=0.1: KNN: 9.72%, NC: 11.20%\n",
      "RBF with n_components=1500, gamma=0.1: KNN: 10.64%, NC: 10.20%\n",
      "RBF with n_components=2000, gamma=0.1: KNN: 10.52%, NC: 10.12%\n",
      "RBF with n_components=2500, gamma=0.1: KNN: 11.08%, NC: 15.32%\n",
      "RBF with n_components=500, gamma=0.01: KNN: 38.28%, NC: 41.56%\n",
      "RBF with n_components=1000, gamma=0.01: KNN: 38.12%, NC: 40.64%\n",
      "RBF with n_components=1500, gamma=0.01: KNN: 36.80%, NC: 38.32%\n",
      "RBF with n_components=2000, gamma=0.01: KNN: 37.80%, NC: 36.04%\n",
      "RBF with n_components=2500, gamma=0.01: KNN: 20.44%, NC: 28.76%\n",
      "RBF with n_components=500, gamma=0.001: KNN: 36.88%, NC: 38.72%\n",
      "RBF with n_components=1000, gamma=0.001: KNN: 37.32%, NC: 39.08%\n",
      "RBF with n_components=1500, gamma=0.001: KNN: 37.08%, NC: 38.04%\n",
      "RBF with n_components=2000, gamma=0.001: KNN: 35.72%, NC: 36.24%\n",
      "RBF with n_components=2500, gamma=0.001: KNN: 19.60%, NC: 26.24%\n",
      "RBF with n_components=500, gamma=0.0001: KNN: 33.40%, NC: 34.48%\n",
      "RBF with n_components=1000, gamma=0.0001: KNN: 33.32%, NC: 34.32%\n",
      "RBF with n_components=1500, gamma=0.0001: KNN: 32.24%, NC: 32.24%\n",
      "RBF with n_components=2000, gamma=0.0001: KNN: 31.96%, NC: 32.36%\n",
      "RBF with n_components=2500, gamma=0.0001: KNN: 16.92%, NC: 22.80%\n",
      "RBF with n_components=500, gamma=1e-05: KNN: 30.36%, NC: 32.08%\n",
      "RBF with n_components=1000, gamma=1e-05: KNN: 28.68%, NC: 29.72%\n",
      "RBF with n_components=1500, gamma=1e-05: KNN: 28.08%, NC: 28.32%\n",
      "RBF with n_components=2000, gamma=1e-05: KNN: 25.84%, NC: 26.36%\n",
      "RBF with n_components=2500, gamma=1e-05: KNN: 15.36%, NC: 22.80%\n"
     ]
    }
   ],
   "source": [
    "for gamma in [ 1, 1e-1, 1e-2, 1e-3, 1e-4, 1e-5 ]:\n",
    "    for n_components in [ 500, 1000, 1500, 2000, 2500 ]:\n",
    "        kpca_model = KernelPCA(n_components=n_components, kernel='rbf', gamma=gamma)\n",
    "        knn_acc, nc_acc = kpca_plus_lda(kpca_model)\n",
    "        \n",
    "        print(f'RBF with n_components={n_components}, gamma={gamma}: KNN: {100 * knn_acc:.2f}%, NC: {100 * nc_acc:.2f}%')\n"
   ]
  },
  {
   "cell_type": "markdown",
   "metadata": {},
   "source": [
    "Πολύ καλή απόδοση παίρνουμε για `n_components=500, gamma=0.01` με `KNN: 38.28%, NC: 41.56%`. Δοκιμάζω ένα ακόμη grid search."
   ]
  },
  {
   "cell_type": "code",
   "execution_count": 81,
   "metadata": {},
   "outputs": [
    {
     "name": "stdout",
     "output_type": "stream",
     "text": [
      "RBF with n_components=700, gamma=0.005: KNN: 40.52%, NC: 41.60%\n",
      "RBF with n_components=600, gamma=0.005: KNN: 39.28%, NC: 41.56%\n",
      "RBF with n_components=500, gamma=0.005: KNN: 38.92%, NC: 41.08%\n",
      "RBF with n_components=400, gamma=0.005: KNN: 38.36%, NC: 40.36%\n",
      "RBF with n_components=300, gamma=0.005: KNN: 38.12%, NC: 40.36%\n",
      "RBF with n_components=700, gamma=0.01: KNN: 38.84%, NC: 41.72%\n",
      "RBF with n_components=600, gamma=0.01: KNN: 37.64%, NC: 41.40%\n",
      "RBF with n_components=500, gamma=0.01: KNN: 38.28%, NC: 41.56%\n",
      "RBF with n_components=400, gamma=0.01: KNN: 38.00%, NC: 41.04%\n",
      "RBF with n_components=300, gamma=0.01: KNN: 36.56%, NC: 41.68%\n",
      "RBF with n_components=700, gamma=0.02: KNN: 29.20%, NC: 35.92%\n",
      "RBF with n_components=600, gamma=0.02: KNN: 28.88%, NC: 36.40%\n",
      "RBF with n_components=500, gamma=0.02: KNN: 27.44%, NC: 36.72%\n",
      "RBF with n_components=400, gamma=0.02: KNN: 31.24%, NC: 37.12%\n",
      "RBF with n_components=300, gamma=0.02: KNN: 29.16%, NC: 37.40%\n"
     ]
    }
   ],
   "source": [
    "for gamma in [ 0.005, 0.01, 0.02 ]:\n",
    "    for n_components in [ 700, 600, 500, 400, 300 ]:\n",
    "        kpca_model = KernelPCA(n_components=n_components, kernel='rbf', gamma=gamma)\n",
    "        knn_acc, nc_acc = kpca_plus_lda(kpca_model)\n",
    "\n",
    "        print(f'RBF with n_components={n_components}, gamma={gamma}: KNN: {100 * knn_acc:.2f}%, NC: {100 * nc_acc:.2f}%')"
   ]
  },
  {
   "cell_type": "code",
   "execution_count": 84,
   "metadata": {},
   "outputs": [
    {
     "name": "stdout",
     "output_type": "stream",
     "text": [
      "RBF with n_components=650, gamma=0.003: KNN: 38.64%, NC: 41.24%\n",
      "RBF with n_components=700, gamma=0.003: KNN: 38.80%, NC: 41.24%\n",
      "RBF with n_components=750, gamma=0.003: KNN: 39.72%, NC: 41.48%\n",
      "RBF with n_components=800, gamma=0.003: KNN: 39.48%, NC: 41.08%\n",
      "RBF with n_components=650, gamma=0.004: KNN: 39.96%, NC: 41.72%\n",
      "RBF with n_components=700, gamma=0.004: KNN: 40.40%, NC: 41.76%\n",
      "RBF with n_components=750, gamma=0.004: KNN: 40.48%, NC: 41.68%\n",
      "RBF with n_components=800, gamma=0.004: KNN: 39.24%, NC: 41.56%\n",
      "RBF with n_components=650, gamma=0.005: KNN: 38.88%, NC: 41.92%\n",
      "RBF with n_components=700, gamma=0.005: KNN: 40.52%, NC: 41.60%\n",
      "RBF with n_components=750, gamma=0.005: KNN: 39.72%, NC: 42.20%\n",
      "RBF with n_components=800, gamma=0.005: KNN: 39.92%, NC: 41.72%\n",
      "RBF with n_components=650, gamma=0.006: KNN: 38.20%, NC: 41.52%\n",
      "RBF with n_components=700, gamma=0.006: KNN: 39.60%, NC: 41.64%\n",
      "RBF with n_components=750, gamma=0.006: KNN: 39.96%, NC: 42.28%\n",
      "RBF with n_components=800, gamma=0.006: KNN: 39.84%, NC: 41.92%\n"
     ]
    }
   ],
   "source": [
    "for gamma in [ .003, .004, .005, .006 ]:\n",
    "    for n_components in [ 650, 700, 750, 800 ]:\n",
    "        kpca_model = KernelPCA(n_components=n_components, kernel='rbf', gamma=gamma)\n",
    "        knn_acc, nc_acc = kpca_plus_lda(kpca_model)\n",
    "\n",
    "        print(f'RBF with n_components={n_components}, gamma={gamma}: KNN: {100 * knn_acc:.2f}%, NC: {100 * nc_acc:.2f}%')"
   ]
  },
  {
   "cell_type": "markdown",
   "metadata": {},
   "source": [
    "Για την RBF, πολύ καλές αποδόσεις παίρνουμε για `n_components=700, gamma=0.005` με `KNN: 40.52%, NC: 41.60%`, τα οποία ξεπερνάνε το 40%.\n",
    "\n",
    "### Poly deg 2\n",
    "Συνεχίζω με ανάλυση για πολυωνυμικά κerel 2ου βαθμού."
   ]
  },
  {
   "cell_type": "code",
   "execution_count": 86,
   "metadata": {},
   "outputs": [
    {
     "name": "stdout",
     "output_type": "stream",
     "text": [
      "Poly deg 2 with n_components=500, coef0=100: KNN: 29.44%, NC: 30.40%\n",
      "Poly deg 2 with n_components=1000, coef0=100: KNN: 25.96%, NC: 27.60%\n",
      "Poly deg 2 with n_components=1500, coef0=100: KNN: 24.88%, NC: 25.16%\n",
      "Poly deg 2 with n_components=2000, coef0=100: KNN: 21.32%, NC: 21.52%\n",
      "Poly deg 2 with n_components=2500, coef0=100: KNN: 14.56%, NC: 21.44%\n",
      "Poly deg 2 with n_components=500, coef0=10: KNN: 30.80%, NC: 31.88%\n",
      "Poly deg 2 with n_components=1000, coef0=10: KNN: 29.16%, NC: 30.16%\n",
      "Poly deg 2 with n_components=1500, coef0=10: KNN: 28.96%, NC: 29.36%\n",
      "Poly deg 2 with n_components=2000, coef0=10: KNN: 27.24%, NC: 27.80%\n",
      "Poly deg 2 with n_components=2500, coef0=10: KNN: 14.52%, NC: 22.48%\n",
      "Poly deg 2 with n_components=500, coef0=1: KNN: 33.08%, NC: 34.68%\n",
      "Poly deg 2 with n_components=1000, coef0=1: KNN: 32.72%, NC: 34.04%\n",
      "Poly deg 2 with n_components=1500, coef0=1: KNN: 31.24%, NC: 32.48%\n",
      "Poly deg 2 with n_components=2000, coef0=1: KNN: 32.28%, NC: 32.40%\n",
      "Poly deg 2 with n_components=2500, coef0=1: KNN: 16.24%, NC: 22.76%\n",
      "Poly deg 2 with n_components=500, coef0=0.1: KNN: 33.20%, NC: 36.36%\n",
      "Poly deg 2 with n_components=1000, coef0=0.1: KNN: 35.28%, NC: 37.04%\n",
      "Poly deg 2 with n_components=1500, coef0=0.1: KNN: 34.24%, NC: 35.04%\n",
      "Poly deg 2 with n_components=2000, coef0=0.1: KNN: 32.48%, NC: 33.36%\n",
      "Poly deg 2 with n_components=2500, coef0=0.1: KNN: 15.72%, NC: 21.60%\n",
      "Poly deg 2 with n_components=500, coef0=0.01: KNN: 34.32%, NC: 36.60%\n",
      "Poly deg 2 with n_components=1000, coef0=0.01: KNN: 35.36%, NC: 37.68%\n",
      "Poly deg 2 with n_components=1500, coef0=0.01: KNN: 34.80%, NC: 35.20%\n",
      "Poly deg 2 with n_components=2000, coef0=0.01: KNN: 34.44%, NC: 34.04%\n",
      "Poly deg 2 with n_components=2500, coef0=0.01: KNN: 16.20%, NC: 21.00%\n",
      "Poly deg 2 with n_components=500, coef0=0.001: KNN: 34.56%, NC: 36.80%\n",
      "Poly deg 2 with n_components=1000, coef0=0.001: KNN: 34.08%, NC: 37.24%\n",
      "Poly deg 2 with n_components=1500, coef0=0.001: KNN: 34.52%, NC: 35.12%\n",
      "Poly deg 2 with n_components=2000, coef0=0.001: KNN: 33.04%, NC: 33.40%\n",
      "Poly deg 2 with n_components=2500, coef0=0.001: KNN: 16.32%, NC: 20.84%\n"
     ]
    }
   ],
   "source": [
    "for coef0 in [ 100, 10, 1, 1e-1, 1e-2, 1e-3 ]:\n",
    "    for n_components in [ 500, 1000, 1500, 2000, 2500 ]:\n",
    "        kpca_model = KernelPCA(n_components=n_components, kernel='poly', degree=2, coef0=coef0)\n",
    "        knn_acc, nc_acc = kpca_plus_lda(kpca_model)\n",
    "\n",
    "        print(f'Poly deg 2 with n_components={n_components}, coef0={coef0}: KNN: {100 * knn_acc:.2f}%, NC: {100 * nc_acc:.2f}%')"
   ]
  },
  {
   "cell_type": "markdown",
   "metadata": {},
   "source": [
    "* `n_components=1000, coef0=0.1: KNN: 35.28%, NC: 37.04%`\n",
    "* `n_components=1000, coef0=0.01: KNN: 35.36%, NC: 37.68%`"
   ]
  },
  {
   "cell_type": "code",
   "execution_count": 87,
   "metadata": {},
   "outputs": [
    {
     "name": "stdout",
     "output_type": "stream",
     "text": [
      "Poly deg 2 with n_components=800, coef0=0.005: KNN: 34.20%, NC: 38.04%\n",
      "Poly deg 2 with n_components=900, coef0=0.005: KNN: 35.52%, NC: 37.32%\n",
      "Poly deg 2 with n_components=1000, coef0=0.005: KNN: 34.84%, NC: 37.72%\n",
      "Poly deg 2 with n_components=1100, coef0=0.005: KNN: 34.80%, NC: 37.04%\n",
      "Poly deg 2 with n_components=1200, coef0=0.005: KNN: 35.92%, NC: 36.72%\n",
      "Poly deg 2 with n_components=800, coef0=0.01: KNN: 34.28%, NC: 37.80%\n",
      "Poly deg 2 with n_components=900, coef0=0.01: KNN: 35.00%, NC: 37.56%\n",
      "Poly deg 2 with n_components=1000, coef0=0.01: KNN: 35.36%, NC: 37.68%\n",
      "Poly deg 2 with n_components=1100, coef0=0.01: KNN: 34.88%, NC: 36.96%\n",
      "Poly deg 2 with n_components=1200, coef0=0.01: KNN: 35.24%, NC: 36.48%\n",
      "Poly deg 2 with n_components=800, coef0=0.04: KNN: 34.68%, NC: 37.60%\n",
      "Poly deg 2 with n_components=900, coef0=0.04: KNN: 35.52%, NC: 37.44%\n",
      "Poly deg 2 with n_components=1000, coef0=0.04: KNN: 35.52%, NC: 37.16%\n",
      "Poly deg 2 with n_components=1100, coef0=0.04: KNN: 35.20%, NC: 36.84%\n",
      "Poly deg 2 with n_components=1200, coef0=0.04: KNN: 36.00%, NC: 36.44%\n",
      "Poly deg 2 with n_components=800, coef0=0.07: KNN: 34.96%, NC: 37.52%\n",
      "Poly deg 2 with n_components=900, coef0=0.07: KNN: 34.76%, NC: 37.48%\n",
      "Poly deg 2 with n_components=1000, coef0=0.07: KNN: 35.24%, NC: 37.64%\n",
      "Poly deg 2 with n_components=1100, coef0=0.07: KNN: 35.52%, NC: 37.16%\n",
      "Poly deg 2 with n_components=1200, coef0=0.07: KNN: 35.40%, NC: 36.48%\n",
      "Poly deg 2 with n_components=800, coef0=0.1: KNN: 34.80%, NC: 37.04%\n",
      "Poly deg 2 with n_components=900, coef0=0.1: KNN: 34.64%, NC: 37.28%\n",
      "Poly deg 2 with n_components=1000, coef0=0.1: KNN: 35.28%, NC: 37.04%\n",
      "Poly deg 2 with n_components=1100, coef0=0.1: KNN: 35.44%, NC: 36.84%\n",
      "Poly deg 2 with n_components=1200, coef0=0.1: KNN: 35.28%, NC: 36.40%\n",
      "Poly deg 2 with n_components=800, coef0=0.13: KNN: 34.96%, NC: 37.04%\n",
      "Poly deg 2 with n_components=900, coef0=0.13: KNN: 34.24%, NC: 37.40%\n",
      "Poly deg 2 with n_components=1000, coef0=0.13: KNN: 35.36%, NC: 36.92%\n",
      "Poly deg 2 with n_components=1100, coef0=0.13: KNN: 34.88%, NC: 37.00%\n",
      "Poly deg 2 with n_components=1200, coef0=0.13: KNN: 35.32%, NC: 36.20%\n"
     ]
    }
   ],
   "source": [
    "for coef0 in [ .005, .01, .04, .07, .1, .13 ]:\n",
    "    for n_components in [ 800, 900, 1000, 1100, 1200 ]:\n",
    "        kpca_model = KernelPCA(n_components=n_components, kernel='poly', degree=2, coef0=coef0)\n",
    "        knn_acc, nc_acc = kpca_plus_lda(kpca_model)\n",
    "\n",
    "        print(f'Poly deg 2 with n_components={n_components}, coef0={coef0}: KNN: {100 * knn_acc:.2f}%, NC: {100 * nc_acc:.2f}%')"
   ]
  },
  {
   "cell_type": "markdown",
   "metadata": {},
   "source": [
    "Γενικά δεν υπάρχουν μεγάλες διαφορές για τις παραπάνω τιμές. Σε μερικά έχουμε καλή ακρίβεια για το ΚΝΝ και σε άλλα για το NCC.\n",
    "\n",
    "### Poly deg 3\n",
    "Δοκιμάζω το ίδιο με πολυώνυμα 3ου βαθμού."
   ]
  },
  {
   "cell_type": "code",
   "execution_count": 89,
   "metadata": {},
   "outputs": [
    {
     "name": "stdout",
     "output_type": "stream",
     "text": [
      "Poly deg 3 with n_components=500, coef0=100: KNN: 29.48%, NC: 30.68%\n",
      "Poly deg 3 with n_components=1000, coef0=100: KNN: 26.76%, NC: 27.88%\n",
      "Poly deg 3 with n_components=1500, coef0=100: KNN: 26.64%, NC: 26.68%\n",
      "Poly deg 3 with n_components=2000, coef0=100: KNN: 22.84%, NC: 23.12%\n",
      "Poly deg 3 with n_components=2500, coef0=100: KNN: 14.52%, NC: 21.72%\n",
      "Poly deg 3 with n_components=500, coef0=10: KNN: 29.40%, NC: 32.28%\n",
      "Poly deg 3 with n_components=1000, coef0=10: KNN: 30.48%, NC: 31.44%\n",
      "Poly deg 3 with n_components=1500, coef0=10: KNN: 30.04%, NC: 30.40%\n",
      "Poly deg 3 with n_components=2000, coef0=10: KNN: 28.32%, NC: 29.64%\n",
      "Poly deg 3 with n_components=2500, coef0=10: KNN: 15.88%, NC: 22.92%\n",
      "Poly deg 3 with n_components=500, coef0=1: KNN: 33.44%, NC: 35.48%\n",
      "Poly deg 3 with n_components=1000, coef0=1: KNN: 34.92%, NC: 35.80%\n",
      "Poly deg 3 with n_components=1500, coef0=1: KNN: 33.36%, NC: 34.32%\n",
      "Poly deg 3 with n_components=2000, coef0=1: KNN: 32.60%, NC: 33.84%\n",
      "Poly deg 3 with n_components=2500, coef0=1: KNN: 16.40%, NC: 22.72%\n",
      "Poly deg 3 with n_components=500, coef0=0.1: KNN: 35.96%, NC: 37.68%\n",
      "Poly deg 3 with n_components=1000, coef0=0.1: KNN: 35.92%, NC: 38.36%\n",
      "Poly deg 3 with n_components=1500, coef0=0.1: KNN: 36.08%, NC: 36.40%\n",
      "Poly deg 3 with n_components=2000, coef0=0.1: KNN: 34.72%, NC: 34.28%\n",
      "Poly deg 3 with n_components=2500, coef0=0.1: KNN: 15.96%, NC: 22.16%\n",
      "Poly deg 3 with n_components=500, coef0=0.01: KNN: 34.88%, NC: 37.40%\n",
      "Poly deg 3 with n_components=1000, coef0=0.01: KNN: 36.20%, NC: 37.24%\n",
      "Poly deg 3 with n_components=1500, coef0=0.01: KNN: 35.84%, NC: 35.88%\n",
      "Poly deg 3 with n_components=2000, coef0=0.01: KNN: 33.96%, NC: 33.84%\n",
      "Poly deg 3 with n_components=2500, coef0=0.01: KNN: 17.24%, NC: 19.92%\n",
      "Poly deg 3 with n_components=500, coef0=0.001: KNN: 34.24%, NC: 36.52%\n",
      "Poly deg 3 with n_components=1000, coef0=0.001: KNN: 36.92%, NC: 36.40%\n",
      "Poly deg 3 with n_components=1500, coef0=0.001: KNN: 35.12%, NC: 35.28%\n",
      "Poly deg 3 with n_components=2000, coef0=0.001: KNN: 32.72%, NC: 32.64%\n",
      "Poly deg 3 with n_components=2500, coef0=0.001: KNN: 16.00%, NC: 18.80%\n"
     ]
    }
   ],
   "source": [
    "for coef0 in [ 100, 10, 1, 1e-1, 1e-2, 1e-3 ]:\n",
    "    for n_components in [ 500, 1000, 1500, 2000, 2500 ]:\n",
    "        kpca_model = KernelPCA(n_components=n_components, kernel='poly', degree=3, coef0=coef0)\n",
    "        knn_acc, nc_acc = kpca_plus_lda(kpca_model)\n",
    "\n",
    "        print(f'Poly deg 3 with n_components={n_components}, coef0={coef0}: KNN: {100 * knn_acc:.2f}%, NC: {100 * nc_acc:.2f}%')"
   ]
  },
  {
   "cell_type": "markdown",
   "metadata": {},
   "source": [
    "`n_components=1000, coef0=0.001: KNN: 36.92%, NC: 36.40%`"
   ]
  },
  {
   "cell_type": "code",
   "execution_count": 90,
   "metadata": {},
   "outputs": [
    {
     "name": "stdout",
     "output_type": "stream",
     "text": [
      "Poly deg 3 with n_components=800, coef0=0.0008: KNN: 34.88%, NC: 37.20%\n",
      "Poly deg 3 with n_components=900, coef0=0.0008: KNN: 34.52%, NC: 36.72%\n",
      "Poly deg 3 with n_components=1000, coef0=0.0008: KNN: 36.76%, NC: 36.52%\n",
      "Poly deg 3 with n_components=1100, coef0=0.0008: KNN: 35.12%, NC: 36.68%\n",
      "Poly deg 3 with n_components=1200, coef0=0.0008: KNN: 35.56%, NC: 35.84%\n",
      "Poly deg 3 with n_components=800, coef0=0.0009: KNN: 34.64%, NC: 37.16%\n",
      "Poly deg 3 with n_components=900, coef0=0.0009: KNN: 34.76%, NC: 36.56%\n",
      "Poly deg 3 with n_components=1000, coef0=0.0009: KNN: 36.80%, NC: 36.44%\n",
      "Poly deg 3 with n_components=1100, coef0=0.0009: KNN: 34.84%, NC: 36.80%\n",
      "Poly deg 3 with n_components=1200, coef0=0.0009: KNN: 35.72%, NC: 35.96%\n",
      "Poly deg 3 with n_components=800, coef0=0.001: KNN: 34.48%, NC: 37.12%\n",
      "Poly deg 3 with n_components=900, coef0=0.001: KNN: 34.96%, NC: 36.96%\n",
      "Poly deg 3 with n_components=1000, coef0=0.001: KNN: 36.92%, NC: 36.40%\n",
      "Poly deg 3 with n_components=1100, coef0=0.001: KNN: 34.80%, NC: 36.84%\n",
      "Poly deg 3 with n_components=1200, coef0=0.001: KNN: 35.72%, NC: 35.88%\n",
      "Poly deg 3 with n_components=800, coef0=0.0011: KNN: 34.32%, NC: 37.04%\n",
      "Poly deg 3 with n_components=900, coef0=0.0011: KNN: 35.00%, NC: 36.96%\n",
      "Poly deg 3 with n_components=1000, coef0=0.0011: KNN: 36.76%, NC: 36.40%\n",
      "Poly deg 3 with n_components=1100, coef0=0.0011: KNN: 35.12%, NC: 36.80%\n",
      "Poly deg 3 with n_components=1200, coef0=0.0011: KNN: 35.68%, NC: 35.84%\n",
      "Poly deg 3 with n_components=800, coef0=0.0012: KNN: 34.64%, NC: 36.96%\n",
      "Poly deg 3 with n_components=900, coef0=0.0012: KNN: 35.12%, NC: 36.96%\n",
      "Poly deg 3 with n_components=1000, coef0=0.0012: KNN: 36.84%, NC: 36.40%\n",
      "Poly deg 3 with n_components=1100, coef0=0.0012: KNN: 35.28%, NC: 36.80%\n",
      "Poly deg 3 with n_components=1200, coef0=0.0012: KNN: 35.88%, NC: 35.84%\n"
     ]
    }
   ],
   "source": [
    "for coef0 in [ .0008, .0009, .001, .0011, .0012 ]:\n",
    "    for n_components in [ 800, 900, 1000, 1100, 1200 ]:\n",
    "        kpca_model = KernelPCA(n_components=n_components, kernel='poly', degree=3, coef0=coef0)\n",
    "        knn_acc, nc_acc = kpca_plus_lda(kpca_model)\n",
    "\n",
    "        print(f'Poly deg 3 with n_components={n_components}, coef0={coef0}: KNN: {100 * knn_acc:.2f}%, NC: {100 * nc_acc:.2f}%')"
   ]
  },
  {
   "cell_type": "markdown",
   "metadata": {},
   "source": [
    "Δεν παρατηρούμε κάποια σημαντική βελτίωση.\n",
    "\n",
    "### Poly deg 5\n",
    "Συνεχίζω με πολυωνυμικά kernel βαθμού 5."
   ]
  },
  {
   "cell_type": "code",
   "execution_count": 91,
   "metadata": {},
   "outputs": [
    {
     "name": "stdout",
     "output_type": "stream",
     "text": [
      "Poly deg 5 with n_components=500, coef0=100: KNN: 30.40%, NC: 30.92%\n",
      "Poly deg 5 with n_components=1000, coef0=100: KNN: 27.12%, NC: 28.60%\n",
      "Poly deg 5 with n_components=1500, coef0=100: KNN: 27.32%, NC: 27.36%\n",
      "Poly deg 5 with n_components=2000, coef0=100: KNN: 24.80%, NC: 25.40%\n",
      "Poly deg 5 with n_components=2500, coef0=100: KNN: 14.32%, NC: 22.08%\n",
      "Poly deg 5 with n_components=500, coef0=10: KNN: 30.28%, NC: 33.60%\n",
      "Poly deg 5 with n_components=1000, coef0=10: KNN: 31.56%, NC: 32.32%\n",
      "Poly deg 5 with n_components=1500, coef0=10: KNN: 30.36%, NC: 30.88%\n",
      "Poly deg 5 with n_components=2000, coef0=10: KNN: 30.60%, NC: 31.20%\n",
      "Poly deg 5 with n_components=2500, coef0=10: KNN: 15.40%, NC: 22.48%\n",
      "Poly deg 5 with n_components=500, coef0=1: KNN: 34.80%, NC: 37.16%\n",
      "Poly deg 5 with n_components=1000, coef0=1: KNN: 35.56%, NC: 37.44%\n",
      "Poly deg 5 with n_components=1500, coef0=1: KNN: 35.48%, NC: 35.36%\n",
      "Poly deg 5 with n_components=2000, coef0=1: KNN: 33.92%, NC: 33.84%\n",
      "Poly deg 5 with n_components=2500, coef0=1: KNN: 15.32%, NC: 22.00%\n",
      "Poly deg 5 with n_components=500, coef0=0.1: KNN: 35.68%, NC: 38.12%\n",
      "Poly deg 5 with n_components=1000, coef0=0.1: KNN: 35.68%, NC: 37.52%\n",
      "Poly deg 5 with n_components=1500, coef0=0.1: KNN: 35.76%, NC: 36.88%\n",
      "Poly deg 5 with n_components=2000, coef0=0.1: KNN: 32.32%, NC: 33.68%\n",
      "Poly deg 5 with n_components=2500, coef0=0.1: KNN: 15.24%, NC: 17.88%\n",
      "Poly deg 5 with n_components=500, coef0=0.01: KNN: 33.60%, NC: 34.72%\n",
      "Poly deg 5 with n_components=1000, coef0=0.01: KNN: 34.20%, NC: 34.08%\n",
      "Poly deg 5 with n_components=1500, coef0=0.01: KNN: 34.84%, NC: 33.48%\n",
      "Poly deg 5 with n_components=2000, coef0=0.01: KNN: 32.12%, NC: 32.00%\n",
      "Poly deg 5 with n_components=2500, coef0=0.01: KNN: 14.60%, NC: 13.00%\n",
      "Poly deg 5 with n_components=500, coef0=0.001: KNN: 32.84%, NC: 34.08%\n",
      "Poly deg 5 with n_components=1000, coef0=0.001: KNN: 34.24%, NC: 32.84%\n",
      "Poly deg 5 with n_components=1500, coef0=0.001: KNN: 33.96%, NC: 31.52%\n",
      "Poly deg 5 with n_components=2000, coef0=0.001: KNN: 32.80%, NC: 30.76%\n",
      "Poly deg 5 with n_components=2500, coef0=0.001: KNN: 14.68%, NC: 12.44%\n"
     ]
    }
   ],
   "source": [
    "for coef0 in [ 100, 10, 1, 1e-1, 1e-2, 1e-3 ]:\n",
    "    for n_components in [ 500, 1000, 1500, 2000, 2500 ]:\n",
    "        kpca_model = KernelPCA(n_components=n_components, kernel='poly', degree=5, coef0=coef0)\n",
    "        knn_acc, nc_acc = kpca_plus_lda(kpca_model)\n",
    "\n",
    "        print(f'Poly deg 5 with n_components={n_components}, coef0={coef0}: KNN: {100 * knn_acc:.2f}%, NC: {100 * nc_acc:.2f}%')"
   ]
  },
  {
   "cell_type": "markdown",
   "metadata": {},
   "source": [
    "`n_components=500, coef0=0.1: KNN: 35.68%, NC: 38.12%`"
   ]
  },
  {
   "cell_type": "code",
   "execution_count": 96,
   "metadata": {},
   "outputs": [
    {
     "name": "stdout",
     "output_type": "stream",
     "text": [
      "Poly deg 5 with n_components=400, coef0=0.09: KNN: 34.20%, NC: 38.32%\n",
      "Poly deg 5 with n_components=500, coef0=0.09: KNN: 35.76%, NC: 37.56%\n",
      "Poly deg 5 with n_components=600, coef0=0.09: KNN: 35.92%, NC: 37.80%\n",
      "Poly deg 5 with n_components=400, coef0=0.1: KNN: 34.44%, NC: 38.44%\n",
      "Poly deg 5 with n_components=500, coef0=0.1: KNN: 35.68%, NC: 38.12%\n",
      "Poly deg 5 with n_components=600, coef0=0.1: KNN: 35.32%, NC: 37.56%\n",
      "Poly deg 5 with n_components=400, coef0=0.11: KNN: 34.88%, NC: 38.60%\n",
      "Poly deg 5 with n_components=500, coef0=0.11: KNN: 35.40%, NC: 38.48%\n",
      "Poly deg 5 with n_components=600, coef0=0.11: KNN: 35.32%, NC: 37.64%\n"
     ]
    }
   ],
   "source": [
    "for coef0 in [ .09, .1, .11 ]:\n",
    "    for n_components in [ 400, 500, 600 ]:\n",
    "        kpca_model = KernelPCA(n_components=n_components, kernel='poly', degree=5, coef0=coef0)\n",
    "        knn_acc, nc_acc = kpca_plus_lda(kpca_model)\n",
    "\n",
    "        print(f'Poly deg 5 with n_components={n_components}, coef0={coef0}: KNN: {100 * knn_acc:.2f}%, NC: {100 * nc_acc:.2f}%')"
   ]
  },
  {
   "cell_type": "markdown",
   "metadata": {},
   "source": [
    "Κρατάμε το `n_components=500, coef0=0.1: KNN: 35.68%, NC: 38.12%`.\n",
    "\n",
    "### Poly deg 7"
   ]
  },
  {
   "cell_type": "code",
   "execution_count": 92,
   "metadata": {},
   "outputs": [
    {
     "name": "stdout",
     "output_type": "stream",
     "text": [
      "Poly deg 7 with n_components=500, coef0=100: KNN: 29.92%, NC: 31.24%\n",
      "Poly deg 7 with n_components=1000, coef0=100: KNN: 27.24%, NC: 29.48%\n",
      "Poly deg 7 with n_components=1500, coef0=100: KNN: 27.92%, NC: 28.16%\n",
      "Poly deg 7 with n_components=2000, coef0=100: KNN: 25.76%, NC: 26.20%\n",
      "Poly deg 7 with n_components=2500, coef0=100: KNN: 14.56%, NC: 23.00%\n",
      "Poly deg 7 with n_components=500, coef0=10: KNN: 33.40%, NC: 34.12%\n",
      "Poly deg 7 with n_components=1000, coef0=10: KNN: 32.32%, NC: 33.20%\n",
      "Poly deg 7 with n_components=1500, coef0=10: KNN: 31.52%, NC: 31.84%\n",
      "Poly deg 7 with n_components=2000, coef0=10: KNN: 32.08%, NC: 32.04%\n",
      "Poly deg 7 with n_components=2500, coef0=10: KNN: 16.48%, NC: 23.04%\n",
      "Poly deg 7 with n_components=500, coef0=1: KNN: 35.64%, NC: 37.92%\n",
      "Poly deg 7 with n_components=1000, coef0=1: KNN: 35.80%, NC: 37.88%\n",
      "Poly deg 7 with n_components=1500, coef0=1: KNN: 35.84%, NC: 36.92%\n",
      "Poly deg 7 with n_components=2000, coef0=1: KNN: 33.92%, NC: 34.00%\n",
      "Poly deg 7 with n_components=2500, coef0=1: KNN: 16.44%, NC: 22.08%\n",
      "Poly deg 7 with n_components=500, coef0=0.1: KNN: 33.80%, NC: 35.36%\n",
      "Poly deg 7 with n_components=1000, coef0=0.1: KNN: 35.20%, NC: 34.32%\n",
      "Poly deg 7 with n_components=1500, coef0=0.1: KNN: 35.08%, NC: 34.88%\n",
      "Poly deg 7 with n_components=2000, coef0=0.1: KNN: 33.44%, NC: 32.08%\n",
      "Poly deg 7 with n_components=2500, coef0=0.1: KNN: 15.32%, NC: 14.24%\n",
      "Poly deg 7 with n_components=500, coef0=0.01: KNN: 31.32%, NC: 29.60%\n",
      "Poly deg 7 with n_components=1000, coef0=0.01: KNN: 33.36%, NC: 29.92%\n",
      "Poly deg 7 with n_components=1500, coef0=0.01: KNN: 32.36%, NC: 30.12%\n",
      "Poly deg 7 with n_components=2000, coef0=0.01: KNN: 30.72%, NC: 28.92%\n",
      "Poly deg 7 with n_components=2500, coef0=0.01: KNN: 13.24%, NC: 9.88%\n",
      "Poly deg 7 with n_components=500, coef0=0.001: KNN: 31.84%, NC: 28.12%\n",
      "Poly deg 7 with n_components=1000, coef0=0.001: KNN: 32.36%, NC: 28.40%\n",
      "Poly deg 7 with n_components=1500, coef0=0.001: KNN: 31.28%, NC: 28.68%\n",
      "Poly deg 7 with n_components=2000, coef0=0.001: KNN: 31.00%, NC: 27.92%\n",
      "Poly deg 7 with n_components=2500, coef0=0.001: KNN: 11.52%, NC: 11.48%\n"
     ]
    }
   ],
   "source": [
    "for coef0 in [ 100, 10, 1, 1e-1, 1e-2, 1e-3 ]:\n",
    "    for n_components in [ 500, 1000, 1500, 2000, 2500 ]:\n",
    "        kpca_model = KernelPCA(n_components=n_components, kernel='poly', degree=7, coef0=coef0)\n",
    "        knn_acc, nc_acc = kpca_plus_lda(kpca_model)\n",
    "\n",
    "        print(f'Poly deg 7 with n_components={n_components}, coef0={coef0}: KNN: {100 * knn_acc:.2f}%, NC: {100 * nc_acc:.2f}%')"
   ]
  },
  {
   "cell_type": "markdown",
   "metadata": {},
   "source": [
    "* `n_components=500, coef0=1: KNN: 35.64%, NC: 37.92%`\n",
    "* `n_components=1000, coef0=1: KNN: 35.80%, NC: 37.88%`"
   ]
  },
  {
   "cell_type": "code",
   "execution_count": 97,
   "metadata": {},
   "outputs": [
    {
     "name": "stdout",
     "output_type": "stream",
     "text": [
      "Poly deg 7 with n_components=400, coef0=0.9: KNN: 35.20%, NC: 38.16%\n",
      "Poly deg 7 with n_components=500, coef0=0.9: KNN: 36.28%, NC: 37.84%\n",
      "Poly deg 7 with n_components=700, coef0=0.9: KNN: 35.24%, NC: 38.40%\n",
      "Poly deg 7 with n_components=850, coef0=0.9: KNN: 36.00%, NC: 38.92%\n",
      "Poly deg 7 with n_components=1000, coef0=0.9: KNN: 35.64%, NC: 37.96%\n",
      "Poly deg 7 with n_components=1100, coef0=0.9: KNN: 36.60%, NC: 38.08%\n",
      "Poly deg 7 with n_components=400, coef0=1: KNN: 35.28%, NC: 37.92%\n",
      "Poly deg 7 with n_components=500, coef0=1: KNN: 35.64%, NC: 37.92%\n",
      "Poly deg 7 with n_components=700, coef0=1: KNN: 35.16%, NC: 38.36%\n",
      "Poly deg 7 with n_components=850, coef0=1: KNN: 35.96%, NC: 38.48%\n",
      "Poly deg 7 with n_components=1000, coef0=1: KNN: 35.80%, NC: 37.88%\n",
      "Poly deg 7 with n_components=1100, coef0=1: KNN: 36.60%, NC: 37.84%\n",
      "Poly deg 7 with n_components=400, coef0=1.1: KNN: 34.96%, NC: 37.76%\n",
      "Poly deg 7 with n_components=500, coef0=1.1: KNN: 35.20%, NC: 37.40%\n",
      "Poly deg 7 with n_components=700, coef0=1.1: KNN: 35.32%, NC: 38.12%\n",
      "Poly deg 7 with n_components=850, coef0=1.1: KNN: 35.56%, NC: 38.40%\n",
      "Poly deg 7 with n_components=1000, coef0=1.1: KNN: 36.68%, NC: 38.28%\n",
      "Poly deg 7 with n_components=1100, coef0=1.1: KNN: 35.72%, NC: 37.44%\n"
     ]
    }
   ],
   "source": [
    "for coef0 in [ .9, 1, 1.1  ]:\n",
    "    for n_components in [ 400, 500, 700, 850, 1000, 1100 ]:\n",
    "        kpca_model = KernelPCA(n_components=n_components, kernel='poly', degree=7, coef0=coef0)\n",
    "        knn_acc, nc_acc = kpca_plus_lda(kpca_model)\n",
    "\n",
    "        print(f'Poly deg 7 with n_components={n_components}, coef0={coef0}: KNN: {100 * knn_acc:.2f}%, NC: {100 * nc_acc:.2f}%')"
   ]
  },
  {
   "cell_type": "code",
   "execution_count": 99,
   "metadata": {},
   "outputs": [
    {
     "name": "stdout",
     "output_type": "stream",
     "text": [
      "Poly deg 7 with n_components=1100, coef0=0.9: KNN: 36.60%, NC: 38.08%\n",
      "Poly deg 7 with n_components=1300, coef0=0.9: KNN: 36.32%, NC: 37.80%\n",
      "Poly deg 7 with n_components=1500, coef0=0.9: KNN: 36.12%, NC: 36.96%\n",
      "Poly deg 7 with n_components=1100, coef0=1: KNN: 36.60%, NC: 37.84%\n",
      "Poly deg 7 with n_components=1300, coef0=1: KNN: 36.32%, NC: 37.56%\n",
      "Poly deg 7 with n_components=1500, coef0=1: KNN: 35.84%, NC: 36.92%\n",
      "Poly deg 7 with n_components=1100, coef0=1.1: KNN: 35.72%, NC: 37.44%\n",
      "Poly deg 7 with n_components=1300, coef0=1.1: KNN: 36.16%, NC: 37.84%\n",
      "Poly deg 7 with n_components=1500, coef0=1.1: KNN: 35.84%, NC: 36.64%\n"
     ]
    }
   ],
   "source": [
    "for coef0 in [ .9, 1, 1.1  ]:\n",
    "    for n_components in [ 1100, 1300, 1500 ]:\n",
    "        kpca_model = KernelPCA(n_components=n_components, kernel='poly', degree=7, coef0=coef0)\n",
    "        knn_acc, nc_acc = kpca_plus_lda(kpca_model)\n",
    "\n",
    "        print(f'Poly deg 7 with n_components={n_components}, coef0={coef0}: KNN: {100 * knn_acc:.2f}%, NC: {100 * nc_acc:.2f}%')"
   ]
  },
  {
   "cell_type": "markdown",
   "metadata": {},
   "source": [
    "`n_components=1100, coef0=0.9: KNN: 36.60%, NC: 38.08%`"
   ]
  },
  {
   "cell_type": "markdown",
   "metadata": {},
   "source": [
    "### Poly deg 9"
   ]
  },
  {
   "cell_type": "code",
   "execution_count": 93,
   "metadata": {},
   "outputs": [
    {
     "name": "stdout",
     "output_type": "stream",
     "text": [
      "Poly deg 9 with n_components=500, coef0=100: KNN: 30.20%, NC: 31.40%\n",
      "Poly deg 9 with n_components=1000, coef0=100: KNN: 28.08%, NC: 29.88%\n",
      "Poly deg 9 with n_components=1500, coef0=100: KNN: 29.04%, NC: 28.80%\n",
      "Poly deg 9 with n_components=2000, coef0=100: KNN: 26.28%, NC: 27.00%\n",
      "Poly deg 9 with n_components=2500, coef0=100: KNN: 15.24%, NC: 22.24%\n",
      "Poly deg 9 with n_components=500, coef0=10: KNN: 33.00%, NC: 34.48%\n",
      "Poly deg 9 with n_components=1000, coef0=10: KNN: 33.24%, NC: 34.04%\n",
      "Poly deg 9 with n_components=1500, coef0=10: KNN: 31.56%, NC: 32.72%\n",
      "Poly deg 9 with n_components=2000, coef0=10: KNN: 33.12%, NC: 32.96%\n",
      "Poly deg 9 with n_components=2500, coef0=10: KNN: 15.36%, NC: 22.60%\n",
      "Poly deg 9 with n_components=500, coef0=1: KNN: 36.12%, NC: 37.96%\n",
      "Poly deg 9 with n_components=1000, coef0=1: KNN: 36.28%, NC: 38.48%\n",
      "Poly deg 9 with n_components=1500, coef0=1: KNN: 36.20%, NC: 37.12%\n",
      "Poly deg 9 with n_components=2000, coef0=1: KNN: 34.16%, NC: 34.40%\n",
      "Poly deg 9 with n_components=2500, coef0=1: KNN: 13.84%, NC: 20.92%\n",
      "Poly deg 9 with n_components=500, coef0=0.1: KNN: 32.04%, NC: 31.44%\n",
      "Poly deg 9 with n_components=1000, coef0=0.1: KNN: 33.16%, NC: 31.84%\n",
      "Poly deg 9 with n_components=1500, coef0=0.1: KNN: 33.48%, NC: 31.28%\n",
      "Poly deg 9 with n_components=2000, coef0=0.1: KNN: 30.60%, NC: 30.12%\n",
      "Poly deg 9 with n_components=2500, coef0=0.1: KNN: 13.04%, NC: 11.04%\n",
      "Poly deg 9 with n_components=500, coef0=0.01: KNN: 30.48%, NC: 25.48%\n",
      "Poly deg 9 with n_components=1000, coef0=0.01: KNN: 31.32%, NC: 27.32%\n",
      "Poly deg 9 with n_components=1500, coef0=0.01: KNN: 31.28%, NC: 27.60%\n",
      "Poly deg 9 with n_components=2000, coef0=0.01: KNN: 28.92%, NC: 26.96%\n",
      "Poly deg 9 with n_components=2500, coef0=0.01: KNN: 13.72%, NC: 13.56%\n",
      "Poly deg 9 with n_components=500, coef0=0.001: KNN: 29.68%, NC: 24.04%\n",
      "Poly deg 9 with n_components=1000, coef0=0.001: KNN: 31.24%, NC: 26.40%\n",
      "Poly deg 9 with n_components=1500, coef0=0.001: KNN: 30.72%, NC: 26.76%\n",
      "Poly deg 9 with n_components=2000, coef0=0.001: KNN: 29.36%, NC: 26.56%\n",
      "Poly deg 9 with n_components=2500, coef0=0.001: KNN: 9.52%, NC: 9.88%\n"
     ]
    }
   ],
   "source": [
    "for coef0 in [ 100, 10, 1, 1e-1, 1e-2, 1e-3 ]:\n",
    "    for n_components in [ 500, 1000, 1500, 2000, 2500 ]:\n",
    "        kpca_model = KernelPCA(n_components=n_components, kernel='poly', degree=9, coef0=coef0)\n",
    "        knn_acc, nc_acc = kpca_plus_lda(kpca_model)\n",
    "\n",
    "        print(f'Poly deg 9 with n_components={n_components}, coef0={coef0}: KNN: {100 * knn_acc:.2f}%, NC: {100 * nc_acc:.2f}%')"
   ]
  },
  {
   "cell_type": "markdown",
   "metadata": {},
   "source": [
    "`n_components=1000, coef0=1: KNN: 36.28%, NC: 38.48%`"
   ]
  },
  {
   "cell_type": "code",
   "execution_count": 98,
   "metadata": {},
   "outputs": [
    {
     "name": "stdout",
     "output_type": "stream",
     "text": [
      "Poly deg 9 with n_components=800, coef0=0.8: KNN: 35.40%, NC: 38.12%\n",
      "Poly deg 9 with n_components=900, coef0=0.8: KNN: 35.16%, NC: 38.36%\n",
      "Poly deg 9 with n_components=1000, coef0=0.8: KNN: 35.64%, NC: 38.40%\n",
      "Poly deg 9 with n_components=1100, coef0=0.8: KNN: 35.00%, NC: 38.08%\n",
      "Poly deg 9 with n_components=1200, coef0=0.8: KNN: 36.28%, NC: 38.28%\n",
      "Poly deg 9 with n_components=800, coef0=0.9: KNN: 36.28%, NC: 38.24%\n",
      "Poly deg 9 with n_components=900, coef0=0.9: KNN: 35.76%, NC: 38.44%\n",
      "Poly deg 9 with n_components=1000, coef0=0.9: KNN: 35.72%, NC: 38.56%\n",
      "Poly deg 9 with n_components=1100, coef0=0.9: KNN: 35.32%, NC: 38.12%\n",
      "Poly deg 9 with n_components=1200, coef0=0.9: KNN: 36.64%, NC: 38.40%\n",
      "Poly deg 9 with n_components=800, coef0=1: KNN: 36.00%, NC: 37.88%\n",
      "Poly deg 9 with n_components=900, coef0=1: KNN: 35.08%, NC: 38.36%\n",
      "Poly deg 9 with n_components=1000, coef0=1: KNN: 36.28%, NC: 38.48%\n",
      "Poly deg 9 with n_components=1100, coef0=1: KNN: 35.28%, NC: 38.28%\n",
      "Poly deg 9 with n_components=1200, coef0=1: KNN: 37.36%, NC: 38.44%\n",
      "Poly deg 9 with n_components=800, coef0=1.1: KNN: 36.12%, NC: 38.08%\n",
      "Poly deg 9 with n_components=900, coef0=1.1: KNN: 35.72%, NC: 38.20%\n",
      "Poly deg 9 with n_components=1000, coef0=1.1: KNN: 35.32%, NC: 38.12%\n",
      "Poly deg 9 with n_components=1100, coef0=1.1: KNN: 35.68%, NC: 38.16%\n",
      "Poly deg 9 with n_components=1200, coef0=1.1: KNN: 36.92%, NC: 38.68%\n",
      "Poly deg 9 with n_components=800, coef0=1.2: KNN: 36.76%, NC: 38.20%\n",
      "Poly deg 9 with n_components=900, coef0=1.2: KNN: 35.72%, NC: 38.24%\n",
      "Poly deg 9 with n_components=1000, coef0=1.2: KNN: 36.04%, NC: 38.00%\n",
      "Poly deg 9 with n_components=1100, coef0=1.2: KNN: 36.32%, NC: 38.12%\n",
      "Poly deg 9 with n_components=1200, coef0=1.2: KNN: 36.76%, NC: 38.48%\n"
     ]
    }
   ],
   "source": [
    "for coef0 in [ .8, .9, 1, 1.1, 1.2 ]:\n",
    "    for n_components in [ 800, 900, 1000, 1100, 1200 ]:\n",
    "        kpca_model = KernelPCA(n_components=n_components, kernel='poly', degree=9, coef0=coef0)\n",
    "        knn_acc, nc_acc = kpca_plus_lda(kpca_model)\n",
    "\n",
    "        print(f'Poly deg 9 with n_components={n_components}, coef0={coef0}: KNN: {100 * knn_acc:.2f}%, NC: {100 * nc_acc:.2f}%')"
   ]
  },
  {
   "cell_type": "markdown",
   "metadata": {},
   "source": [
    "`n_components=1200, coef0=1.2: KNN: 36.76%, NC: 38.48%`\n",
    "\n",
    "### Poly deg 11"
   ]
  },
  {
   "cell_type": "code",
   "execution_count": 94,
   "metadata": {},
   "outputs": [
    {
     "name": "stdout",
     "output_type": "stream",
     "text": [
      "Poly deg 11 with n_components=500, coef0=100: KNN: 30.56%, NC: 31.64%\n",
      "Poly deg 11 with n_components=1000, coef0=100: KNN: 29.04%, NC: 30.24%\n",
      "Poly deg 11 with n_components=1500, coef0=100: KNN: 28.88%, NC: 29.04%\n",
      "Poly deg 11 with n_components=2000, coef0=100: KNN: 27.44%, NC: 27.92%\n",
      "Poly deg 11 with n_components=2500, coef0=100: KNN: 16.28%, NC: 22.72%\n",
      "Poly deg 11 with n_components=500, coef0=10: KNN: 32.68%, NC: 34.80%\n",
      "Poly deg 11 with n_components=1000, coef0=10: KNN: 33.20%, NC: 34.72%\n",
      "Poly deg 11 with n_components=1500, coef0=10: KNN: 31.88%, NC: 33.56%\n",
      "Poly deg 11 with n_components=2000, coef0=10: KNN: 32.72%, NC: 33.08%\n",
      "Poly deg 11 with n_components=2500, coef0=10: KNN: 15.56%, NC: 22.08%\n",
      "Poly deg 11 with n_components=500, coef0=1: KNN: 34.60%, NC: 37.40%\n",
      "Poly deg 11 with n_components=1000, coef0=1: KNN: 35.20%, NC: 38.28%\n",
      "Poly deg 11 with n_components=1500, coef0=1: KNN: 36.44%, NC: 37.16%\n",
      "Poly deg 11 with n_components=2000, coef0=1: KNN: 33.84%, NC: 34.12%\n",
      "Poly deg 11 with n_components=2500, coef0=1: KNN: 14.80%, NC: 19.28%\n",
      "Poly deg 11 with n_components=500, coef0=0.1: KNN: 30.80%, NC: 27.32%\n",
      "Poly deg 11 with n_components=1000, coef0=0.1: KNN: 31.92%, NC: 29.24%\n",
      "Poly deg 11 with n_components=1500, coef0=0.1: KNN: 31.68%, NC: 29.04%\n",
      "Poly deg 11 with n_components=2000, coef0=0.1: KNN: 30.08%, NC: 28.04%\n",
      "Poly deg 11 with n_components=2500, coef0=0.1: KNN: 11.64%, NC: 10.32%\n",
      "Poly deg 11 with n_components=500, coef0=0.01: KNN: 28.60%, NC: 23.00%\n",
      "Poly deg 11 with n_components=1000, coef0=0.01: KNN: 31.32%, NC: 25.52%\n",
      "Poly deg 11 with n_components=1500, coef0=0.01: KNN: 29.36%, NC: 25.76%\n",
      "Poly deg 11 with n_components=2000, coef0=0.01: KNN: 28.60%, NC: 25.92%\n",
      "Poly deg 11 with n_components=2500, coef0=0.01: KNN: 19.16%, NC: 19.72%\n",
      "Poly deg 11 with n_components=500, coef0=0.001: KNN: 27.88%, NC: 21.60%\n",
      "Poly deg 11 with n_components=1000, coef0=0.001: KNN: 31.40%, NC: 24.40%\n",
      "Poly deg 11 with n_components=1500, coef0=0.001: KNN: 29.72%, NC: 25.48%\n",
      "Poly deg 11 with n_components=2000, coef0=0.001: KNN: 27.32%, NC: 25.68%\n",
      "Poly deg 11 with n_components=2500, coef0=0.001: KNN: 19.08%, NC: 19.56%\n"
     ]
    }
   ],
   "source": [
    "for coef0 in [ 100, 10, 1, 1e-1, 1e-2, 1e-3 ]:\n",
    "    for n_components in [ 500, 1000, 1500, 2000, 2500 ]:\n",
    "        kpca_model = KernelPCA(n_components=n_components, kernel='poly', degree=11, coef0=coef0)\n",
    "        knn_acc, nc_acc = kpca_plus_lda(kpca_model)\n",
    "\n",
    "        print(f'Poly deg 11 with n_components={n_components}, coef0={coef0}: KNN: {100 * knn_acc:.2f}%, NC: {100 * nc_acc:.2f}%')"
   ]
  },
  {
   "cell_type": "markdown",
   "metadata": {},
   "source": [
    "`n_components=1500, coef0=1: KNN: 36.44%, NC: 37.16%`"
   ]
  },
  {
   "cell_type": "code",
   "execution_count": 100,
   "metadata": {},
   "outputs": [
    {
     "name": "stdout",
     "output_type": "stream",
     "text": [
      "Poly deg 11 with n_components=1300, coef0=0.8: KNN: 36.08%, NC: 37.44%\n",
      "Poly deg 11 with n_components=1500, coef0=0.8: KNN: 35.96%, NC: 37.44%\n",
      "Poly deg 11 with n_components=1700, coef0=0.8: KNN: 34.64%, NC: 35.88%\n",
      "Poly deg 11 with n_components=1300, coef0=0.9: KNN: 36.08%, NC: 37.76%\n",
      "Poly deg 11 with n_components=1500, coef0=0.9: KNN: 34.84%, NC: 37.24%\n",
      "Poly deg 11 with n_components=1700, coef0=0.9: KNN: 35.08%, NC: 35.68%\n",
      "Poly deg 11 with n_components=1300, coef0=1: KNN: 36.68%, NC: 38.32%\n",
      "Poly deg 11 with n_components=1500, coef0=1: KNN: 36.44%, NC: 37.16%\n",
      "Poly deg 11 with n_components=1700, coef0=1: KNN: 35.76%, NC: 35.92%\n",
      "Poly deg 11 with n_components=1300, coef0=1.1: KNN: 36.88%, NC: 38.60%\n",
      "Poly deg 11 with n_components=1500, coef0=1.1: KNN: 35.64%, NC: 37.16%\n",
      "Poly deg 11 with n_components=1700, coef0=1.1: KNN: 35.28%, NC: 35.88%\n",
      "Poly deg 11 with n_components=1300, coef0=1.2: KNN: 36.84%, NC: 38.56%\n",
      "Poly deg 11 with n_components=1500, coef0=1.2: KNN: 36.20%, NC: 37.52%\n",
      "Poly deg 11 with n_components=1700, coef0=1.2: KNN: 35.64%, NC: 35.84%\n"
     ]
    }
   ],
   "source": [
    "for coef0 in [ .8, .9, 1, 1.1, 1.2 ]:\n",
    "    for n_components in [ 1300, 1500, 1700 ]:\n",
    "        kpca_model = KernelPCA(n_components=n_components, kernel='poly', degree=11, coef0=coef0)\n",
    "        knn_acc, nc_acc = kpca_plus_lda(kpca_model)\n",
    "\n",
    "        print(f'Poly deg 11 with n_components={n_components}, coef0={coef0}: KNN: {100 * knn_acc:.2f}%, NC: {100 * nc_acc:.2f}%')"
   ]
  },
  {
   "cell_type": "markdown",
   "metadata": {},
   "source": [
    "`n_components=1300, coef0=1.1: KNN: 36.88%, NC: 38.60%`\n",
    "\n",
    "Δεν παρατηρούμε μεγάλες βελτιώσεις από kernel μικρότερου βαθμού. Δεν εξερευνάω πολυώνυμα μεγαλύτερου βαθμού."
   ]
  },
  {
   "cell_type": "markdown",
   "metadata": {},
   "source": [
    "## Σύνοψη\n",
    "Συλλέγω τις καλύτερες παραμέτρους από όλα τα kernels και τα τρέχω στο test set."
   ]
  },
  {
   "cell_type": "code",
   "execution_count": 103,
   "metadata": {},
   "outputs": [
    {
     "name": "stdout",
     "output_type": "stream",
     "text": [
      "Accuracies on the test data.\n",
      "KPCA RBF: KNN: 39.38%, NCC: 41.26%\n",
      "KPCA poly deg 2: KNN: 35.22%, NCC: 37.19%\n",
      "KPCA poly deg 3: KNN: 35.88%, NCC: 36.50%\n",
      "KPCA poly deg 5: KNN: 34.74%, NCC: 38.06%\n",
      "KPCA poly deg 7: KNN: 35.86%, NCC: 37.12%\n",
      "KPCA poly deg 9: KNN: 35.71%, NCC: 36.77%\n",
      "KPCA poly deg 11: KNN: 35.64%, NCC: 36.97%\n"
     ]
    }
   ],
   "source": [
    "def kpca_plus_lda_test(kpca_model, lda_model_in=None):\n",
    "    X_train_kpca = kpca_model.fit_transform(X_train)\n",
    "    X_test_kpca = kpca_model.transform(X_test)\n",
    "    \n",
    "    lda_model = lda_model_in if lda_model_in is not None else LinearDiscriminantAnalysis()\n",
    "    \n",
    "    X_train_lda = lda_model.fit_transform(X_train_kpca, y_train)\n",
    "    X_test_lda = lda_model.transform(X_test_kpca)\n",
    "    \n",
    "    knn = KNeighborsClassifier(n_neighbors=5)\n",
    "    knn.fit(X_train_lda, y_train)\n",
    "\n",
    "    y_pred = knn.predict(X_test_lda)\n",
    "    knn_acc = accuracy_score(y_pred, y_test)\n",
    "\n",
    "    nc = NearestCentroid()\n",
    "    nc.fit(X_train_lda, y_train)\n",
    "\n",
    "    y_pred = nc.predict(X_test_lda)\n",
    "    nc_acc = accuracy_score(y_pred, y_test)\n",
    "    \n",
    "    return knn_acc, nc_acc\n",
    "\n",
    "print('Accuracies on the test data.')\n",
    "\n",
    "kpca_rbf = KernelPCA(n_components=700, kernel='rbf', gamma=0.005)\n",
    "knn_acc, nc_acc = kpca_plus_lda_test(kpca_rbf)\n",
    "print(f'KPCA RBF: KNN: {100 * knn_acc:.2f}%, NCC: {100 * nc_acc:.2f}%')\n",
    "\n",
    "kpca_poly2 = KernelPCA(n_components=1000, kernel='poly', degree=2, coef0=0.01)\n",
    "knn_acc, nc_acc = kpca_plus_lda_test(kpca_poly2)\n",
    "print(f'KPCA poly deg 2: KNN: {100 * knn_acc:.2f}%, NCC: {100 * nc_acc:.2f}%')\n",
    "\n",
    "kpca_poly3 = KernelPCA(n_components=1000, kernel='poly', degree=3, coef0=0.001)\n",
    "knn_acc, nc_acc = kpca_plus_lda_test(kpca_poly3)\n",
    "print(f'KPCA poly deg 3: KNN: {100 * knn_acc:.2f}%, NCC: {100 * nc_acc:.2f}%')\n",
    "\n",
    "kpca_poly5 = KernelPCA(n_components=500, kernel='poly', degree=5, coef0=0.1)\n",
    "knn_acc, nc_acc = kpca_plus_lda_test(kpca_poly5)\n",
    "print(f'KPCA poly deg 5: KNN: {100 * knn_acc:.2f}%, NCC: {100 * nc_acc:.2f}%')\n",
    "\n",
    "kpca_poly7 = KernelPCA(n_components=1100, kernel='poly', degree=7, coef0=0.9)\n",
    "knn_acc, nc_acc = kpca_plus_lda_test(kpca_poly7)\n",
    "print(f'KPCA poly deg 7: KNN: {100 * knn_acc:.2f}%, NCC: {100 * nc_acc:.2f}%')\n",
    "\n",
    "kpca_poly9 = KernelPCA(n_components=1200, kernel='poly', degree=9, coef0=1.2)\n",
    "knn_acc, nc_acc = kpca_plus_lda_test(kpca_poly9)\n",
    "print(f'KPCA poly deg 9: KNN: {100 * knn_acc:.2f}%, NCC: {100 * nc_acc:.2f}%')\n",
    "\n",
    "kpca_poly11 = KernelPCA(n_components=1300, kernel='poly', degree=11, coef0=1.1)\n",
    "knn_acc, nc_acc = kpca_plus_lda_test(kpca_poly11)\n",
    "print(f'KPCA poly deg 11: KNN: {100 * knn_acc:.2f}%, NCC: {100 * nc_acc:.2f}%')\n",
    "\n"
   ]
  },
  {
   "cell_type": "markdown",
   "metadata": {},
   "source": [
    "Πίνακας αποτελεσμάτων για το CIFAR-10 στα test data:\n",
    "\n",
    "| Kernel      | KNN Acc    | NCC Acc  |\n",
    "| :---        | ---    | ---    |\n",
    "| original    | 25.22% | 26.94% |\n",
    "| PCA         | 27.45% | 26.97% |\n",
    "| PCA+LDA     | 30.72% | 35.44% |\n",
    "| Poly deg 2  | 35.22% | 37.19% |\n",
    "| Poly deg 3  | 35.88% | 36.50% |\n",
    "| Poly deg 5  | 34.74% | 38.06% |\n",
    "| Poly deg 7  | 35.86% | 37.12% |\n",
    "| Poly deg 9  | 35.71% | 36.77% |\n",
    "| Poly deg 11 | 35.64% | 36.97% |\n",
    "| RBF         | 39.38% | 41.26% |"
   ]
  },
  {
   "cell_type": "markdown",
   "metadata": {},
   "source": [
    "## Σύγκριση με SVM\n",
    "Δοκιμάζω μερικά SVM για σύγκριση:"
   ]
  },
  {
   "cell_type": "code",
   "execution_count": 107,
   "metadata": {},
   "outputs": [],
   "source": [
    "from sklearn.svm import SVC"
   ]
  },
  {
   "cell_type": "code",
   "execution_count": 114,
   "metadata": {},
   "outputs": [],
   "source": [
    "def train_test_SVM(model):\n",
    "    model.fit(X_train, y_train)\n",
    "    y_pred = model.predict(X_val)\n",
    "    \n",
    "    return accuracy_score(y_pred, y_val)"
   ]
  },
  {
   "cell_type": "code",
   "execution_count": 112,
   "metadata": {},
   "outputs": [
    {
     "name": "stdout",
     "output_type": "stream",
     "text": [
      "Linear SVM: 30.58%\n"
     ]
    }
   ],
   "source": [
    "linear_svc = SVC(kernel='linear')\n",
    "linear_svc.fit(X_train, y_train) # same results for any C\n",
    "\n",
    "y_pred = linear_svc.predict(X_test)\n",
    "acc = accuracy_score(y_pred, y_test)\n",
    "print(f'Linear SVM: {100 * acc:.2f}%')"
   ]
  },
  {
   "cell_type": "code",
   "execution_count": 120,
   "metadata": {},
   "outputs": [
    {
     "name": "stdout",
     "output_type": "stream",
     "text": [
      "RBF SVM with gamma=scale, C=0.001: 10.08%\n",
      "RBF SVM with gamma=scale, C=0.01: 10.08%\n",
      "RBF SVM with gamma=scale, C=0.1: 29.56%\n",
      "RBF SVM with gamma=scale, C=1: 40.76%\n",
      "RBF SVM with gamma=scale, C=10: 40.92%\n",
      "RBF SVM with gamma=scale, C=100: 40.72%\n",
      "RBF SVM with gamma=scale, C=1000.0: 40.72%\n",
      "RBF SVM with gamma=auto, C=0.001: 10.08%\n",
      "RBF SVM with gamma=auto, C=0.01: 10.08%\n",
      "RBF SVM with gamma=auto, C=0.1: 16.24%\n",
      "RBF SVM with gamma=auto, C=1: 33.48%\n",
      "RBF SVM with gamma=auto, C=10: 37.52%\n",
      "RBF SVM with gamma=auto, C=100: 36.92%\n",
      "RBF SVM with gamma=auto, C=1000.0: 35.16%\n"
     ]
    }
   ],
   "source": [
    "for gamma in ['scale', 'auto']:\n",
    "    for C in [1e-3, 1e-2, .1, 1, 10, 100, 1e3]:\n",
    "        rbf_svc = SVC(kernel='rbf', gamma=gamma, C=C)\n",
    "        \n",
    "        acc = train_test_SVM(rbf_svc)\n",
    "        print(f'RBF SVM with gamma={gamma}, C={C}: {100 * acc:.2f}%')        \n"
   ]
  },
  {
   "cell_type": "code",
   "execution_count": 119,
   "metadata": {},
   "outputs": [
    {
     "name": "stdout",
     "output_type": "stream",
     "text": [
      "RBF SVM with gamma=0.1, C=1: 11.32%\n",
      "RBF SVM with gamma=0.1, C=10: 11.68%\n",
      "RBF SVM with gamma=0.1, C=100: 11.68%\n",
      "RBF SVM with gamma=0.1, C=1000.0: 11.68%\n",
      "RBF SVM with gamma=0.1, C=10000.0: 11.68%\n",
      "RBF SVM with gamma=0.01, C=1: 40.32%\n",
      "RBF SVM with gamma=0.01, C=10: 41.24%\n",
      "RBF SVM with gamma=0.01, C=100: 41.08%\n",
      "RBF SVM with gamma=0.01, C=1000.0: 41.08%\n",
      "RBF SVM with gamma=0.01, C=10000.0: 41.08%\n",
      "RBF SVM with gamma=0.001, C=1: 37.16%\n",
      "RBF SVM with gamma=0.001, C=10: 39.56%\n",
      "RBF SVM with gamma=0.001, C=100: 38.40%\n",
      "RBF SVM with gamma=0.001, C=1000.0: 38.48%\n",
      "RBF SVM with gamma=0.001, C=10000.0: 38.48%\n",
      "RBF SVM with gamma=0.0001, C=1: 27.32%\n",
      "RBF SVM with gamma=0.0001, C=10: 35.04%\n",
      "RBF SVM with gamma=0.0001, C=100: 36.64%\n",
      "RBF SVM with gamma=0.0001, C=1000.0: 34.12%\n",
      "RBF SVM with gamma=0.0001, C=10000.0: 33.40%\n",
      "RBF SVM with gamma=1e-05, C=1: 10.08%\n",
      "RBF SVM with gamma=1e-05, C=10: 27.28%\n",
      "RBF SVM with gamma=1e-05, C=100: 35.12%\n",
      "RBF SVM with gamma=1e-05, C=1000.0: 35.08%\n",
      "RBF SVM with gamma=1e-05, C=10000.0: 32.80%\n"
     ]
    }
   ],
   "source": [
    "for gamma in [.1, 1e-2, 1e-3, 1e-4, 1e-5]:\n",
    "    for C in [1, 10, 100, 1e3, 1e4]:\n",
    "        rbf_svc = SVC(kernel='rbf', gamma=gamma, C=C)\n",
    "        \n",
    "        acc = train_test_SVM(rbf_svc)\n",
    "        print(f'RBF SVM with gamma={gamma}, C={C}: {100 * acc:.2f}%')    "
   ]
  },
  {
   "cell_type": "markdown",
   "metadata": {},
   "source": [
    "`gamma=0.01, C=10: 41.24%`"
   ]
  },
  {
   "cell_type": "code",
   "execution_count": 122,
   "metadata": {},
   "outputs": [
    {
     "name": "stdout",
     "output_type": "stream",
     "text": [
      "RBF SVM with gamma=0.008, C=6: 41.44%\n",
      "RBF SVM with gamma=0.008, C=8: 41.48%\n",
      "RBF SVM with gamma=0.008, C=10: 41.48%\n",
      "RBF SVM with gamma=0.008, C=12: 41.60%\n",
      "RBF SVM with gamma=0.008, C=14: 41.64%\n",
      "RBF SVM with gamma=0.009, C=6: 41.76%\n",
      "RBF SVM with gamma=0.009, C=8: 41.60%\n",
      "RBF SVM with gamma=0.009, C=10: 41.84%\n",
      "RBF SVM with gamma=0.009, C=12: 41.80%\n",
      "RBF SVM with gamma=0.009, C=14: 41.72%\n",
      "RBF SVM with gamma=0.01, C=6: 41.52%\n",
      "RBF SVM with gamma=0.01, C=8: 41.40%\n",
      "RBF SVM with gamma=0.01, C=10: 41.24%\n",
      "RBF SVM with gamma=0.01, C=12: 41.20%\n",
      "RBF SVM with gamma=0.01, C=14: 41.08%\n",
      "RBF SVM with gamma=0.011, C=6: 41.80%\n",
      "RBF SVM with gamma=0.011, C=8: 41.48%\n",
      "RBF SVM with gamma=0.011, C=10: 41.44%\n",
      "RBF SVM with gamma=0.011, C=12: 41.32%\n",
      "RBF SVM with gamma=0.011, C=14: 41.32%\n",
      "RBF SVM with gamma=0.012, C=6: 41.28%\n",
      "RBF SVM with gamma=0.012, C=8: 41.08%\n",
      "RBF SVM with gamma=0.012, C=10: 41.08%\n",
      "RBF SVM with gamma=0.012, C=12: 41.04%\n",
      "RBF SVM with gamma=0.012, C=14: 41.04%\n"
     ]
    }
   ],
   "source": [
    "for gamma in [.008, .009, .01, .011, .012]:\n",
    "    for C in [6, 8, 10, 12, 14]:\n",
    "        rbf_svc = SVC(kernel='rbf', gamma=gamma, C=C)\n",
    "        \n",
    "        acc = train_test_SVM(rbf_svc)\n",
    "        print(f'RBF SVM with gamma={gamma}, C={C}: {100 * acc:.2f}%') "
   ]
  },
  {
   "cell_type": "markdown",
   "metadata": {},
   "source": [
    "`gamma=0.011, C=6: 41.80%`"
   ]
  },
  {
   "cell_type": "code",
   "execution_count": 125,
   "metadata": {},
   "outputs": [
    {
     "name": "stdout",
     "output_type": "stream",
     "text": [
      "RBF SVM with gamma=0.011, C=6: 41.19%\n"
     ]
    }
   ],
   "source": [
    "rbf_svc = SVC(kernel='rbf', gamma=0.011, C=6)\n",
    "rbf_svc.fit(X_train, y_train) # same results for any C\n",
    "\n",
    "y_pred = rbf_svc.predict(X_test)\n",
    "acc = accuracy_score(y_pred, y_test)\n",
    "print(f'RBF SVM with gamma=0.011, C=6: {100 * acc:.2f}%')"
   ]
  },
  {
   "cell_type": "code",
   "execution_count": null,
   "metadata": {},
   "outputs": [],
   "source": []
  }
 ],
 "metadata": {
  "kernelspec": {
   "display_name": "Python 3",
   "language": "python",
   "name": "python3"
  },
  "language_info": {
   "codemirror_mode": {
    "name": "ipython",
    "version": 3
   },
   "file_extension": ".py",
   "mimetype": "text/x-python",
   "name": "python",
   "nbconvert_exporter": "python",
   "pygments_lexer": "ipython3",
   "version": "3.8.3"
  }
 },
 "nbformat": 4,
 "nbformat_minor": 4
}
