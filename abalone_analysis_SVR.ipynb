{
 "cells": [
  {
   "cell_type": "markdown",
   "metadata": {
    "id": "dLGDepHohKXD"
   },
   "source": [
    "# Abalone\n",
    "Σε αυτό το notebook εφαρμόζω SVR στο dataset abalone από το UCI. Περισσότερες πληροφορίες: https://archive.ics.uci.edu/dataset/1/abalone\n",
    "\n",
    "Τα abalones είναι γαστρέποδα μαλάκια και σε αυτό το dataset, δεδομένου κάποιων εξωτερικών χαρακτηριστών αυτών των οργανισμών, προσπαθούμε να προβλέψουμε την ηλικία τους, η οποία υπολογίζεται από τον αριθμό των δακτύλιων στο κέλυφός τους (rings).\n",
    "\n",
    "Αρχικά, φορτώνω το σύνολο δεδομένων και ελέγχο τις τιμές του."
   ]
  },
  {
   "cell_type": "code",
   "execution_count": 1,
   "metadata": {
    "colab": {
     "base_uri": "https://localhost:8080/"
    },
    "id": "FrVRRrne6enZ",
    "outputId": "98d70635-0353-42ce-862a-76889aec26d2"
   },
   "outputs": [
    {
     "name": "stdout",
     "output_type": "stream",
     "text": [
      "Collecting ucimlrepo\n",
      "  Downloading ucimlrepo-0.0.7-py3-none-any.whl (8.0 kB)\n",
      "Collecting certifi>=2020.12.5\n",
      "  Downloading certifi-2024.8.30-py3-none-any.whl (167 kB)\n",
      "\u001b[K     |████████████████████████████████| 167 kB 232 kB/s eta 0:00:01\n",
      "\u001b[?25hRequirement already satisfied: pandas>=1.0.0 in /Users/nicktzavidas/anaconda3/lib/python3.8/site-packages (from ucimlrepo) (1.4.2)\n",
      "Requirement already satisfied: numpy>=1.18.5; platform_machine != \"aarch64\" and platform_machine != \"arm64\" and python_version < \"3.10\" in /Users/nicktzavidas/anaconda3/lib/python3.8/site-packages (from pandas>=1.0.0->ucimlrepo) (1.19.5)\n",
      "Requirement already satisfied: python-dateutil>=2.8.1 in /Users/nicktzavidas/anaconda3/lib/python3.8/site-packages (from pandas>=1.0.0->ucimlrepo) (2.8.1)\n",
      "Requirement already satisfied: pytz>=2020.1 in /Users/nicktzavidas/anaconda3/lib/python3.8/site-packages (from pandas>=1.0.0->ucimlrepo) (2020.1)\n",
      "Requirement already satisfied: six>=1.5 in /Users/nicktzavidas/anaconda3/lib/python3.8/site-packages (from python-dateutil>=2.8.1->pandas>=1.0.0->ucimlrepo) (1.15.0)\n",
      "Installing collected packages: certifi, ucimlrepo\n",
      "  Attempting uninstall: certifi\n",
      "    Found existing installation: certifi 2020.6.20\n",
      "    Uninstalling certifi-2020.6.20:\n",
      "      Successfully uninstalled certifi-2020.6.20\n",
      "Successfully installed certifi-2024.8.30 ucimlrepo-0.0.7\n"
     ]
    }
   ],
   "source": [
    "!pip install ucimlrepo"
   ]
  },
  {
   "cell_type": "code",
   "execution_count": 20,
   "metadata": {
    "colab": {
     "base_uri": "https://localhost:8080/"
    },
    "id": "VlmTjfP52Cck",
    "outputId": "fa2bb5d2-9ac6-4686-b5e1-ce38d4f13248"
   },
   "outputs": [
    {
     "name": "stdout",
     "output_type": "stream",
     "text": [
      "{'uci_id': 1, 'name': 'Abalone', 'repository_url': 'https://archive.ics.uci.edu/dataset/1/abalone', 'data_url': 'https://archive.ics.uci.edu/static/public/1/data.csv', 'abstract': 'Predict the age of abalone from physical measurements', 'area': 'Biology', 'tasks': ['Classification', 'Regression'], 'characteristics': ['Tabular'], 'num_instances': 4177, 'num_features': 8, 'feature_types': ['Categorical', 'Integer', 'Real'], 'demographics': [], 'target_col': ['Rings'], 'index_col': None, 'has_missing_values': 'no', 'missing_values_symbol': None, 'year_of_dataset_creation': 1994, 'last_updated': 'Mon Aug 28 2023', 'dataset_doi': '10.24432/C55C7W', 'creators': ['Warwick Nash', 'Tracy Sellers', 'Simon Talbot', 'Andrew Cawthorn', 'Wes Ford'], 'intro_paper': None, 'additional_info': {'summary': 'Predicting the age of abalone from physical measurements.  The age of abalone is determined by cutting the shell through the cone, staining it, and counting the number of rings through a microscope -- a boring and time-consuming task.  Other measurements, which are easier to obtain, are used to predict the age.  Further information, such as weather patterns and location (hence food availability) may be required to solve the problem.\\r\\n\\r\\nFrom the original data examples with missing values were removed (the majority having the predicted value missing), and the ranges of the continuous values have been scaled for use with an ANN (by dividing by 200).', 'purpose': None, 'funded_by': None, 'instances_represent': None, 'recommended_data_splits': None, 'sensitive_data': None, 'preprocessing_description': None, 'variable_info': 'Given is the attribute name, attribute type, the measurement unit and a brief description.  The number of rings is the value to predict: either as a continuous value or as a classification problem.\\r\\n\\r\\nName / Data Type / Measurement Unit / Description\\r\\n-----------------------------\\r\\nSex / nominal / -- / M, F, and I (infant)\\r\\nLength / continuous / mm / Longest shell measurement\\r\\nDiameter\\t/ continuous / mm / perpendicular to length\\r\\nHeight / continuous / mm / with meat in shell\\r\\nWhole weight / continuous / grams / whole abalone\\r\\nShucked weight / continuous\\t / grams / weight of meat\\r\\nViscera weight / continuous / grams / gut weight (after bleeding)\\r\\nShell weight / continuous / grams / after being dried\\r\\nRings / integer / -- / +1.5 gives the age in years\\r\\n\\r\\nThe readme file contains attribute statistics.', 'citation': None}}\n",
      "             name     role         type demographic  \\\n",
      "0             Sex  Feature  Categorical        None   \n",
      "1          Length  Feature   Continuous        None   \n",
      "2        Diameter  Feature   Continuous        None   \n",
      "3          Height  Feature   Continuous        None   \n",
      "4    Whole_weight  Feature   Continuous        None   \n",
      "5  Shucked_weight  Feature   Continuous        None   \n",
      "6  Viscera_weight  Feature   Continuous        None   \n",
      "7    Shell_weight  Feature   Continuous        None   \n",
      "8           Rings   Target      Integer        None   \n",
      "\n",
      "                   description  units missing_values  \n",
      "0         M, F, and I (infant)   None             no  \n",
      "1    Longest shell measurement     mm             no  \n",
      "2      perpendicular to length     mm             no  \n",
      "3           with meat in shell     mm             no  \n",
      "4                whole abalone  grams             no  \n",
      "5               weight of meat  grams             no  \n",
      "6  gut weight (after bleeding)  grams             no  \n",
      "7            after being dried  grams             no  \n",
      "8  +1.5 gives the age in years   None             no  \n"
     ]
    }
   ],
   "source": [
    "from ucimlrepo import fetch_ucirepo\n",
    "\n",
    "# fetch dataset\n",
    "abalone = fetch_ucirepo(id=1)\n",
    "\n",
    "# data (as pandas dataframes)\n",
    "X = abalone.data.features\n",
    "y = abalone.data.targets\n",
    "\n",
    "# metadata\n",
    "print(abalone.metadata)\n",
    "\n",
    "# variable information\n",
    "print(abalone.variables)"
   ]
  },
  {
   "cell_type": "code",
   "execution_count": 21,
   "metadata": {
    "colab": {
     "base_uri": "https://localhost:8080/",
     "height": 206
    },
    "id": "oF0JbePe2MJD",
    "outputId": "d5b62eed-d8da-443e-f947-48a301e8a8bd"
   },
   "outputs": [
    {
     "data": {
      "text/html": [
       "<div>\n",
       "<style scoped>\n",
       "    .dataframe tbody tr th:only-of-type {\n",
       "        vertical-align: middle;\n",
       "    }\n",
       "\n",
       "    .dataframe tbody tr th {\n",
       "        vertical-align: top;\n",
       "    }\n",
       "\n",
       "    .dataframe thead th {\n",
       "        text-align: right;\n",
       "    }\n",
       "</style>\n",
       "<table border=\"1\" class=\"dataframe\">\n",
       "  <thead>\n",
       "    <tr style=\"text-align: right;\">\n",
       "      <th></th>\n",
       "      <th>Sex</th>\n",
       "      <th>Length</th>\n",
       "      <th>Diameter</th>\n",
       "      <th>Height</th>\n",
       "      <th>Whole_weight</th>\n",
       "      <th>Shucked_weight</th>\n",
       "      <th>Viscera_weight</th>\n",
       "      <th>Shell_weight</th>\n",
       "    </tr>\n",
       "  </thead>\n",
       "  <tbody>\n",
       "    <tr>\n",
       "      <th>0</th>\n",
       "      <td>M</td>\n",
       "      <td>0.455</td>\n",
       "      <td>0.365</td>\n",
       "      <td>0.095</td>\n",
       "      <td>0.5140</td>\n",
       "      <td>0.2245</td>\n",
       "      <td>0.1010</td>\n",
       "      <td>0.150</td>\n",
       "    </tr>\n",
       "    <tr>\n",
       "      <th>1</th>\n",
       "      <td>M</td>\n",
       "      <td>0.350</td>\n",
       "      <td>0.265</td>\n",
       "      <td>0.090</td>\n",
       "      <td>0.2255</td>\n",
       "      <td>0.0995</td>\n",
       "      <td>0.0485</td>\n",
       "      <td>0.070</td>\n",
       "    </tr>\n",
       "    <tr>\n",
       "      <th>2</th>\n",
       "      <td>F</td>\n",
       "      <td>0.530</td>\n",
       "      <td>0.420</td>\n",
       "      <td>0.135</td>\n",
       "      <td>0.6770</td>\n",
       "      <td>0.2565</td>\n",
       "      <td>0.1415</td>\n",
       "      <td>0.210</td>\n",
       "    </tr>\n",
       "    <tr>\n",
       "      <th>3</th>\n",
       "      <td>M</td>\n",
       "      <td>0.440</td>\n",
       "      <td>0.365</td>\n",
       "      <td>0.125</td>\n",
       "      <td>0.5160</td>\n",
       "      <td>0.2155</td>\n",
       "      <td>0.1140</td>\n",
       "      <td>0.155</td>\n",
       "    </tr>\n",
       "    <tr>\n",
       "      <th>4</th>\n",
       "      <td>I</td>\n",
       "      <td>0.330</td>\n",
       "      <td>0.255</td>\n",
       "      <td>0.080</td>\n",
       "      <td>0.2050</td>\n",
       "      <td>0.0895</td>\n",
       "      <td>0.0395</td>\n",
       "      <td>0.055</td>\n",
       "    </tr>\n",
       "  </tbody>\n",
       "</table>\n",
       "</div>"
      ],
      "text/plain": [
       "  Sex  Length  Diameter  Height  Whole_weight  Shucked_weight  Viscera_weight  \\\n",
       "0   M   0.455     0.365   0.095        0.5140          0.2245          0.1010   \n",
       "1   M   0.350     0.265   0.090        0.2255          0.0995          0.0485   \n",
       "2   F   0.530     0.420   0.135        0.6770          0.2565          0.1415   \n",
       "3   M   0.440     0.365   0.125        0.5160          0.2155          0.1140   \n",
       "4   I   0.330     0.255   0.080        0.2050          0.0895          0.0395   \n",
       "\n",
       "   Shell_weight  \n",
       "0         0.150  \n",
       "1         0.070  \n",
       "2         0.210  \n",
       "3         0.155  \n",
       "4         0.055  "
      ]
     },
     "execution_count": 21,
     "metadata": {},
     "output_type": "execute_result"
    }
   ],
   "source": [
    "import numpy as np\n",
    "import pandas as pd\n",
    "\n",
    "X.head()"
   ]
  },
  {
   "cell_type": "code",
   "execution_count": 3,
   "metadata": {
    "colab": {
     "base_uri": "https://localhost:8080/",
     "height": 300
    },
    "id": "bFkU0j192PQW",
    "outputId": "cf0c65b0-25ae-4535-b730-d0bef95442e5"
   },
   "outputs": [
    {
     "data": {
      "text/html": [
       "<div>\n",
       "<style scoped>\n",
       "    .dataframe tbody tr th:only-of-type {\n",
       "        vertical-align: middle;\n",
       "    }\n",
       "\n",
       "    .dataframe tbody tr th {\n",
       "        vertical-align: top;\n",
       "    }\n",
       "\n",
       "    .dataframe thead th {\n",
       "        text-align: right;\n",
       "    }\n",
       "</style>\n",
       "<table border=\"1\" class=\"dataframe\">\n",
       "  <thead>\n",
       "    <tr style=\"text-align: right;\">\n",
       "      <th></th>\n",
       "      <th>Length</th>\n",
       "      <th>Diameter</th>\n",
       "      <th>Height</th>\n",
       "      <th>Whole_weight</th>\n",
       "      <th>Shucked_weight</th>\n",
       "      <th>Viscera_weight</th>\n",
       "      <th>Shell_weight</th>\n",
       "    </tr>\n",
       "  </thead>\n",
       "  <tbody>\n",
       "    <tr>\n",
       "      <th>count</th>\n",
       "      <td>4177.000000</td>\n",
       "      <td>4177.000000</td>\n",
       "      <td>4177.000000</td>\n",
       "      <td>4177.000000</td>\n",
       "      <td>4177.000000</td>\n",
       "      <td>4177.000000</td>\n",
       "      <td>4177.000000</td>\n",
       "    </tr>\n",
       "    <tr>\n",
       "      <th>mean</th>\n",
       "      <td>0.523992</td>\n",
       "      <td>0.407881</td>\n",
       "      <td>0.139516</td>\n",
       "      <td>0.828742</td>\n",
       "      <td>0.359367</td>\n",
       "      <td>0.180594</td>\n",
       "      <td>0.238831</td>\n",
       "    </tr>\n",
       "    <tr>\n",
       "      <th>std</th>\n",
       "      <td>0.120093</td>\n",
       "      <td>0.099240</td>\n",
       "      <td>0.041827</td>\n",
       "      <td>0.490389</td>\n",
       "      <td>0.221963</td>\n",
       "      <td>0.109614</td>\n",
       "      <td>0.139203</td>\n",
       "    </tr>\n",
       "    <tr>\n",
       "      <th>min</th>\n",
       "      <td>0.075000</td>\n",
       "      <td>0.055000</td>\n",
       "      <td>0.000000</td>\n",
       "      <td>0.002000</td>\n",
       "      <td>0.001000</td>\n",
       "      <td>0.000500</td>\n",
       "      <td>0.001500</td>\n",
       "    </tr>\n",
       "    <tr>\n",
       "      <th>25%</th>\n",
       "      <td>0.450000</td>\n",
       "      <td>0.350000</td>\n",
       "      <td>0.115000</td>\n",
       "      <td>0.441500</td>\n",
       "      <td>0.186000</td>\n",
       "      <td>0.093500</td>\n",
       "      <td>0.130000</td>\n",
       "    </tr>\n",
       "    <tr>\n",
       "      <th>50%</th>\n",
       "      <td>0.545000</td>\n",
       "      <td>0.425000</td>\n",
       "      <td>0.140000</td>\n",
       "      <td>0.799500</td>\n",
       "      <td>0.336000</td>\n",
       "      <td>0.171000</td>\n",
       "      <td>0.234000</td>\n",
       "    </tr>\n",
       "    <tr>\n",
       "      <th>75%</th>\n",
       "      <td>0.615000</td>\n",
       "      <td>0.480000</td>\n",
       "      <td>0.165000</td>\n",
       "      <td>1.153000</td>\n",
       "      <td>0.502000</td>\n",
       "      <td>0.253000</td>\n",
       "      <td>0.329000</td>\n",
       "    </tr>\n",
       "    <tr>\n",
       "      <th>max</th>\n",
       "      <td>0.815000</td>\n",
       "      <td>0.650000</td>\n",
       "      <td>1.130000</td>\n",
       "      <td>2.825500</td>\n",
       "      <td>1.488000</td>\n",
       "      <td>0.760000</td>\n",
       "      <td>1.005000</td>\n",
       "    </tr>\n",
       "  </tbody>\n",
       "</table>\n",
       "</div>"
      ],
      "text/plain": [
       "            Length     Diameter       Height  Whole_weight  Shucked_weight  \\\n",
       "count  4177.000000  4177.000000  4177.000000   4177.000000     4177.000000   \n",
       "mean      0.523992     0.407881     0.139516      0.828742        0.359367   \n",
       "std       0.120093     0.099240     0.041827      0.490389        0.221963   \n",
       "min       0.075000     0.055000     0.000000      0.002000        0.001000   \n",
       "25%       0.450000     0.350000     0.115000      0.441500        0.186000   \n",
       "50%       0.545000     0.425000     0.140000      0.799500        0.336000   \n",
       "75%       0.615000     0.480000     0.165000      1.153000        0.502000   \n",
       "max       0.815000     0.650000     1.130000      2.825500        1.488000   \n",
       "\n",
       "       Viscera_weight  Shell_weight  \n",
       "count     4177.000000   4177.000000  \n",
       "mean         0.180594      0.238831  \n",
       "std          0.109614      0.139203  \n",
       "min          0.000500      0.001500  \n",
       "25%          0.093500      0.130000  \n",
       "50%          0.171000      0.234000  \n",
       "75%          0.253000      0.329000  \n",
       "max          0.760000      1.005000  "
      ]
     },
     "execution_count": 3,
     "metadata": {},
     "output_type": "execute_result"
    }
   ],
   "source": [
    "X.describe()"
   ]
  },
  {
   "cell_type": "code",
   "execution_count": 4,
   "metadata": {
    "colab": {
     "base_uri": "https://localhost:8080/",
     "height": 300
    },
    "id": "VvG8DT5IisBb",
    "outputId": "7e8dcdde-c095-45f4-cead-9d00e51df38b"
   },
   "outputs": [
    {
     "data": {
      "text/html": [
       "<div>\n",
       "<style scoped>\n",
       "    .dataframe tbody tr th:only-of-type {\n",
       "        vertical-align: middle;\n",
       "    }\n",
       "\n",
       "    .dataframe tbody tr th {\n",
       "        vertical-align: top;\n",
       "    }\n",
       "\n",
       "    .dataframe thead th {\n",
       "        text-align: right;\n",
       "    }\n",
       "</style>\n",
       "<table border=\"1\" class=\"dataframe\">\n",
       "  <thead>\n",
       "    <tr style=\"text-align: right;\">\n",
       "      <th></th>\n",
       "      <th>Rings</th>\n",
       "    </tr>\n",
       "  </thead>\n",
       "  <tbody>\n",
       "    <tr>\n",
       "      <th>count</th>\n",
       "      <td>4177.000000</td>\n",
       "    </tr>\n",
       "    <tr>\n",
       "      <th>mean</th>\n",
       "      <td>9.933684</td>\n",
       "    </tr>\n",
       "    <tr>\n",
       "      <th>std</th>\n",
       "      <td>3.224169</td>\n",
       "    </tr>\n",
       "    <tr>\n",
       "      <th>min</th>\n",
       "      <td>1.000000</td>\n",
       "    </tr>\n",
       "    <tr>\n",
       "      <th>25%</th>\n",
       "      <td>8.000000</td>\n",
       "    </tr>\n",
       "    <tr>\n",
       "      <th>50%</th>\n",
       "      <td>9.000000</td>\n",
       "    </tr>\n",
       "    <tr>\n",
       "      <th>75%</th>\n",
       "      <td>11.000000</td>\n",
       "    </tr>\n",
       "    <tr>\n",
       "      <th>max</th>\n",
       "      <td>29.000000</td>\n",
       "    </tr>\n",
       "  </tbody>\n",
       "</table>\n",
       "</div>"
      ],
      "text/plain": [
       "             Rings\n",
       "count  4177.000000\n",
       "mean      9.933684\n",
       "std       3.224169\n",
       "min       1.000000\n",
       "25%       8.000000\n",
       "50%       9.000000\n",
       "75%      11.000000\n",
       "max      29.000000"
      ]
     },
     "execution_count": 4,
     "metadata": {},
     "output_type": "execute_result"
    }
   ],
   "source": [
    "y.describe()"
   ]
  },
  {
   "cell_type": "markdown",
   "metadata": {
    "id": "QaV4MPMBivwC"
   },
   "source": [
    "Έχουμε 8 ανεξάρτητες μεταβλητές, 1 κατηγοριματική και 7 αριθμητικές. Οι αριθμητικές μεταβλητές παίρνουν γενικά μικρές τιμές και θεωρώ ότι δεν χρειάζεται να κάνω κάποιο normalization. Επίσης, φαίνεται ότι δεν έχουμε ελλειπείς τιμές στο dataset.\n",
    "\n",
    "Η κατηγορηματική μεταβλητή παίρνει 3 τιμές. Για να μπορούμε να χρησιμοποιήσουμε καλύτερα μοντέλα στο dataset, εφαρμόζω one-hot-encoding και προσθέτω 3 καινούργιες δυαδικές μεταβλητές στο σύνολο δεδομένων:"
   ]
  },
  {
   "cell_type": "code",
   "execution_count": 22,
   "metadata": {
    "id": "DSwMBfvg5dUP"
   },
   "outputs": [],
   "source": [
    "from sklearn.preprocessing import OneHotEncoder\n",
    "\n",
    "one_hot = OneHotEncoder(sparse_output=False)\n",
    "one_hot_encoded = one_hot.fit_transform(X[['Sex']])\n",
    "\n",
    "one_hot_encoded_df = pd.DataFrame(one_hot_encoded, columns=one_hot.get_feature_names_out(['Sex']))\n",
    "\n",
    "X = pd.concat([X.drop('Sex', axis=1), one_hot_encoded_df], axis=1)"
   ]
  },
  {
   "cell_type": "code",
   "execution_count": 23,
   "metadata": {
    "colab": {
     "base_uri": "https://localhost:8080/",
     "height": 424
    },
    "id": "iCWxhfZ46nJM",
    "outputId": "a062d767-932f-437a-f7eb-120f42272ddc"
   },
   "outputs": [
    {
     "data": {
      "text/html": [
       "<div>\n",
       "<style scoped>\n",
       "    .dataframe tbody tr th:only-of-type {\n",
       "        vertical-align: middle;\n",
       "    }\n",
       "\n",
       "    .dataframe tbody tr th {\n",
       "        vertical-align: top;\n",
       "    }\n",
       "\n",
       "    .dataframe thead th {\n",
       "        text-align: right;\n",
       "    }\n",
       "</style>\n",
       "<table border=\"1\" class=\"dataframe\">\n",
       "  <thead>\n",
       "    <tr style=\"text-align: right;\">\n",
       "      <th></th>\n",
       "      <th>Length</th>\n",
       "      <th>Diameter</th>\n",
       "      <th>Height</th>\n",
       "      <th>Whole_weight</th>\n",
       "      <th>Shucked_weight</th>\n",
       "      <th>Viscera_weight</th>\n",
       "      <th>Shell_weight</th>\n",
       "      <th>Sex_F</th>\n",
       "      <th>Sex_I</th>\n",
       "      <th>Sex_M</th>\n",
       "    </tr>\n",
       "  </thead>\n",
       "  <tbody>\n",
       "    <tr>\n",
       "      <th>0</th>\n",
       "      <td>0.455</td>\n",
       "      <td>0.365</td>\n",
       "      <td>0.095</td>\n",
       "      <td>0.5140</td>\n",
       "      <td>0.2245</td>\n",
       "      <td>0.1010</td>\n",
       "      <td>0.1500</td>\n",
       "      <td>0.0</td>\n",
       "      <td>0.0</td>\n",
       "      <td>1.0</td>\n",
       "    </tr>\n",
       "    <tr>\n",
       "      <th>1</th>\n",
       "      <td>0.350</td>\n",
       "      <td>0.265</td>\n",
       "      <td>0.090</td>\n",
       "      <td>0.2255</td>\n",
       "      <td>0.0995</td>\n",
       "      <td>0.0485</td>\n",
       "      <td>0.0700</td>\n",
       "      <td>0.0</td>\n",
       "      <td>0.0</td>\n",
       "      <td>1.0</td>\n",
       "    </tr>\n",
       "    <tr>\n",
       "      <th>2</th>\n",
       "      <td>0.530</td>\n",
       "      <td>0.420</td>\n",
       "      <td>0.135</td>\n",
       "      <td>0.6770</td>\n",
       "      <td>0.2565</td>\n",
       "      <td>0.1415</td>\n",
       "      <td>0.2100</td>\n",
       "      <td>1.0</td>\n",
       "      <td>0.0</td>\n",
       "      <td>0.0</td>\n",
       "    </tr>\n",
       "    <tr>\n",
       "      <th>3</th>\n",
       "      <td>0.440</td>\n",
       "      <td>0.365</td>\n",
       "      <td>0.125</td>\n",
       "      <td>0.5160</td>\n",
       "      <td>0.2155</td>\n",
       "      <td>0.1140</td>\n",
       "      <td>0.1550</td>\n",
       "      <td>0.0</td>\n",
       "      <td>0.0</td>\n",
       "      <td>1.0</td>\n",
       "    </tr>\n",
       "    <tr>\n",
       "      <th>4</th>\n",
       "      <td>0.330</td>\n",
       "      <td>0.255</td>\n",
       "      <td>0.080</td>\n",
       "      <td>0.2050</td>\n",
       "      <td>0.0895</td>\n",
       "      <td>0.0395</td>\n",
       "      <td>0.0550</td>\n",
       "      <td>0.0</td>\n",
       "      <td>1.0</td>\n",
       "      <td>0.0</td>\n",
       "    </tr>\n",
       "    <tr>\n",
       "      <th>...</th>\n",
       "      <td>...</td>\n",
       "      <td>...</td>\n",
       "      <td>...</td>\n",
       "      <td>...</td>\n",
       "      <td>...</td>\n",
       "      <td>...</td>\n",
       "      <td>...</td>\n",
       "      <td>...</td>\n",
       "      <td>...</td>\n",
       "      <td>...</td>\n",
       "    </tr>\n",
       "    <tr>\n",
       "      <th>4172</th>\n",
       "      <td>0.565</td>\n",
       "      <td>0.450</td>\n",
       "      <td>0.165</td>\n",
       "      <td>0.8870</td>\n",
       "      <td>0.3700</td>\n",
       "      <td>0.2390</td>\n",
       "      <td>0.2490</td>\n",
       "      <td>1.0</td>\n",
       "      <td>0.0</td>\n",
       "      <td>0.0</td>\n",
       "    </tr>\n",
       "    <tr>\n",
       "      <th>4173</th>\n",
       "      <td>0.590</td>\n",
       "      <td>0.440</td>\n",
       "      <td>0.135</td>\n",
       "      <td>0.9660</td>\n",
       "      <td>0.4390</td>\n",
       "      <td>0.2145</td>\n",
       "      <td>0.2605</td>\n",
       "      <td>0.0</td>\n",
       "      <td>0.0</td>\n",
       "      <td>1.0</td>\n",
       "    </tr>\n",
       "    <tr>\n",
       "      <th>4174</th>\n",
       "      <td>0.600</td>\n",
       "      <td>0.475</td>\n",
       "      <td>0.205</td>\n",
       "      <td>1.1760</td>\n",
       "      <td>0.5255</td>\n",
       "      <td>0.2875</td>\n",
       "      <td>0.3080</td>\n",
       "      <td>0.0</td>\n",
       "      <td>0.0</td>\n",
       "      <td>1.0</td>\n",
       "    </tr>\n",
       "    <tr>\n",
       "      <th>4175</th>\n",
       "      <td>0.625</td>\n",
       "      <td>0.485</td>\n",
       "      <td>0.150</td>\n",
       "      <td>1.0945</td>\n",
       "      <td>0.5310</td>\n",
       "      <td>0.2610</td>\n",
       "      <td>0.2960</td>\n",
       "      <td>1.0</td>\n",
       "      <td>0.0</td>\n",
       "      <td>0.0</td>\n",
       "    </tr>\n",
       "    <tr>\n",
       "      <th>4176</th>\n",
       "      <td>0.710</td>\n",
       "      <td>0.555</td>\n",
       "      <td>0.195</td>\n",
       "      <td>1.9485</td>\n",
       "      <td>0.9455</td>\n",
       "      <td>0.3765</td>\n",
       "      <td>0.4950</td>\n",
       "      <td>0.0</td>\n",
       "      <td>0.0</td>\n",
       "      <td>1.0</td>\n",
       "    </tr>\n",
       "  </tbody>\n",
       "</table>\n",
       "<p>4177 rows × 10 columns</p>\n",
       "</div>"
      ],
      "text/plain": [
       "      Length  Diameter  Height  Whole_weight  Shucked_weight  Viscera_weight  \\\n",
       "0      0.455     0.365   0.095        0.5140          0.2245          0.1010   \n",
       "1      0.350     0.265   0.090        0.2255          0.0995          0.0485   \n",
       "2      0.530     0.420   0.135        0.6770          0.2565          0.1415   \n",
       "3      0.440     0.365   0.125        0.5160          0.2155          0.1140   \n",
       "4      0.330     0.255   0.080        0.2050          0.0895          0.0395   \n",
       "...      ...       ...     ...           ...             ...             ...   \n",
       "4172   0.565     0.450   0.165        0.8870          0.3700          0.2390   \n",
       "4173   0.590     0.440   0.135        0.9660          0.4390          0.2145   \n",
       "4174   0.600     0.475   0.205        1.1760          0.5255          0.2875   \n",
       "4175   0.625     0.485   0.150        1.0945          0.5310          0.2610   \n",
       "4176   0.710     0.555   0.195        1.9485          0.9455          0.3765   \n",
       "\n",
       "      Shell_weight  Sex_F  Sex_I  Sex_M  \n",
       "0           0.1500    0.0    0.0    1.0  \n",
       "1           0.0700    0.0    0.0    1.0  \n",
       "2           0.2100    1.0    0.0    0.0  \n",
       "3           0.1550    0.0    0.0    1.0  \n",
       "4           0.0550    0.0    1.0    0.0  \n",
       "...            ...    ...    ...    ...  \n",
       "4172        0.2490    1.0    0.0    0.0  \n",
       "4173        0.2605    0.0    0.0    1.0  \n",
       "4174        0.3080    0.0    0.0    1.0  \n",
       "4175        0.2960    1.0    0.0    0.0  \n",
       "4176        0.4950    0.0    0.0    1.0  \n",
       "\n",
       "[4177 rows x 10 columns]"
      ]
     },
     "execution_count": 23,
     "metadata": {},
     "output_type": "execute_result"
    }
   ],
   "source": [
    "X"
   ]
  },
  {
   "cell_type": "markdown",
   "metadata": {
    "id": "bZsJSSgTjiHD"
   },
   "source": [
    "Χωρίζω τα δεδομένα 60-40 σε train-test. Επίσης, για το hyperparameter tuning, το train set θα χωριστεί περεταίρω σε validation set (80-20 αναλογία)."
   ]
  },
  {
   "cell_type": "code",
   "execution_count": 24,
   "metadata": {
    "id": "xL0XPtgT2UP4"
   },
   "outputs": [],
   "source": [
    "from sklearn.model_selection import train_test_split\n",
    "\n",
    "X_train, X_test, y_train, y_test = train_test_split(X, y, test_size=0.4, random_state=0) # 60-40 split\n",
    "\n",
    "X_train, X_val, y_train, y_val = train_test_split(X_train, y_train, test_size=0.2, random_state=0) # 80-20 split"
   ]
  },
  {
   "cell_type": "markdown",
   "metadata": {
    "id": "eRdyg5fKj9X2"
   },
   "source": [
    "Η μετρική αξιολόγηση που χρησιμοποιώ είναι η MAE (Mean Absolute Error). Ως baseline, χρησιμοποιώ Linear Regression:"
   ]
  },
  {
   "cell_type": "code",
   "execution_count": 27,
   "metadata": {
    "colab": {
     "base_uri": "https://localhost:8080/"
    },
    "id": "2r40DTW12kcn",
    "outputId": "547cfd9d-207e-4c6b-9bef-a1a14d06e72d"
   },
   "outputs": [
    {
     "name": "stdout",
     "output_type": "stream",
     "text": [
      "LR MAE valid: 1.6003532212342173\n",
      "LR MAE test: 1.5801734637195477\n"
     ]
    }
   ],
   "source": [
    "from sklearn.linear_model import LinearRegression\n",
    "from sklearn.metrics import mean_absolute_error\n",
    "\n",
    "model = LinearRegression()\n",
    "model.fit(X_train, y_train)\n",
    "\n",
    "y_pred_val, y_pred_test = model.predict(X_val), model.predict(X_test)\n",
    "\n",
    "print(f'LR MAE valid: {mean_absolute_error(y_val, y_pred_val)}')\n",
    "print(f'LR MAE test: {mean_absolute_error(y_test, y_pred_test)}')"
   ]
  },
  {
   "cell_type": "code",
   "execution_count": 7,
   "metadata": {
    "id": "krvJMLu3kqUY"
   },
   "outputs": [],
   "source": [
    "# Convert these to 1D arrays\n",
    "y_train, y_val, y_test = y_train.to_numpy().reshape((-1)), y_val.to_numpy().reshape((-1)), y_test.to_numpy().reshape((-1))"
   ]
  },
  {
   "cell_type": "markdown",
   "metadata": {
    "id": "3UfXOiBEkUSp"
   },
   "source": [
    "### Linear Kernel\n",
    "Ξεκινάω με την εφαρμογή ενός linear kernel ψάχνοντας καλές τιμές για τα c και ε. Θα κάνω διαδοχικά grid searches, κάθε φορά μεγαλώνοντας το granularity των παραμέτρων με βάση τις καλύτερες τιμές από την προηγούμενη επανάληψη."
   ]
  },
  {
   "cell_type": "code",
   "execution_count": 8,
   "metadata": {},
   "outputs": [],
   "source": [
    "from sklearn.svm import SVR"
   ]
  },
  {
   "cell_type": "code",
   "execution_count": 10,
   "metadata": {
    "colab": {
     "base_uri": "https://localhost:8080/"
    },
    "id": "iqKZ3bAT6yTt",
    "outputId": "2c9fb504-af82-47b1-a524-7efc123b8728"
   },
   "outputs": [
    {
     "name": "stdout",
     "output_type": "stream",
     "text": [
      "MAE C=0.001, e=0.001: 2.1570572487813178\n",
      "MAE C=0.001, e=0.01: 2.1565606907809434\n",
      "MAE C=0.001, e=0.1: 2.159283173968401\n",
      "MAE C=0.001, e=1: 2.1764408290795005\n",
      "MAE C=0.001, e=10: 3.898008368791076\n",
      "MAE C=0.001, e=100: 4.661354581673307\n",
      "MAE C=0.001, e=1000: 4.661354581673307\n",
      "MAE C=0.01, e=0.001: 1.9024013753490252\n",
      "MAE C=0.01, e=0.01: 1.9020410602549198\n",
      "MAE C=0.01, e=0.1: 1.8989658326845749\n",
      "MAE C=0.01, e=1: 1.9038252912386644\n",
      "MAE C=0.01, e=10: 3.9482111779505917\n",
      "MAE C=0.01, e=100: 4.661354581673307\n",
      "MAE C=0.01, e=1000: 4.661354581673307\n",
      "MAE C=0.1, e=0.001: 1.7635140409450651\n",
      "MAE C=0.1, e=0.01: 1.7634821350726453\n",
      "MAE C=0.1, e=0.1: 1.7614088600254982\n",
      "MAE C=0.1, e=1: 1.781788488915088\n",
      "MAE C=0.1, e=10: 4.292204685647806\n",
      "MAE C=0.1, e=100: 4.661354581673307\n",
      "MAE C=0.1, e=1000: 4.661354581673307\n",
      "MAE C=1, e=0.001: 1.5904348371226193\n",
      "MAE C=1, e=0.01: 1.5897457929935355\n",
      "MAE C=1, e=0.1: 1.5903344187523234\n",
      "MAE C=1, e=1: 1.5946565660972096\n",
      "MAE C=1, e=10: 4.7089000758255875\n",
      "MAE C=1, e=100: 4.661354581673307\n",
      "MAE C=1, e=1000: 4.661354581673307\n",
      "MAE C=10, e=0.001: 1.5627798927317826\n",
      "MAE C=10, e=0.01: 1.5626604294342568\n",
      "MAE C=10, e=0.1: 1.5638414632624045\n",
      "MAE C=10, e=1: 1.5636852500818614\n",
      "MAE C=10, e=10: 4.5242301136841485\n",
      "MAE C=10, e=100: 4.661354581673307\n",
      "MAE C=10, e=1000: 4.661354581673307\n",
      "MAE C=100, e=0.001: 1.5619476322090373\n",
      "MAE C=100, e=0.01: 1.5623172870847921\n",
      "MAE C=100, e=0.1: 1.565686127236234\n",
      "MAE C=100, e=1: 1.5664734808283238\n",
      "MAE C=100, e=10: 4.517032359210237\n",
      "MAE C=100, e=100: 4.661354581673307\n",
      "MAE C=100, e=1000: 4.661354581673307\n",
      "MAE C=1000, e=0.001: 1.5624141661197946\n",
      "MAE C=1000, e=0.01: 1.5625218831195686\n",
      "MAE C=1000, e=0.1: 1.5652069851366588\n",
      "MAE C=1000, e=1: 1.5663861961340573\n",
      "MAE C=1000, e=10: 4.517032359210237\n",
      "MAE C=1000, e=100: 4.661354581673307\n",
      "MAE C=1000, e=1000: 4.661354581673307\n"
     ]
    }
   ],
   "source": [
    "for C in [0.001, 0.01, 0.1, 1, 10, 100, 1000]:\n",
    "    for epsilon in [0.001, 0.01, 0.1, 1, 10, 100, 1000]:\n",
    "        model = SVR(kernel='linear', C=C, epsilon=epsilon)\n",
    "        model.fit(X_train, y_train)\n",
    "\n",
    "        y_pred = model.predict(X_val)\n",
    "\n",
    "        print(f'MAE C={C}, e={epsilon}: {mean_absolute_error(y_val, y_pred)}')"
   ]
  },
  {
   "cell_type": "code",
   "execution_count": 18,
   "metadata": {
    "colab": {
     "base_uri": "https://localhost:8080/"
    },
    "id": "WHZPZDfgD64S",
    "outputId": "7066c29d-bdac-424f-9873-224b71dd85d5"
   },
   "outputs": [
    {
     "name": "stdout",
     "output_type": "stream",
     "text": [
      "MAE C=80, e=0.0008: 1.5620523493866971\n",
      "MAE C=80, e=0.0009: 1.562087740137242\n",
      "MAE C=80, e=0.001: 1.5620770438263487\n",
      "MAE C=80, e=0.0011: 1.562060813299506\n",
      "MAE C=80, e=0.0012: 1.5620519423285324\n",
      "MAE C=90, e=0.0008: 1.5619515935616686\n",
      "MAE C=90, e=0.0009: 1.5619526652844797\n",
      "MAE C=90, e=0.001: 1.561956919175167\n",
      "MAE C=90, e=0.0011: 1.5619634009001886\n",
      "MAE C=90, e=0.0012: 1.561965208196525\n",
      "MAE C=100, e=0.0008: 1.5618941083041329\n",
      "MAE C=100, e=0.0009: 1.5619820980868226\n",
      "MAE C=100, e=0.001: 1.5619476322090373\n",
      "MAE C=100, e=0.0011: 1.561878991010998\n",
      "MAE C=100, e=0.0012: 1.5619597603072213\n",
      "MAE C=110, e=0.0008: 1.561893861411909\n",
      "MAE C=110, e=0.0009: 1.5619295324945353\n",
      "MAE C=110, e=0.001: 1.5619029125017678\n",
      "MAE C=110, e=0.0011: 1.5618394375433067\n",
      "MAE C=110, e=0.0012: 1.5618252276073257\n",
      "MAE C=120, e=0.0008: 1.5619372044916984\n",
      "MAE C=120, e=0.0009: 1.561938816586101\n",
      "MAE C=120, e=0.001: 1.561890267853295\n",
      "MAE C=120, e=0.0011: 1.5619018982666288\n",
      "MAE C=120, e=0.0012: 1.5618772597339803\n"
     ]
    }
   ],
   "source": [
    "# 2nd iter\n",
    "# MAE C=100, e=0.001: 1.5619476322090373\n",
    "for C in [80, 90, 100, 110, 120]:\n",
    "    for epsilon in [0.0008, 0.0009, 0.001, 0.0011, 0.0012]:\n",
    "        model = SVR(kernel='linear', C=C, epsilon=epsilon)\n",
    "        model.fit(X_train, y_train)\n",
    "\n",
    "        y_pred = model.predict(X_val)\n",
    "\n",
    "        print(f'MAE C={C}, e={epsilon}: {mean_absolute_error(y_val, y_pred)}')"
   ]
  },
  {
   "cell_type": "markdown",
   "metadata": {
    "id": "yNkCKuwGmsqK"
   },
   "source": [
    "Για το linear kernel, η καλύτερη τιμή που παίρνουμε είναι ΜΑΕ περίπου 1.5619 για παραμέτρους `C=100, e=0.0008`.\n",
    "\n",
    "### Πολυωνυμικά kernel\n",
    "Συνεχίζω με την χρήση πολυωνυμικών kernels βαθμόυ n=2,3,5,7,9 με παρόμοιο τρόπο όπως με τα linear kernels.\n",
    "\n",
    "#### 2nd order"
   ]
  },
  {
   "cell_type": "code",
   "execution_count": 19,
   "metadata": {
    "colab": {
     "base_uri": "https://localhost:8080/"
    },
    "id": "kBu3O_yoEmPi",
    "outputId": "8a1493ee-f59c-4f5c-b8c3-a9de425879a8"
   },
   "outputs": [
    {
     "name": "stdout",
     "output_type": "stream",
     "text": [
      "MAE C=0.001, e=0.001: 2.072919115055273\n",
      "MAE C=0.001, e=0.01: 2.072724423525785\n",
      "MAE C=0.001, e=0.1: 2.0731387230436744\n",
      "MAE C=0.001, e=1: 2.0886804410149753\n",
      "MAE C=0.001, e=10: 3.9035284951740725\n",
      "MAE C=0.001, e=100: 4.661354581673307\n",
      "MAE C=0.001, e=1000: 4.661354581673307\n",
      "MAE C=0.01, e=0.001: 1.9047358976512963\n",
      "MAE C=0.01, e=0.01: 1.904968380261799\n",
      "MAE C=0.01, e=0.1: 1.9038609756519176\n",
      "MAE C=0.01, e=1: 1.9160726152836065\n",
      "MAE C=0.01, e=10: 4.003412441780577\n",
      "MAE C=0.01, e=100: 4.661354581673307\n",
      "MAE C=0.01, e=1000: 4.661354581673307\n",
      "MAE C=0.1, e=0.001: 1.6862538286359952\n",
      "MAE C=0.1, e=0.01: 1.6860245438095918\n",
      "MAE C=0.1, e=0.1: 1.684976298719853\n",
      "MAE C=0.1, e=1: 1.7012872477124308\n",
      "MAE C=0.1, e=10: 4.539648709798297\n",
      "MAE C=0.1, e=100: 4.661354581673307\n",
      "MAE C=0.1, e=1000: 4.661354581673307\n",
      "MAE C=1, e=0.001: 1.5928442712754132\n",
      "MAE C=1, e=0.01: 1.5924352319134032\n",
      "MAE C=1, e=0.1: 1.591977088374134\n",
      "MAE C=1, e=1: 1.597569793202993\n",
      "MAE C=1, e=10: 3.8741939057457815\n",
      "MAE C=1, e=100: 4.661354581673307\n",
      "MAE C=1, e=1000: 4.661354581673307\n",
      "MAE C=10, e=0.001: 1.517714490559874\n",
      "MAE C=10, e=0.01: 1.517539613136937\n",
      "MAE C=10, e=0.1: 1.5183123781307744\n",
      "MAE C=10, e=1: 1.5231800883606903\n",
      "MAE C=10, e=10: 3.877253712748412\n",
      "MAE C=10, e=100: 4.661354581673307\n",
      "MAE C=10, e=1000: 4.661354581673307\n",
      "MAE C=100, e=0.001: 1.4687826997760993\n",
      "MAE C=100, e=0.01: 1.4694440357119951\n",
      "MAE C=100, e=0.1: 1.4675204976137861\n",
      "MAE C=100, e=1: 1.4678508390626022\n",
      "MAE C=100, e=10: 3.877253712748412\n",
      "MAE C=100, e=100: 4.661354581673307\n",
      "MAE C=100, e=1000: 4.661354581673307\n",
      "MAE C=1000, e=0.001: 1.4665373503791301\n",
      "MAE C=1000, e=0.01: 1.4667540348111068\n",
      "MAE C=1000, e=0.1: 1.4654516708947927\n",
      "MAE C=1000, e=1: 1.4704332779470943\n",
      "MAE C=1000, e=10: 3.877253712748412\n",
      "MAE C=1000, e=100: 4.661354581673307\n",
      "MAE C=1000, e=1000: 4.661354581673307\n"
     ]
    }
   ],
   "source": [
    "for C in [0.001, 0.01, 0.1, 1, 10, 100, 1000]:\n",
    "    for epsilon in [0.001, 0.01, 0.1, 1, 10, 100, 1000]:\n",
    "        model = SVR(kernel='poly', degree=2, C=C, epsilon=epsilon)\n",
    "        model.fit(X_train, y_train)\n",
    "\n",
    "        y_pred = model.predict(X_val)\n",
    "\n",
    "        print(f'MAE C={C}, e={epsilon}: {mean_absolute_error(y_val, y_pred)}')"
   ]
  },
  {
   "cell_type": "code",
   "execution_count": 11,
   "metadata": {
    "colab": {
     "base_uri": "https://localhost:8080/"
    },
    "id": "sAYaTAxnnnGC",
    "outputId": "252cd456-d053-4459-f410-5afd7bd2276d"
   },
   "outputs": [
    {
     "name": "stdout",
     "output_type": "stream",
     "text": [
      "MAE C=800, e=0.0008: 1.465614980344231\n",
      "MAE C=800, e=0.0009: 1.46559475159077\n",
      "MAE C=800, e=0.001: 1.465601555088892\n",
      "MAE C=800, e=0.0011: 1.4656141534653153\n",
      "MAE C=800, e=0.0012: 1.4656414813601837\n",
      "MAE C=900, e=0.0008: 1.466414828750074\n",
      "MAE C=900, e=0.0009: 1.4664124757906176\n",
      "MAE C=900, e=0.001: 1.466426457708526\n",
      "MAE C=900, e=0.0011: 1.466431844247424\n",
      "MAE C=900, e=0.0012: 1.4664398632355646\n",
      "MAE C=1000, e=0.0008: 1.4664881866505406\n",
      "MAE C=1000, e=0.0009: 1.4665305420667663\n",
      "MAE C=1000, e=0.001: 1.4665373503791301\n",
      "MAE C=1000, e=0.0011: 1.4665138265060167\n",
      "MAE C=1000, e=0.0012: 1.4665177818792232\n",
      "MAE C=1100, e=0.0008: 1.4666839032987529\n",
      "MAE C=1100, e=0.0009: 1.4666615967094858\n",
      "MAE C=1100, e=0.001: 1.4667390470247816\n",
      "MAE C=1100, e=0.0011: 1.466734101666552\n",
      "MAE C=1100, e=0.0012: 1.466686591849971\n",
      "MAE C=1200, e=0.0008: 1.467019241649725\n",
      "MAE C=1200, e=0.0009: 1.467055197854712\n",
      "MAE C=1200, e=0.001: 1.466953696468887\n",
      "MAE C=1200, e=0.0011: 1.4670091058297228\n",
      "MAE C=1200, e=0.0012: 1.4670201037464234\n"
     ]
    }
   ],
   "source": [
    "# MAE C=1000, e=0.001: 1.4665373503791301\n",
    "for C in [800, 900, 1000, 1100, 1200]:\n",
    "    for epsilon in [0.0008, 0.0009, 0.001, 0.0011, 0.0012]:\n",
    "        model = SVR(kernel='poly', degree=2, C=C, epsilon=epsilon)\n",
    "        model.fit(X_train, y_train)\n",
    "\n",
    "        y_pred = model.predict(X_val)\n",
    "\n",
    "        print(f'MAE C={C}, e={epsilon}: {mean_absolute_error(y_val, y_pred)}')"
   ]
  },
  {
   "cell_type": "markdown",
   "metadata": {
    "id": "nhltW4xVn68k"
   },
   "source": [
    "Για poly kernel 2ου βαθμόυ καλύτερη απόδοση παίρνουμε για `C=900, e=0.0008` με ΜΑΕ περίπου 1.466.\n",
    "\n",
    "#### 3rd order"
   ]
  },
  {
   "cell_type": "code",
   "execution_count": 22,
   "metadata": {
    "colab": {
     "base_uri": "https://localhost:8080/"
    },
    "id": "HOzjxLpNoFDh",
    "outputId": "f3f16a18-a049-4d0c-cc51-5cd2496ebbb3"
   },
   "outputs": [
    {
     "name": "stdout",
     "output_type": "stream",
     "text": [
      "MAE C=0.001, e=0.001: 2.044066047946673\n",
      "MAE C=0.001, e=0.01: 2.0439815173701557\n",
      "MAE C=0.001, e=0.1: 2.044975261691228\n",
      "MAE C=0.001, e=1: 2.0474756871553694\n",
      "MAE C=0.001, e=10: 3.9259201864306448\n",
      "MAE C=0.001, e=100: 4.661354581673307\n",
      "MAE C=0.001, e=1000: 4.661354581673307\n",
      "MAE C=0.01, e=0.001: 1.8382525859409116\n",
      "MAE C=0.01, e=0.01: 1.8379457903632734\n",
      "MAE C=0.01, e=0.1: 1.8381554297144695\n",
      "MAE C=0.01, e=1: 1.8611574458398201\n",
      "MAE C=0.01, e=10: 4.12276804297121\n",
      "MAE C=0.01, e=100: 4.661354581673307\n",
      "MAE C=0.01, e=1000: 4.661354581673307\n",
      "MAE C=0.1, e=0.001: 1.6835523608625387\n",
      "MAE C=0.1, e=0.01: 1.683999021073484\n",
      "MAE C=0.1, e=0.1: 1.6850869817506375\n",
      "MAE C=0.1, e=1: 1.6992812277393066\n",
      "MAE C=0.1, e=10: 4.416847397415194\n",
      "MAE C=0.1, e=100: 4.661354581673307\n",
      "MAE C=0.1, e=1000: 4.661354581673307\n",
      "MAE C=1, e=0.001: 1.576443444406799\n",
      "MAE C=1, e=0.01: 1.576371389069583\n",
      "MAE C=1, e=0.1: 1.577621935724324\n",
      "MAE C=1, e=1: 1.5827730827614077\n",
      "MAE C=1, e=10: 3.748097163854953\n",
      "MAE C=1, e=100: 4.661354581673307\n",
      "MAE C=1, e=1000: 4.661354581673307\n",
      "MAE C=10, e=0.001: 1.5131966942924713\n",
      "MAE C=10, e=0.01: 1.5134313092875824\n",
      "MAE C=10, e=0.1: 1.5108198453408834\n",
      "MAE C=10, e=1: 1.5042162306599216\n",
      "MAE C=10, e=10: 3.734644565691919\n",
      "MAE C=10, e=100: 4.661354581673307\n",
      "MAE C=10, e=1000: 4.661354581673307\n",
      "MAE C=100, e=0.001: 1.470033188387938\n",
      "MAE C=100, e=0.01: 1.469479016234669\n",
      "MAE C=100, e=0.1: 1.4679431211787501\n",
      "MAE C=100, e=1: 1.4635615582911914\n",
      "MAE C=100, e=10: 3.734644565691919\n",
      "MAE C=100, e=100: 4.661354581673307\n",
      "MAE C=100, e=1000: 4.661354581673307\n",
      "MAE C=1000, e=0.001: 1.477402078142574\n",
      "MAE C=1000, e=0.01: 1.4771101659264174\n",
      "MAE C=1000, e=0.1: 1.474055902449838\n",
      "MAE C=1000, e=1: 1.4671722358034536\n",
      "MAE C=1000, e=10: 3.734644565691919\n",
      "MAE C=1000, e=100: 4.661354581673307\n",
      "MAE C=1000, e=1000: 4.661354581673307\n"
     ]
    }
   ],
   "source": [
    "for C in [0.001, 0.01, 0.1, 1, 10, 100, 1000]:\n",
    "    for epsilon in [0.001, 0.01, 0.1, 1, 10, 100, 1000]:\n",
    "        model = SVR(kernel='poly', degree=3, C=C, epsilon=epsilon)\n",
    "        model.fit(X_train, y_train)\n",
    "\n",
    "        y_pred = model.predict(X_val)\n",
    "\n",
    "        print(f'MAE C={C}, e={epsilon}: {mean_absolute_error(y_val, y_pred)}')"
   ]
  },
  {
   "cell_type": "code",
   "execution_count": 12,
   "metadata": {
    "colab": {
     "base_uri": "https://localhost:8080/"
    },
    "id": "DB2g7zuLpDqs",
    "outputId": "34c587fb-cde3-47be-9349-0891e2b95229"
   },
   "outputs": [
    {
     "name": "stdout",
     "output_type": "stream",
     "text": [
      "MAE C=80, e=0.8: 1.4583771353515365\n",
      "MAE C=80, e=0.9: 1.4589307920061736\n",
      "MAE C=80, e=1.0: 1.4637752208730643\n",
      "MAE C=80, e=1.1: 1.4686781083288756\n",
      "MAE C=80, e=1.2: 1.4705496652033412\n",
      "MAE C=90, e=0.8: 1.4566831155882947\n",
      "MAE C=90, e=0.9: 1.4580851123150385\n",
      "MAE C=90, e=1.0: 1.463882114484078\n",
      "MAE C=90, e=1.1: 1.4684441292052175\n",
      "MAE C=90, e=1.2: 1.470646812746906\n",
      "MAE C=100, e=0.8: 1.4557067204429222\n",
      "MAE C=100, e=0.9: 1.4584353454173737\n",
      "MAE C=100, e=1.0: 1.4635615582911914\n",
      "MAE C=100, e=1.1: 1.469328434737403\n",
      "MAE C=100, e=1.2: 1.470266645626286\n",
      "MAE C=110, e=0.8: 1.4544027813145606\n",
      "MAE C=110, e=0.9: 1.4588079957211575\n",
      "MAE C=110, e=1.0: 1.4638939985127837\n",
      "MAE C=110, e=1.1: 1.4673565101482529\n",
      "MAE C=110, e=1.2: 1.4703552087023652\n",
      "MAE C=120, e=0.8: 1.4537272708958957\n",
      "MAE C=120, e=0.9: 1.4596948100082126\n",
      "MAE C=120, e=1.0: 1.4640240995155636\n",
      "MAE C=120, e=1.1: 1.4661004680295575\n",
      "MAE C=120, e=1.2: 1.4703360553178038\n"
     ]
    }
   ],
   "source": [
    "# MAE C=100, e=1: 1.4635615582911914\n",
    "for C in [80, 90, 100, 110, 120]:\n",
    "    for epsilon in [0.8, 0.9, 1.0, 1.1, 1.2]:\n",
    "        model = SVR(kernel='poly', degree=3, C=C, epsilon=epsilon)\n",
    "        model.fit(X_train, y_train)\n",
    "\n",
    "        y_pred = model.predict(X_val)\n",
    "\n",
    "        print(f'MAE C={C}, e={epsilon}: {mean_absolute_error(y_val, y_pred)}')"
   ]
  },
  {
   "cell_type": "code",
   "execution_count": 19,
   "metadata": {},
   "outputs": [
    {
     "name": "stdout",
     "output_type": "stream",
     "text": [
      "MAE C=120, e=0.4: 1.4572831387326242\n",
      "MAE C=120, e=0.5: 1.455261360252594\n",
      "MAE C=120, e=0.6: 1.4484495143775113\n",
      "MAE C=120, e=0.8: 1.4537272708958957\n",
      "MAE C=130, e=0.4: 1.4574008864971293\n",
      "MAE C=130, e=0.5: 1.4554376609384745\n",
      "MAE C=130, e=0.6: 1.4481969041962466\n",
      "MAE C=130, e=0.8: 1.454067080264884\n",
      "MAE C=140, e=0.4: 1.456874048420204\n",
      "MAE C=140, e=0.5: 1.4552796029200876\n",
      "MAE C=140, e=0.6: 1.4481612763052871\n",
      "MAE C=140, e=0.8: 1.4548389031671662\n",
      "MAE C=150, e=0.4: 1.4574792987645122\n",
      "MAE C=150, e=0.5: 1.4553591533395158\n",
      "MAE C=150, e=0.6: 1.4483500778123322\n",
      "MAE C=150, e=0.8: 1.4550709579528283\n"
     ]
    }
   ],
   "source": [
    "# MAE C=120, e=0.8: 1.4537272708958957\n",
    "for C in [120, 130, 140, 150]:\n",
    "    for epsilon in [0.4, 0.5, 0.6, 0.8]:\n",
    "        model = SVR(kernel='poly', degree=3, C=C, epsilon=epsilon)\n",
    "        model.fit(X_train, y_train)\n",
    "\n",
    "        y_pred = model.predict(X_val)\n",
    "\n",
    "        print(f'MAE C={C}, e={epsilon}: {mean_absolute_error(y_val, y_pred)}')"
   ]
  },
  {
   "cell_type": "markdown",
   "metadata": {
    "id": "qr99P_iSpY9j"
   },
   "source": [
    "Σε πολυωνυμικό kernel 3ου βαθμόυ έχουμε το μοντέλο `C=140, e=0.6` με ΜΑΕ 1.448.\n",
    "#### 5ου βαθμού"
   ]
  },
  {
   "cell_type": "code",
   "execution_count": 10,
   "metadata": {
    "colab": {
     "base_uri": "https://localhost:8080/"
    },
    "id": "Iqa0nAFppm2N",
    "outputId": "bcf6d9d8-8cd0-4246-c725-c2bbac0aa9bb"
   },
   "outputs": [
    {
     "name": "stdout",
     "output_type": "stream",
     "text": [
      "MAE C=0.001, e=0.001: 1.9719052819950396\n",
      "MAE C=0.001, e=0.01: 1.9718026252689334\n",
      "MAE C=0.001, e=0.1: 1.9706609675050093\n",
      "MAE C=0.001, e=1: 1.9714927797352952\n",
      "MAE C=0.001, e=10: 4.075080425914788\n",
      "MAE C=0.001, e=100: 4.661354581673307\n",
      "MAE C=0.001, e=1000: 4.661354581673307\n",
      "MAE C=0.01, e=0.001: 1.8185690432470059\n",
      "MAE C=0.01, e=0.01: 1.8178590521634426\n",
      "MAE C=0.01, e=0.1: 1.8233661397455516\n",
      "MAE C=0.01, e=1: 1.8316512597003725\n",
      "MAE C=0.01, e=10: 4.153077706604875\n",
      "MAE C=0.01, e=100: 4.661354581673307\n",
      "MAE C=0.01, e=1000: 4.661354581673307\n",
      "MAE C=0.1, e=0.001: 1.6595721539354014\n",
      "MAE C=0.1, e=0.01: 1.6581182629800177\n",
      "MAE C=0.1, e=0.1: 1.653231316039142\n",
      "MAE C=0.1, e=1: 1.6763821576132283\n",
      "MAE C=0.1, e=10: 3.9126570692840654\n",
      "MAE C=0.1, e=100: 4.661354581673307\n",
      "MAE C=0.1, e=1000: 4.661354581673307\n",
      "MAE C=1, e=0.001: 1.5458203597723326\n",
      "MAE C=1, e=0.01: 1.545093936456148\n",
      "MAE C=1, e=0.1: 1.5473383763510566\n",
      "MAE C=1, e=1: 1.552791103487906\n",
      "MAE C=1, e=10: 3.676000180365137\n",
      "MAE C=1, e=100: 4.661354581673307\n",
      "MAE C=1, e=1000: 4.661354581673307\n",
      "MAE C=10, e=0.001: 1.4779245421303695\n",
      "MAE C=10, e=0.01: 1.4775486700583578\n",
      "MAE C=10, e=0.1: 1.4827900662310813\n",
      "MAE C=10, e=1: 1.4901506506969153\n",
      "MAE C=10, e=10: 3.676000180365137\n",
      "MAE C=10, e=100: 4.661354581673307\n",
      "MAE C=10, e=1000: 4.661354581673307\n"
     ]
    }
   ],
   "source": [
    "for C in [0.001, 0.01, 0.1, 1, 10]: # avoid larger values, no better results and longer execution times\n",
    "    for epsilon in [0.001, 0.01, 0.1, 1, 10, 100, 1000]:\n",
    "        model = SVR(kernel='poly', degree=5, C=C, epsilon=epsilon)\n",
    "        model.fit(X_train, y_train)\n",
    "\n",
    "        y_pred = model.predict(X_val)\n",
    "\n",
    "        print(f'MAE C={C}, e={epsilon}: {mean_absolute_error(y_val, y_pred)}')"
   ]
  },
  {
   "cell_type": "code",
   "execution_count": 21,
   "metadata": {
    "colab": {
     "base_uri": "https://localhost:8080/"
    },
    "id": "v8LP5RtDtMlO",
    "outputId": "5674dcdd-1e7e-4d75-e936-0660e05f837c"
   },
   "outputs": [
    {
     "name": "stdout",
     "output_type": "stream",
     "text": [
      "MAE C=8, e=0.008: 1.477059165831463\n",
      "MAE C=8, e=0.009: 1.4771977934872487\n",
      "MAE C=8, e=0.01: 1.4772469000298685\n",
      "MAE C=8, e=0.011: 1.4772205682178867\n",
      "MAE C=8, e=0.012: 1.4772211266554225\n",
      "MAE C=9, e=0.008: 1.4760918703459176\n",
      "MAE C=9, e=0.009: 1.4759261444858751\n",
      "MAE C=9, e=0.01: 1.4758706184814916\n",
      "MAE C=9, e=0.011: 1.4757898296685465\n",
      "MAE C=9, e=0.012: 1.4758707493260559\n",
      "MAE C=10, e=0.008: 1.4776493438560114\n",
      "MAE C=10, e=0.009: 1.4775345778843598\n",
      "MAE C=10, e=0.01: 1.4775486700583578\n",
      "MAE C=10, e=0.011: 1.4775557542635926\n",
      "MAE C=10, e=0.012: 1.4775322907315138\n",
      "MAE C=11, e=0.008: 1.4785495132624507\n",
      "MAE C=11, e=0.009: 1.4783599650563273\n",
      "MAE C=11, e=0.01: 1.478231006048066\n",
      "MAE C=11, e=0.011: 1.4779528998700486\n",
      "MAE C=11, e=0.012: 1.477781268440112\n",
      "MAE C=12, e=0.008: 1.4786794631373743\n",
      "MAE C=12, e=0.009: 1.4788076011215692\n",
      "MAE C=12, e=0.01: 1.4790599948491099\n",
      "MAE C=12, e=0.011: 1.4792426480413396\n",
      "MAE C=12, e=0.012: 1.4793784405889612\n"
     ]
    }
   ],
   "source": [
    "# MAE C=10, e=0.01: 1.4775486700583578\n",
    "for C in [8, 9, 10, 11, 12]:\n",
    "    for epsilon in [0.008, 0.009, 0.01, 0.011, 0.012]:\n",
    "        model = SVR(kernel='poly', degree=5, C=C, epsilon=epsilon)\n",
    "        model.fit(X_train, y_train)\n",
    "\n",
    "        y_pred = model.predict(X_val)\n",
    "\n",
    "        print(f'MAE C={C}, e={epsilon}: {mean_absolute_error(y_val, y_pred)}')"
   ]
  },
  {
   "cell_type": "markdown",
   "metadata": {},
   "source": [
    "Σε πολυωνυμικό kernel 5ου βαθμόυ έχουμε το μοντέλο `C=9, e=0.011` με ΜΑΕ 1.4758.\n",
    "\n",
    "#### Μεγαλύτερου βαθμού"
   ]
  },
  {
   "cell_type": "code",
   "execution_count": 22,
   "metadata": {},
   "outputs": [
    {
     "name": "stdout",
     "output_type": "stream",
     "text": [
      "MAE C=0.001, e=0.001: 1.9537870025752304\n",
      "MAE C=0.001, e=0.01: 1.95358211935082\n",
      "MAE C=0.001, e=0.1: 1.953846788737504\n",
      "MAE C=0.001, e=1: 1.9586181817813162\n",
      "MAE C=0.001, e=10: 4.075718887204106\n",
      "MAE C=0.001, e=100: 4.661354581673307\n",
      "MAE C=0.001, e=1000: 4.661354581673307\n",
      "MAE C=0.01, e=0.001: 1.769568030772976\n",
      "MAE C=0.01, e=0.01: 1.7699711965952674\n",
      "MAE C=0.01, e=0.1: 1.7694376850797555\n",
      "MAE C=0.01, e=1: 1.780180610176134\n",
      "MAE C=0.01, e=10: 4.155508006904249\n",
      "MAE C=0.01, e=100: 4.661354581673307\n",
      "MAE C=0.01, e=1000: 4.661354581673307\n",
      "MAE C=0.1, e=0.001: 1.6265957403986115\n",
      "MAE C=0.1, e=0.01: 1.626939878231873\n",
      "MAE C=0.1, e=0.1: 1.625463234528994\n",
      "MAE C=0.1, e=1: 1.643107156600543\n",
      "MAE C=0.1, e=10: 3.835537652199051\n",
      "MAE C=0.1, e=100: 4.661354581673307\n",
      "MAE C=0.1, e=1000: 4.661354581673307\n",
      "MAE C=1, e=0.001: 1.5787977037482122\n",
      "MAE C=1, e=0.01: 1.5762599395417078\n",
      "MAE C=1, e=0.1: 1.5750833715825623\n",
      "MAE C=1, e=1: 1.5640779938764626\n",
      "MAE C=1, e=10: 3.831940982646093\n",
      "MAE C=1, e=100: 4.661354581673307\n",
      "MAE C=1, e=1000: 4.661354581673307\n",
      "MAE C=10, e=0.001: 1.5779638643611793\n",
      "MAE C=10, e=0.01: 1.5794751753382934\n",
      "MAE C=10, e=0.1: 1.5673272334223738\n",
      "MAE C=10, e=1: 1.5771891264907296\n",
      "MAE C=10, e=10: 3.831940982646093\n",
      "MAE C=10, e=100: 4.661354581673307\n",
      "MAE C=10, e=1000: 4.661354581673307\n"
     ]
    }
   ],
   "source": [
    "# degree 7\n",
    "for C in [0.001, 0.01, 0.1, 1, 10]: # avoid larger values, no better results and longer execution times\n",
    "    for epsilon in [0.001, 0.01, 0.1, 1, 10, 100, 1000]:\n",
    "        model = SVR(kernel='poly', degree=7, C=C, epsilon=epsilon)\n",
    "        model.fit(X_train, y_train)\n",
    "\n",
    "        y_pred = model.predict(X_val)\n",
    "\n",
    "        print(f'MAE C={C}, e={epsilon}: {mean_absolute_error(y_val, y_pred)}')"
   ]
  },
  {
   "cell_type": "code",
   "execution_count": null,
   "metadata": {},
   "outputs": [
    {
     "name": "stdout",
     "output_type": "stream",
     "text": [
      "MAE C=0.001, e=0.001: 1.891929550173022\n",
      "MAE C=0.001, e=0.01: 1.8917666785308331\n",
      "MAE C=0.001, e=0.1: 1.8880342701431556\n",
      "MAE C=0.001, e=1: 1.9113881984663712\n",
      "MAE C=0.001, e=10: 4.183779607139776\n",
      "MAE C=0.001, e=100: 4.661354581673307\n",
      "MAE C=0.001, e=1000: 4.661354581673307\n",
      "MAE C=0.01, e=0.001: 1.8007091794464958\n",
      "MAE C=0.01, e=0.01: 1.7996377997016664\n",
      "MAE C=0.01, e=0.1: 1.7954665216086814\n",
      "MAE C=0.01, e=1: 1.7870230072283935\n",
      "MAE C=0.01, e=10: 4.026151043886346\n",
      "MAE C=0.01, e=100: 4.661354581673307\n",
      "MAE C=0.01, e=1000: 4.661354581673307\n",
      "MAE C=0.1, e=0.001: 1.7448306451304907\n",
      "MAE C=0.1, e=0.01: 1.7457691458508091\n",
      "MAE C=0.1, e=0.1: 1.744884558941778\n",
      "MAE C=0.1, e=1: 1.7398351396590293\n",
      "MAE C=0.1, e=10: 4.033416758637063\n",
      "MAE C=0.1, e=100: 4.661354581673307\n",
      "MAE C=0.1, e=1000: 4.661354581673307\n",
      "MAE C=1, e=0.001: 1.8177306961569868\n",
      "MAE C=1, e=0.01: 1.8257106542879225\n"
     ]
    }
   ],
   "source": [
    "# degree 9\n",
    "for C in [0.001, 0.01, 0.1, 1]: # avoid larger values, no better results and longer execution times\n",
    "    for epsilon in [0.001, 0.01, 0.1, 1, 10, 100, 1000]:\n",
    "        model = SVR(kernel='poly', degree=9, C=C, epsilon=epsilon)\n",
    "        model.fit(X_train, y_train)\n",
    "\n",
    "        y_pred = model.predict(X_val)\n",
    "\n",
    "        print(f'MAE C={C}, e={epsilon}: {mean_absolute_error(y_val, y_pred)}')"
   ]
  },
  {
   "cell_type": "code",
   "execution_count": null,
   "metadata": {},
   "outputs": [
    {
     "name": "stdout",
     "output_type": "stream",
     "text": [
      "MAE C=0.001, e=0.001: 2.6633308199285453\n",
      "MAE C=0.001, e=0.01: 2.659623402814195\n"
     ]
    }
   ],
   "source": [
    "# degree 13\n",
    "for C in [0.001, 0.01, 0.1]: # avoid larger values, no better results and longer execution times\n",
    "    for epsilon in [0.001, 0.01, 0.1, 1, 10, 100, 1000]:\n",
    "        model = SVR(kernel='poly', degree=13, C=C, epsilon=epsilon)\n",
    "        model.fit(X_train, y_train)\n",
    "\n",
    "        y_pred = model.predict(X_val)\n",
    "\n",
    "        print(f'MAE C={C}, e={epsilon}: {mean_absolute_error(y_val, y_pred)}')"
   ]
  },
  {
   "cell_type": "markdown",
   "metadata": {},
   "source": [
    "Γενικά, παρατηρούμε ότι, για πολυωνυμικά kernel μεγάλου βαθμού, η απόδοση μειώνεται. Πριν προχωρήσω στα RBF, δοκιμάζω τα καλύτερα μοντέλα που πήρα από το validation loss στο test set."
   ]
  },
  {
   "cell_type": "code",
   "execution_count": 10,
   "metadata": {},
   "outputs": [
    {
     "name": "stdout",
     "output_type": "stream",
     "text": [
      "Linear C=100, e=0.0008 MAE: 1.5637257485418539\n",
      "Best SVR poly deg 2 MAE: 1.4677292666212247\n",
      "Best SVR poly deg 3 MAE: 1.4788224770012222\n",
      "Best SVR poly deg 5 MAE: 1.5121951820347814\n",
      "Best SVR poly deg 7 MAE: 1.5967220691316726\n",
      "Best SVR poly deg 9 MAE: 1.8810544839368584\n"
     ]
    }
   ],
   "source": [
    "def train_and_test(model):\n",
    "    model.fit(X_train, y_train)\n",
    "\n",
    "    y_pred = model.predict(X_test)\n",
    "    \n",
    "    return mean_absolute_error(y_test, y_pred)\n",
    "\n",
    "# Linear\n",
    "best_linear = SVR(kernel='linear', C=100, epsilon=0.0008)\n",
    "print(f'Linear C=100, e=0.0008 MAE: {train_and_test(best_linear)}')\n",
    "\n",
    "# 2nd order\n",
    "best_poly2 = SVR(kernel='poly', degree=2, C=900, epsilon=0.0008)\n",
    "print(f'Best SVR poly deg 2 MAE: {train_and_test(best_poly2)}')\n",
    "\n",
    "# 3rd order\n",
    "best_poly3 = SVR(kernel='poly', degree=3, C=140, epsilon=0.6)\n",
    "print(f'Best SVR poly deg 3 MAE: {train_and_test(best_poly3)}')\n",
    "\n",
    "# 5th order\n",
    "best_poly5 = SVR(kernel='poly', degree=5, C=9, epsilon=0.011)\n",
    "print(f'Best SVR poly deg 5 MAE: {train_and_test(best_poly5)}')\n",
    "\n",
    "# 7th order\n",
    "best_poly7 = SVR(kernel='poly', degree=7, C=1, epsilon=1)\n",
    "print(f'Best SVR poly deg 7 MAE: {train_and_test(best_poly7)}')\n",
    "\n",
    "# 9th order\n",
    "best_poly9 = SVR(kernel='poly', degree=9, C=0.1, epsilon=0.001)\n",
    "print(f'Best SVR poly deg 9 MAE: {train_and_test(best_poly9)}')\n"
   ]
  },
  {
   "cell_type": "markdown",
   "metadata": {},
   "source": [
    "Παρατηρούμε ελαφρώς αυξημένες αποδόσεις σε σχέση με το validation loss, ωστόσο οι συγκριτικές αποδώσεις των μοντέλων είναι παρόμοια, με το πολυωνυμικό 2ου βαθμού να έχει το μικρότερο ΜΑΕ.\n",
    "\n",
    "### RBF kernel\n",
    "Ακολουθούμε παρόμοια στρατιγική fine tuning με τα polynomial kernel μοντέλα, μόνο που εδώ θα πρέπει να έχουμε 3D grid search προσθέτοντας το gamma."
   ]
  },
  {
   "cell_type": "code",
   "execution_count": 12,
   "metadata": {},
   "outputs": [
    {
     "name": "stdout",
     "output_type": "stream",
     "text": [
      "MAE γ=100, C=0.001, ε=0.001: 2.37570492519549\n",
      "MAE γ=100, C=0.001, ε=0.01: 2.375743322683693\n",
      "MAE γ=100, C=0.001, ε=0.1: 2.3734411265025503\n",
      "MAE γ=100, C=0.001, ε=1: 2.375365865215194\n",
      "MAE γ=100, C=0.001, ε=10: 3.893136880364179\n",
      "MAE γ=100, C=0.001, ε=100: 4.661354581673307\n",
      "MAE γ=100, C=0.001, ε=1000: 4.661354581673307\n",
      "MAE γ=100, C=0.01, ε=0.001: 2.2428638389360382\n",
      "MAE γ=100, C=0.01, ε=0.01: 2.2430278730942534\n",
      "MAE γ=100, C=0.01, ε=0.1: 2.243489003729362\n",
      "MAE γ=100, C=0.01, ε=1: 2.2397087810915264\n",
      "MAE γ=100, C=0.01, ε=10: 3.899515316655219\n",
      "MAE γ=100, C=0.01, ε=100: 4.661354581673307\n",
      "MAE γ=100, C=0.01, ε=1000: 4.661354581673307\n",
      "MAE γ=100, C=0.1, ε=0.001: 1.8270351654806443\n",
      "MAE γ=100, C=0.1, ε=0.01: 1.8265554926350587\n",
      "MAE γ=100, C=0.1, ε=0.1: 1.8309014512073412\n",
      "MAE γ=100, C=0.1, ε=1: 1.8762600322614167\n",
      "MAE γ=100, C=0.1, ε=10: 3.9641998310000743\n",
      "MAE γ=100, C=0.1, ε=100: 4.661354581673307\n",
      "MAE γ=100, C=0.1, ε=1000: 4.661354581673307\n",
      "MAE γ=100, C=1, ε=0.001: 1.5592681983514385\n",
      "MAE γ=100, C=1, ε=0.01: 1.559146904947\n",
      "MAE γ=100, C=1, ε=0.1: 1.5572010584743141\n",
      "MAE γ=100, C=1, ε=1: 1.5712982932437387\n",
      "MAE γ=100, C=1, ε=10: 4.389395477739744\n",
      "MAE γ=100, C=1, ε=100: 4.661354581673307\n",
      "MAE γ=100, C=1, ε=1000: 4.661354581673307\n",
      "MAE γ=100, C=10, ε=0.001: 1.5788594907463789\n",
      "MAE γ=100, C=10, ε=0.01: 1.5783957859318023\n",
      "MAE γ=100, C=10, ε=0.1: 1.5736875233788359\n",
      "MAE γ=100, C=10, ε=1: 1.5543152374327869\n",
      "MAE γ=100, C=10, ε=10: 4.77935425312712\n",
      "MAE γ=100, C=10, ε=100: 4.661354581673307\n",
      "MAE γ=100, C=10, ε=1000: 4.661354581673307\n",
      "MAE γ=100, C=100, ε=0.001: 1.8406627212257465\n",
      "MAE γ=100, C=100, ε=0.01: 1.8392200380531525\n",
      "MAE γ=100, C=100, ε=0.1: 1.820681658278727\n",
      "MAE γ=100, C=100, ε=1: 1.6973667639298016\n",
      "MAE γ=100, C=100, ε=10: 4.77935425312712\n",
      "MAE γ=100, C=100, ε=100: 4.661354581673307\n",
      "MAE γ=100, C=100, ε=1000: 4.661354581673307\n",
      "MAE γ=100, C=1000, ε=0.001: 2.468609078891606\n",
      "MAE γ=100, C=1000, ε=0.01: 2.4635084426636515\n",
      "MAE γ=100, C=1000, ε=0.1: 2.410368298482019\n",
      "MAE γ=100, C=1000, ε=1: 2.0094767517533096\n",
      "MAE γ=100, C=1000, ε=10: 4.77935425312712\n",
      "MAE γ=100, C=1000, ε=100: 4.661354581673307\n",
      "MAE γ=100, C=1000, ε=1000: 4.661354581673307\n",
      "MAE γ=10, C=0.001, ε=0.001: 2.3367847025915216\n",
      "MAE γ=10, C=0.001, ε=0.01: 2.336776773198784\n",
      "MAE γ=10, C=0.001, ε=0.1: 2.3359499363571214\n",
      "MAE γ=10, C=0.001, ε=1: 2.336716645664769\n",
      "MAE γ=10, C=0.001, ε=10: 3.8936894179841204\n",
      "MAE γ=10, C=0.001, ε=100: 4.661354581673307\n",
      "MAE γ=10, C=0.001, ε=1000: 4.661354581673307\n",
      "MAE γ=10, C=0.01, ε=0.001: 2.0449429325518698\n",
      "MAE γ=10, C=0.01, ε=0.01: 2.044933110183584\n",
      "MAE γ=10, C=0.01, ε=0.1: 2.0466919952489557\n",
      "MAE γ=10, C=0.01, ε=1: 2.064564264449819\n",
      "MAE γ=10, C=0.01, ε=10: 3.9050216698810503\n",
      "MAE γ=10, C=0.01, ε=100: 4.661354581673307\n",
      "MAE γ=10, C=0.01, ε=1000: 4.661354581673307\n",
      "MAE γ=10, C=0.1, ε=0.001: 1.705045862384602\n",
      "MAE γ=10, C=0.1, ε=0.01: 1.705230237440699\n",
      "MAE γ=10, C=0.1, ε=0.1: 1.7082209136831092\n",
      "MAE γ=10, C=0.1, ε=1: 1.7333415948297723\n",
      "MAE γ=10, C=0.1, ε=10: 4.018344188850331\n",
      "MAE γ=10, C=0.1, ε=100: 4.661354581673307\n",
      "MAE γ=10, C=0.1, ε=1000: 4.661354581673307\n",
      "MAE γ=10, C=1, ε=0.001: 1.477057010502059\n",
      "MAE γ=10, C=1, ε=0.01: 1.4771957371862992\n",
      "MAE γ=10, C=1, ε=0.1: 1.4815172883754106\n",
      "MAE γ=10, C=1, ε=1: 1.48599560564974\n",
      "MAE γ=10, C=1, ε=10: 4.555890712364243\n",
      "MAE γ=10, C=1, ε=100: 4.661354581673307\n",
      "MAE γ=10, C=1, ε=1000: 4.661354581673307\n",
      "MAE γ=10, C=10, ε=0.001: 1.436813652803609\n",
      "MAE γ=10, C=10, ε=0.01: 1.4366624584009677\n",
      "MAE γ=10, C=10, ε=0.1: 1.4366078446359847\n",
      "MAE γ=10, C=10, ε=1: 1.4500913559731137\n",
      "MAE γ=10, C=10, ε=10: 4.99775045333155\n",
      "MAE γ=10, C=10, ε=100: 4.661354581673307\n",
      "MAE γ=10, C=10, ε=1000: 4.661354581673307\n",
      "MAE γ=10, C=100, ε=0.001: 1.5268111605509473\n",
      "MAE γ=10, C=100, ε=0.01: 1.525858616384\n",
      "MAE γ=10, C=100, ε=0.1: 1.5179310692536159\n",
      "MAE γ=10, C=100, ε=1: 1.4962275386983517\n",
      "MAE γ=10, C=100, ε=10: 4.99775045333155\n",
      "MAE γ=10, C=100, ε=100: 4.661354581673307\n",
      "MAE γ=10, C=100, ε=1000: 4.661354581673307\n",
      "MAE γ=10, C=1000, ε=0.001: 1.6694154370778902\n",
      "MAE γ=10, C=1000, ε=0.01: 1.6684664647517875\n",
      "MAE γ=10, C=1000, ε=0.1: 1.6663492445880335\n",
      "MAE γ=10, C=1000, ε=1: 1.6210100675384216\n",
      "MAE γ=10, C=1000, ε=10: 4.99775045333155\n",
      "MAE γ=10, C=1000, ε=100: 4.661354581673307\n",
      "MAE γ=10, C=1000, ε=1000: 4.661354581673307\n",
      "MAE γ=1, C=0.001, ε=0.001: 2.2891356911111598\n",
      "MAE γ=1, C=0.001, ε=0.01: 2.2892177068250037\n",
      "MAE γ=1, C=0.001, ε=0.1: 2.2874776082147155\n",
      "MAE γ=1, C=0.001, ε=1: 2.2931109648623775\n",
      "MAE γ=1, C=0.001, ε=10: 3.893898184326263\n",
      "MAE γ=1, C=0.001, ε=100: 4.661354581673307\n",
      "MAE γ=1, C=0.001, ε=1000: 4.661354581673307\n",
      "MAE γ=1, C=0.01, ε=0.001: 1.9939421890804891\n",
      "MAE γ=1, C=0.01, ε=0.01: 1.9940355277529305\n",
      "MAE γ=1, C=0.01, ε=0.1: 1.9916396888647883\n",
      "MAE γ=1, C=0.01, ε=1: 2.017967974670451\n",
      "MAE γ=1, C=0.01, ε=10: 3.907109333302465\n",
      "MAE γ=1, C=0.01, ε=100: 4.661354581673307\n",
      "MAE γ=1, C=0.01, ε=1000: 4.661354581673307\n",
      "MAE γ=1, C=0.1, ε=0.001: 1.7572752315279139\n",
      "MAE γ=1, C=0.1, ε=0.01: 1.7569640415348202\n",
      "MAE γ=1, C=0.1, ε=0.1: 1.7559964672901363\n",
      "MAE γ=1, C=0.1, ε=1: 1.7680631860603746\n",
      "MAE γ=1, C=0.1, ε=10: 4.039220823064492\n",
      "MAE γ=1, C=0.1, ε=100: 4.661354581673307\n",
      "MAE γ=1, C=0.1, ε=1000: 4.661354581673307\n",
      "MAE γ=1, C=1, ε=0.001: 1.5705812808442532\n",
      "MAE γ=1, C=1, ε=0.01: 1.5704708891013754\n",
      "MAE γ=1, C=1, ε=0.1: 1.5681411819576743\n",
      "MAE γ=1, C=1, ε=1: 1.5825280495473868\n",
      "MAE γ=1, C=1, ε=10: 4.688095982967256\n",
      "MAE γ=1, C=1, ε=100: 4.661354581673307\n",
      "MAE γ=1, C=1, ε=1000: 4.661354581673307\n",
      "MAE γ=1, C=10, ε=0.001: 1.4844742677051141\n",
      "MAE γ=1, C=10, ε=0.01: 1.4843699574199296\n",
      "MAE γ=1, C=10, ε=0.1: 1.482576676127002\n",
      "MAE γ=1, C=10, ε=1: 1.4861120505985916\n",
      "MAE γ=1, C=10, ε=10: 4.88897037712224\n",
      "MAE γ=1, C=10, ε=100: 4.661354581673307\n",
      "MAE γ=1, C=10, ε=1000: 4.661354581673307\n",
      "MAE γ=1, C=100, ε=0.001: 1.4752020581201784\n",
      "MAE γ=1, C=100, ε=0.01: 1.4742975706330503\n",
      "MAE γ=1, C=100, ε=0.1: 1.4711470094879524\n",
      "MAE γ=1, C=100, ε=1: 1.465131005493039\n",
      "MAE γ=1, C=100, ε=10: 4.88897037712224\n",
      "MAE γ=1, C=100, ε=100: 4.661354581673307\n",
      "MAE γ=1, C=100, ε=1000: 4.661354581673307\n",
      "MAE γ=1, C=1000, ε=0.001: 1.4914905565012733\n",
      "MAE γ=1, C=1000, ε=0.01: 1.490367174447648\n",
      "MAE γ=1, C=1000, ε=0.1: 1.48582954775097\n",
      "MAE γ=1, C=1000, ε=1: 1.4622068037131344\n",
      "MAE γ=1, C=1000, ε=10: 4.88897037712224\n",
      "MAE γ=1, C=1000, ε=100: 4.661354581673307\n",
      "MAE γ=1, C=1000, ε=1000: 4.661354581673307\n",
      "MAE γ=0.1, C=0.001, ε=0.001: 2.3474278270129747\n",
      "MAE γ=0.1, C=0.001, ε=0.01: 2.3473596239143544\n",
      "MAE γ=0.1, C=0.001, ε=0.1: 2.345411901835298\n",
      "MAE γ=0.1, C=0.001, ε=1: 2.349695012545548\n",
      "MAE γ=0.1, C=0.001, ε=10: 3.8932282227018353\n",
      "MAE γ=0.1, C=0.001, ε=100: 4.661354581673307\n",
      "MAE γ=0.1, C=0.001, ε=1000: 4.661354581673307\n",
      "MAE γ=0.1, C=0.01, ε=0.001: 2.0925800354715216\n",
      "MAE γ=0.1, C=0.01, ε=0.01: 2.0922244143708886\n",
      "MAE γ=0.1, C=0.01, ε=0.1: 2.0915213211398958\n",
      "MAE γ=0.1, C=0.01, ε=1: 2.120822191133596\n",
      "MAE γ=0.1, C=0.01, ε=10: 3.90040971705821\n",
      "MAE γ=0.1, C=0.01, ε=100: 4.661354581673307\n",
      "MAE γ=0.1, C=0.01, ε=1000: 4.661354581673307\n",
      "MAE γ=0.1, C=0.1, ε=0.001: 1.8581533344358818\n",
      "MAE γ=0.1, C=0.1, ε=0.01: 1.8575211729676604\n",
      "MAE γ=0.1, C=0.1, ε=0.1: 1.8575392830964739\n",
      "MAE γ=0.1, C=0.1, ε=1: 1.8675579932409634\n",
      "MAE γ=0.1, C=0.1, ε=10: 3.972224660621932\n",
      "MAE γ=0.1, C=0.1, ε=100: 4.661354581673307\n",
      "MAE γ=0.1, C=0.1, ε=1000: 4.661354581673307\n",
      "MAE γ=0.1, C=1, ε=0.001: 1.6871369055800125\n",
      "MAE γ=0.1, C=1, ε=0.01: 1.6865541917103097\n",
      "MAE γ=0.1, C=1, ε=0.1: 1.6857276311336948\n",
      "MAE γ=0.1, C=1, ε=1: 1.7031609848005724\n",
      "MAE γ=0.1, C=1, ε=10: 4.3471381913154445\n",
      "MAE γ=0.1, C=1, ε=100: 4.661354581673307\n",
      "MAE γ=0.1, C=1, ε=1000: 4.661354581673307\n",
      "MAE γ=0.1, C=10, ε=0.001: 1.5510152944517221\n",
      "MAE γ=0.1, C=10, ε=0.01: 1.5505271795299662\n",
      "MAE γ=0.1, C=10, ε=0.1: 1.550684983488629\n",
      "MAE γ=0.1, C=10, ε=1: 1.558805688468874\n",
      "MAE γ=0.1, C=10, ε=10: 4.687722664018714\n",
      "MAE γ=0.1, C=10, ε=100: 4.661354581673307\n",
      "MAE γ=0.1, C=10, ε=1000: 4.661354581673307\n",
      "MAE γ=0.1, C=100, ε=0.001: 1.506209137805665\n",
      "MAE γ=0.1, C=100, ε=0.01: 1.5062922800511738\n",
      "MAE γ=0.1, C=100, ε=0.1: 1.506164184169292\n",
      "MAE γ=0.1, C=100, ε=1: 1.5179416659805736\n",
      "MAE γ=0.1, C=100, ε=10: 4.792332450809889\n",
      "MAE γ=0.1, C=100, ε=100: 4.661354581673307\n",
      "MAE γ=0.1, C=100, ε=1000: 4.661354581673307\n",
      "MAE γ=0.1, C=1000, ε=0.001: 1.4858346112014051\n",
      "MAE γ=0.1, C=1000, ε=0.01: 1.4866398162691985\n",
      "MAE γ=0.1, C=1000, ε=0.1: 1.4861721593588073\n"
     ]
    },
    {
     "name": "stdout",
     "output_type": "stream",
     "text": [
      "MAE γ=0.1, C=1000, ε=1: 1.4858124233261447\n",
      "MAE γ=0.1, C=1000, ε=10: 4.792332450809889\n",
      "MAE γ=0.1, C=1000, ε=100: 4.661354581673307\n",
      "MAE γ=0.1, C=1000, ε=1000: 4.661354581673307\n",
      "MAE γ=0.01, C=0.001, ε=0.001: 2.385082190460316\n",
      "MAE γ=0.01, C=0.001, ε=0.01: 2.3848655817307005\n",
      "MAE γ=0.01, C=0.001, ε=0.1: 2.3834313187824936\n",
      "MAE γ=0.01, C=0.001, ε=1: 2.3853671566578747\n",
      "MAE γ=0.01, C=0.001, ε=10: 3.8925379485145046\n",
      "MAE γ=0.01, C=0.001, ε=100: 4.661354581673307\n",
      "MAE γ=0.01, C=0.001, ε=1000: 4.661354581673307\n",
      "MAE γ=0.01, C=0.01, ε=0.001: 2.3368908625994687\n",
      "MAE γ=0.01, C=0.01, ε=0.01: 2.336803515515761\n",
      "MAE γ=0.01, C=0.01, ε=0.1: 2.3347115941994376\n",
      "MAE γ=0.01, C=0.01, ε=1: 2.3397819272804554\n",
      "MAE γ=0.01, C=0.01, ε=10: 3.8935069751848808\n",
      "MAE γ=0.01, C=0.01, ε=100: 4.661354581673307\n",
      "MAE γ=0.01, C=0.01, ε=1000: 4.661354581673307\n",
      "MAE γ=0.01, C=0.1, ε=0.001: 2.056365836591094\n",
      "MAE γ=0.01, C=0.1, ε=0.01: 2.055630373010765\n",
      "MAE γ=0.01, C=0.1, ε=0.1: 2.0562219547507774\n",
      "MAE γ=0.01, C=0.1, ε=1: 2.0844011525093435\n",
      "MAE γ=0.01, C=0.1, ε=10: 3.9031972418886465\n",
      "MAE γ=0.01, C=0.1, ε=100: 4.661354581673307\n",
      "MAE γ=0.01, C=0.1, ε=1000: 4.661354581673307\n",
      "MAE γ=0.01, C=1, ε=0.001: 1.8625900883893074\n",
      "MAE γ=0.01, C=1, ε=0.01: 1.8627044045795935\n",
      "MAE γ=0.01, C=1, ε=0.1: 1.8636375501862983\n",
      "MAE γ=0.01, C=1, ε=1: 1.86756153288407\n",
      "MAE γ=0.01, C=1, ε=10: 4.000099908926312\n",
      "MAE γ=0.01, C=1, ε=100: 4.661354581673307\n",
      "MAE γ=0.01, C=1, ε=1000: 4.661354581673307\n",
      "MAE γ=0.01, C=10, ε=0.001: 1.6863646131296133\n",
      "MAE γ=0.01, C=10, ε=0.01: 1.685677050276915\n",
      "MAE γ=0.01, C=10, ε=0.1: 1.6863223105145073\n",
      "MAE γ=0.01, C=10, ε=1: 1.7093715141048063\n",
      "MAE γ=0.01, C=10, ε=10: 4.513840970684967\n",
      "MAE γ=0.01, C=10, ε=100: 4.661354581673307\n",
      "MAE γ=0.01, C=10, ε=1000: 4.661354581673307\n",
      "MAE γ=0.01, C=100, ε=0.001: 1.5602024510179382\n",
      "MAE γ=0.01, C=100, ε=0.01: 1.5607642274246745\n",
      "MAE γ=0.01, C=100, ε=0.1: 1.5591695913166204\n",
      "MAE γ=0.01, C=100, ε=1: 1.562584697350901\n",
      "MAE γ=0.01, C=100, ε=10: 4.597853537769015\n",
      "MAE γ=0.01, C=100, ε=100: 4.661354581673307\n",
      "MAE γ=0.01, C=100, ε=1000: 4.661354581673307\n",
      "MAE γ=0.01, C=1000, ε=0.001: 1.530388664511769\n",
      "MAE γ=0.01, C=1000, ε=0.01: 1.530846492540784\n",
      "MAE γ=0.01, C=1000, ε=0.1: 1.532928862906032\n",
      "MAE γ=0.01, C=1000, ε=1: 1.5373219019463633\n",
      "MAE γ=0.01, C=1000, ε=10: 4.558561985976313\n",
      "MAE γ=0.01, C=1000, ε=100: 4.661354581673307\n",
      "MAE γ=0.01, C=1000, ε=1000: 4.661354581673307\n",
      "MAE γ=0.001, C=0.001, ε=0.001: 2.3898664097218814\n",
      "MAE γ=0.001, C=0.001, ε=0.01: 2.3897229834270606\n",
      "MAE γ=0.001, C=0.001, ε=0.1: 2.3882885645850864\n",
      "MAE γ=0.001, C=0.001, ε=1: 2.3899185528362232\n",
      "MAE γ=0.001, C=0.001, ε=10: 3.892441395270902\n",
      "MAE γ=0.001, C=0.001, ε=100: 4.661354581673307\n",
      "MAE γ=0.001, C=0.001, ε=1000: 4.661354581673307\n",
      "MAE γ=0.001, C=0.01, ε=0.001: 2.384951004710073\n",
      "MAE γ=0.001, C=0.01, ε=0.01: 2.384739108949525\n",
      "MAE γ=0.001, C=0.01, ε=0.1: 2.3833048460013186\n",
      "MAE γ=0.001, C=0.01, ε=1: 2.385249827283559\n",
      "MAE γ=0.001, C=0.01, ε=10: 3.892541442748851\n",
      "MAE γ=0.001, C=0.01, ε=100: 4.661354581673307\n",
      "MAE γ=0.001, C=0.01, ε=1000: 4.661354581673307\n",
      "MAE γ=0.001, C=0.1, ε=0.001: 2.3356463665341667\n",
      "MAE γ=0.001, C=0.1, ε=0.01: 2.3355658239931563\n",
      "MAE γ=0.001, C=0.1, ε=0.1: 2.3334468663876824\n",
      "MAE γ=0.001, C=0.1, ε=1: 2.3386222307273683\n",
      "MAE γ=0.001, C=0.1, ε=10: 3.8935419175283643\n",
      "MAE γ=0.001, C=0.1, ε=100: 4.661354581673307\n",
      "MAE γ=0.001, C=0.1, ε=1000: 4.661354581673307\n",
      "MAE γ=0.001, C=1, ε=0.001: 2.0513957146107153\n",
      "MAE γ=0.001, C=1, ε=0.01: 2.0513015202283236\n",
      "MAE γ=0.001, C=1, ε=0.1: 2.05222530464931\n",
      "MAE γ=0.001, C=1, ε=1: 2.0789332642103266\n",
      "MAE γ=0.001, C=1, ε=10: 3.9035466653234834\n",
      "MAE γ=0.001, C=1, ε=100: 4.661354581673307\n",
      "MAE γ=0.001, C=1, ε=1000: 4.661354581673307\n",
      "MAE γ=0.001, C=10, ε=0.001: 1.8657475823750662\n",
      "MAE γ=0.001, C=10, ε=0.01: 1.8662647949748412\n",
      "MAE γ=0.001, C=10, ε=0.1: 1.8670142456583227\n",
      "MAE γ=0.001, C=10, ε=1: 1.869110238153956\n",
      "MAE γ=0.001, C=10, ε=10: 4.003594143274676\n",
      "MAE γ=0.001, C=10, ε=100: 4.661354581673307\n",
      "MAE γ=0.001, C=10, ε=1000: 4.661354581673307\n",
      "MAE γ=0.001, C=100, ε=0.001: 1.694157413681632\n",
      "MAE γ=0.001, C=100, ε=0.01: 1.6937629161312397\n",
      "MAE γ=0.001, C=100, ε=0.1: 1.6941907442697368\n",
      "MAE γ=0.001, C=100, ε=1: 1.717259707472051\n",
      "MAE γ=0.001, C=100, ε=10: 4.534787089990421\n",
      "MAE γ=0.001, C=100, ε=100: 4.661354581673307\n",
      "MAE γ=0.001, C=100, ε=1000: 4.661354581673307\n",
      "MAE γ=0.001, C=1000, ε=0.001: 1.570437910227554\n",
      "MAE γ=0.001, C=1000, ε=0.01: 1.5700669703623527\n",
      "MAE γ=0.001, C=1000, ε=0.1: 1.571060286070079\n",
      "MAE γ=0.001, C=1000, ε=1: 1.5684244877859632\n",
      "MAE γ=0.001, C=1000, ε=10: 4.5829146297763135\n",
      "MAE γ=0.001, C=1000, ε=100: 4.661354581673307\n",
      "MAE γ=0.001, C=1000, ε=1000: 4.661354581673307\n"
     ]
    }
   ],
   "source": [
    "for gamma in [100, 10, 1, 0.1, 0.01, 0.001]:\n",
    "    for C in [0.001, 0.01, 0.1, 1, 10, 100, 1000]:\n",
    "        for epsilon in [0.001, 0.01, 0.1, 1, 10, 100, 1000]:\n",
    "            model = SVR(kernel='rbf', C=C, epsilon=epsilon, gamma=gamma)\n",
    "            model.fit(X_train, y_train)\n",
    "\n",
    "            y_pred = model.predict(X_val)\n",
    "\n",
    "            print(f'MAE γ={gamma}, C={C}, ε={epsilon}: {mean_absolute_error(y_val, y_pred)}')"
   ]
  },
  {
   "cell_type": "markdown",
   "metadata": {},
   "source": [
    "Παίρνουμε πολύ καλές τιμές όταν έχουμε `gamma=10` και `C=10` και `ε < 0.1`. Θα δοκιμάσω τιμές κοντά σε αυτά τα νούμερα."
   ]
  },
  {
   "cell_type": "code",
   "execution_count": 14,
   "metadata": {},
   "outputs": [
    {
     "name": "stdout",
     "output_type": "stream",
     "text": [
      "MAE γ=2, C=2, ε=0.01: 1.5009682022214137\n",
      "MAE γ=2, C=5, ε=0.01: 1.4715604946205183\n",
      "MAE γ=2, C=10, ε=0.01: 1.463062003315973\n",
      "MAE γ=2, C=20, ε=0.01: 1.4591666428694419\n",
      "MAE γ=2, C=40, ε=0.01: 1.4562132755878048\n",
      "MAE γ=2, C=60, ε=0.01: 1.456733097570816\n",
      "MAE γ=5, C=2, ε=0.01: 1.4664641912055285\n",
      "MAE γ=5, C=5, ε=0.01: 1.4453148250039114\n",
      "MAE γ=5, C=10, ε=0.01: 1.4376234497057114\n",
      "MAE γ=5, C=20, ε=0.01: 1.4361414243491317\n",
      "MAE γ=5, C=40, ε=0.01: 1.4549109757662113\n",
      "MAE γ=5, C=60, ε=0.01: 1.4653732923604998\n",
      "MAE γ=10, C=2, ε=0.01: 1.450488288898706\n",
      "MAE γ=10, C=5, ε=0.01: 1.4356736182185088\n",
      "MAE γ=10, C=10, ε=0.01: 1.4366624584009677\n",
      "MAE γ=10, C=20, ε=0.01: 1.4562381851023356\n",
      "MAE γ=10, C=40, ε=0.01: 1.4763275480344609\n",
      "MAE γ=10, C=60, ε=0.01: 1.4946660876978233\n",
      "MAE γ=20, C=2, ε=0.01: 1.452744643440108\n",
      "MAE γ=20, C=5, ε=0.01: 1.4520442461444456\n",
      "MAE γ=20, C=10, ε=0.01: 1.4714417891086782\n",
      "MAE γ=20, C=20, ε=0.01: 1.4978818338987703\n",
      "MAE γ=20, C=40, ε=0.01: 1.542815120111768\n",
      "MAE γ=20, C=60, ε=0.01: 1.5692446740420671\n",
      "MAE γ=40, C=2, ε=0.01: 1.4752572619276945\n",
      "MAE γ=40, C=5, ε=0.01: 1.4820066449983542\n",
      "MAE γ=40, C=10, ε=0.01: 1.5215193088919268\n",
      "MAE γ=40, C=20, ε=0.01: 1.5757634591837093\n",
      "MAE γ=40, C=40, ε=0.01: 1.6247781824725573\n",
      "MAE γ=40, C=60, ε=0.01: 1.6528075627101768\n",
      "MAE γ=60, C=2, ε=0.01: 1.4955019705652852\n",
      "MAE γ=60, C=5, ε=0.01: 1.5200214970328623\n",
      "MAE γ=60, C=10, ε=0.01: 1.5561469482902686\n",
      "MAE γ=60, C=20, ε=0.01: 1.5995016033886575\n",
      "MAE γ=60, C=40, ε=0.01: 1.6540912505141545\n",
      "MAE γ=60, C=60, ε=0.01: 1.7123338266973882\n"
     ]
    }
   ],
   "source": [
    "for gamma in [2, 5, 10, 20, 40, 60]:\n",
    "    for C in [2, 5, 10, 20, 40, 60]:\n",
    "        for epsilon in [0.01]:\n",
    "            model = SVR(kernel='rbf', C=C, epsilon=epsilon, gamma=gamma)\n",
    "            model.fit(X_train, y_train)\n",
    "\n",
    "            y_pred = model.predict(X_val)\n",
    "\n",
    "            print(f'MAE γ={gamma}, C={C}, ε={epsilon}: {mean_absolute_error(y_val, y_pred)}')"
   ]
  },
  {
   "cell_type": "markdown",
   "metadata": {},
   "source": [
    "Τρέχω άλλη μια φορά να δω μήπως πιάσω καλύτερα αποτελέσματα:"
   ]
  },
  {
   "cell_type": "code",
   "execution_count": 15,
   "metadata": {},
   "outputs": [
    {
     "name": "stdout",
     "output_type": "stream",
     "text": [
      "MAE γ=5, C=1, ε=0.01: 1.5032342086496462\n",
      "MAE γ=5, C=3, ε=0.01: 1.4554145649615295\n",
      "MAE γ=5, C=5, ε=0.01: 1.4453148250039114\n",
      "MAE γ=5, C=8, ε=0.01: 1.4411486973793608\n",
      "MAE γ=5, C=10, ε=0.01: 1.4376234497057114\n",
      "MAE γ=8, C=1, ε=0.01: 1.4861371274907065\n",
      "MAE γ=8, C=3, ε=0.01: 1.441337328347913\n",
      "MAE γ=8, C=5, ε=0.01: 1.4330185099298325\n",
      "MAE γ=8, C=8, ε=0.01: 1.4336225499554778\n",
      "MAE γ=8, C=10, ε=0.01: 1.4341127594102792\n",
      "MAE γ=10, C=1, ε=0.01: 1.4771957371862992\n",
      "MAE γ=10, C=3, ε=0.01: 1.440596196927387\n",
      "MAE γ=10, C=5, ε=0.01: 1.4356736182185088\n",
      "MAE γ=10, C=8, ε=0.01: 1.4357853421056652\n",
      "MAE γ=10, C=10, ε=0.01: 1.4366624584009677\n",
      "MAE γ=12, C=1, ε=0.01: 1.47634024119857\n",
      "MAE γ=12, C=3, ε=0.01: 1.4412979069391312\n",
      "MAE γ=12, C=5, ε=0.01: 1.4362805008787831\n",
      "MAE γ=12, C=8, ε=0.01: 1.4407726324534516\n",
      "MAE γ=12, C=10, ε=0.01: 1.4450737503426125\n",
      "MAE γ=15, C=1, ε=0.01: 1.4756071844788787\n",
      "MAE γ=15, C=3, ε=0.01: 1.4408495519025182\n",
      "MAE γ=15, C=5, ε=0.01: 1.4423341914451537\n",
      "MAE γ=15, C=8, ε=0.01: 1.4516309450002103\n",
      "MAE γ=15, C=10, ε=0.01: 1.4558442628016781\n"
     ]
    }
   ],
   "source": [
    "for gamma in [5, 8, 10, 12, 15]:\n",
    "    for C in [1, 3, 5, 8, 10]:\n",
    "        for epsilon in [0.01]:\n",
    "            model = SVR(kernel='rbf', C=C, epsilon=epsilon, gamma=gamma)\n",
    "            model.fit(X_train, y_train)\n",
    "\n",
    "            y_pred = model.predict(X_val)\n",
    "\n",
    "            print(f'MAE γ={gamma}, C={C}, ε={epsilon}: {mean_absolute_error(y_val, y_pred)}')"
   ]
  },
  {
   "cell_type": "markdown",
   "metadata": {},
   "source": [
    "Παρατηρούμε ότι έχουμε καλά αποτελέσματα σε τιμές του γάμμα κοντά στο 10. Συγκεκριμένα, το μοντέλο με `γ=8, C=5, ε=0.01` έκανε την καλύτερη απόδοση με ΜΑΕ περίπου 1.433. Δοκιμάζω το παραπάνω μοντέλο στα test data για να το συγκρίνω με τα πολυωνυμικά και το γραμμικό:"
   ]
  },
  {
   "cell_type": "code",
   "execution_count": 18,
   "metadata": {},
   "outputs": [
    {
     "name": "stdout",
     "output_type": "stream",
     "text": [
      "Best SVR RBF MAE: 1.4878350432291223\n"
     ]
    }
   ],
   "source": [
    "best_rbf = SVR(kernel='rbf', gamma=8, C=5, epsilon=0.01)\n",
    "print(f'Best SVR RBF MAE: {train_and_test(best_rbf)}')"
   ]
  },
  {
   "cell_type": "markdown",
   "metadata": {},
   "source": [
    "Παρατηρούμε ότι πιάνει ΜΑΕ ελαφρώς αυξηνόμενο από τα poly 2 και 3."
   ]
  },
  {
   "cell_type": "code",
   "execution_count": null,
   "metadata": {},
   "outputs": [],
   "source": []
  }
 ],
 "metadata": {
  "colab": {
   "provenance": []
  },
  "kernelspec": {
   "display_name": "Python 3",
   "language": "python",
   "name": "python3"
  },
  "language_info": {
   "codemirror_mode": {
    "name": "ipython",
    "version": 3
   },
   "file_extension": ".py",
   "mimetype": "text/x-python",
   "name": "python",
   "nbconvert_exporter": "python",
   "pygments_lexer": "ipython3",
   "version": "3.8.3"
  }
 },
 "nbformat": 4,
 "nbformat_minor": 1
}
