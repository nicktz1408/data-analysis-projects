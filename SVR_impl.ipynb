{
 "cells": [
  {
   "cell_type": "markdown",
   "metadata": {
    "id": "YEAwk0VwBzkV"
   },
   "source": [
    "Έχουμε το εξής δυϊκό πρόβλημα βελτιστοποίησης για το SVR:\n",
    "$$\n",
    "\\tag{1}\n",
    "\\max \\limits_{a, a^*} -\\frac{1}{2} \\sum_{i,j=1}^{N} \\left( a_i - a_i^* \\right) \\left( a_j - a_j^* \\right) K(x_i,x_j) - ϵ \\sum_i^N (a_i + a_i^*) + \\sum_i^N y_i(a_i - a_i^*) \\\\ subject\\ to \\quad c \\geq a_i, a_i^* \\geq 0, \\sum_i^N(a_i - a_i^*) = 0\n",
    " $$\n",
    "\n",
    " Το QP λύνει προβλήματα βελτιστοποίησης της μορφής:\n",
    " $$ \\tag{2} \\min \\frac{1}{2} a^TQa + c^Ta \\\\ subject\\ to \\quad Aa \\leq b, Ca = d $$\n",
    "\n",
    "Επειδή ο QP κάνει ελαχιστοποίηση, μπορούμε να αλλάξουμε τα πρόσιμα στην $(1)$ και να μετατρέψουμε το δυϊκό μας πρόβλημα σε πρόβλημα ελαχιστοποίησης.\n",
    "\n",
    " Θα προσπαθήσουμε να γράψουμε την $(1)$ στην μορφή της $(2)$. Αν δεν είχαμε την έκφραση $(a_i + a_i^*)$, θα μπορούσαμε να ενώσουμε χρησιμοποιήσουμε απευθείας ένα indexed set $d_i = a_i - a_i^*$ και να χρησιμοποιήσουμε το $D$ αντί για το $A$ στον QP.\n",
    "\n",
    " Κάτι τέτοιο όμως δεν είναι εφικτό και έτσι θα πρέπει να θεωρήσουμε 2N μεταβλητές $A' = \\{ a_0, \\cdots, a_N, a_0^*, \\cdots, a_N^* \\}$ και να μετασχηματίσουμε την $(1)$ στην $(2)$ με βάση αυτό το σύνολο μεταβλητών.\n",
    "\n",
    " Ας ξεκινήσουμε από το Q. Αν κάνουμε expansion την τετραγωνική μορφή, παίρνουμε $$ \\tag{3} a^TQa =\n",
    " \\begin{bmatrix} \\sum_{i=1}^{N} a_i \\cdot q_{i1} & \\sum_{i=1}^{N} a_i \\cdot q_{i2} & \\cdots & \\sum_{i=1}^{N} a_i \\cdot q_{iN} \\end{bmatrix}\n",
    " \\cdot\n",
    " \\begin{bmatrix} a_1 \\\\ a_2 \\\\ \\vdots \\\\ a_n \\end{bmatrix} = \\sum_{j=1}^{N} \\sum_{i=1}^{N} a_i q_{ij} a_j $$\n",
    "\n",
    " Επομένως, το $q_{ij}$ entry του $Q$ αντιστοιχεί στον πολλαπλασιασμό μεταξύ της $a_i$ με την $a_j$. Αν κάνουμε expansion το διπλό άθροισμα παίρνουμε 4 υποαθροίσματα:\n",
    " $$ \\tag{4} \\sum_{i,j=1}^{N} ( a_i - a_i^* ) ( a_j - a_j^* ) K(x_i,x_j) = \\sum_{i,j=1}^{N} a_i K(x_i, x_j) a_j + \\sum_{i,j=1}^{N} - a_i K(x_i, x_j) a_j^* + \\sum_{i,j=1}^{N} -a_i^* K(x_i, x_j) a_j + \\sum_{i,j=1}^{N} a_i^* K(x_i, x_j) a_j^* $$\n",
    "\n",
    " Κάνουμε την αντικατάσταση $a_i^* → a_{N + i}$ για να μετατρέψουμε το πρόβλημα στο καινούργιο set άγνωστων μεταβλητών $A'$ και η $(4)$ γράφεται:\n",
    " $$ \\tag{5} \\sum_{i,j=1}^{N} a_i K(x_i, x_j) a_j + \\sum_{i,j=1}^{N} a_i (-K(x_i, x_j)) a_{j + N} + \\sum_{i,j=1}^{N} a_{i + N} (-K(x_i, x_j)) a_j + \\sum_{i,j=1}^{N} a_{i + N} K(x_i, x_j) a_{j + N} $$\n",
    "\n",
    " Χρησιμοποιώντας την $(3)$, κατασκευάζουμε τον πίνακα $Q \\in ℝ^{2N×2N}$. Από την $(5)$ μπορούμε να διακρίνουμε την μορφή του $Q$. Βλέπουμε ότι ο $2N\\times2N$ πίνακας είναι block matrix που αποτελείται από 4 μικρότερους πίνακες διαστάσεων $N \\times N$, οι οποίοι είναι είτε ο kernel matrix $K$, είτε ο $-K$. Συγκεκριμένα, έχουμε:\n",
    " $$\n",
    "Q =\n",
    "\\begin{bmatrix}\n",
    "\\mathbf{K} & -\\mathbf{K} \\\\\n",
    "-\\mathbf{K} & \\mathbf{K}\n",
    "\\end{bmatrix}\n",
    "$$\n",
    "\n",
    "Για το διάνυσμα $c$, η κατάσταση είναι πιο απλή. Αρκεί να βρούμε τους πρωτοβάθμιους όρους ανά μεταβλητή $a_i \\in A'$, να τους μαζέψουμε (group together) και έτσι να βγάλουμε τον $c$. Από την $(1)$ (με αλλαγμένα τα πρόσιμα) έχουμε:\n",
    "$$ ϵ \\sum_i^N (a_i + a_i^*) - \\sum_i^N y_i(a_i - a_i^*) = \\sum_i^N a_i \\cdot (\\epsilon - y_i) + \\sum_i^N a_{i + N} \\cdot (\\epsilon + y_i) $$\n",
    "\n",
    "Επομένως, ο $c \\in ℝ_{2N}$ γράφεται:\n",
    "$$ c^T = \\begin{bmatrix} \\epsilon - y_1 & \\cdots & \\epsilon - y_N & \\epsilon + y_1 & \\cdots & \\epsilon + y_N \\end{bmatrix} $$\n",
    "\n",
    "Τώρα, θα δούμε εκφράσουμε σε μορφή QP τις ανισότητες και την ισότητα, δηλαδή θα βρούμε τους πίνακες $A$ και $C$. Για τον $Α$, έχουμε $4N$ ανισότητες με την εξής μορφή:\n",
    "$$\n",
    "a_1 \\leq c \\quad \\cdots \\quad a_{2N} \\leq c \\\\\n",
    "-a_1 \\leq 0 \\quad \\cdots \\quad -a_{2N} \\leq 0\n",
    "$$\n",
    "\n",
    "Σε μορφή πίνακα, θα έχουμε έναν πίνακα $4N \\times 2N$ (ο αριθμός των γραμμών αντιστοιχεί στον αριθμό τον ανισοτήτων). Παρατηρούμε ότι οι πρώτες $2N$ ανισότητες είναι απλά ο identity matrix $I_{2N}$ και για τις υπόλοιπες ο αντίθετός του $-I_{2N}$. Για το διάνυσμα $b$, έχουμε $2N$ scalars $c$ και $2N$ μηδενικά. Συνοψίζοντας, έχουμε:\n",
    "\n",
    "$$\n",
    "A = \\begin{bmatrix} I_{2N} \\\\ -I_{2N} \\end{bmatrix} \\\\\n",
    "b^T = \\begin{bmatrix} c & \\cdots & c & 0 & \\cdots & 0 \\end{bmatrix}\n",
    "$$ <!-- TODO: use underbrace?? -->\n",
    "\n",
    "Έχουμε μια μόνο ισότητα, άρα ο $C$ έχει μορφή $1 \\times 2N$ με τους $N$ πρώτους όρους ίσους με μονάδα και τους $N$ επόμενους με $-1$. Αντίσοιχα, $d=0$.\n",
    "\n",
    "Αφού βάλουμε τους παραπάνω πίνακες και διανύσματα στον quadratic solver μας, παίρνουμε τις βέλτιστες τιμές του $A'$. Επόμενο βήμα είναι να δούμε πώς μπορούμε να χρησιμοποιήσουμε το $A'$ για να προβλέψουμε την έξοδο $\\hat{y}(x)$ για κάποιο δείγμα εισόδου $x$.\n",
    "\n",
    "Από την μερική παράγωγο $\\frac{\\partial L}{\\partial w}$ παίρνουμε:\n",
    "$$ \\frac{\\partial L}{\\partial w} = 0 ⟺ w = \\sum_{i=1}^{N} (a_i - a_{i + N}) \\phi(x_i) $$\n",
    "\n",
    "Το $\\hat{y}(x)$ γράφεται:\n",
    "$$ \\tag{6} \\hat{y}(x) = w^T \\phi (x) + b = \\sum_{i=1}^{N} (a_i - a_{i + N}) \\phi(x_i) \\phi (x) + b = \\sum_{i=1}^{N} (a_i - a_{i + N}) K(x, x_i) + b $$\n",
    "\n",
    "Επόμενο βήμα είναι να βρούμε το $b$ και να το αντικαταστήσουμε στην $(6)$. Το $b$ μπορούμε να το υπολογίσουμε από το support vectors δείγματα εκπαίδευσης με βάση την εξής σχέση:\n",
    "$$ y_i = w^T \\phi(x_i) + b \\pm ϵ ⟺ b = y_i - \\sum_{i=1}^{N} (a_i - a_{i + N}) K(x, x_i) \\mp ϵ $$\n",
    "\n",
    "Ένα sample $(x_i, y_i)$ αποτελεί support vector αν έχουμε $a_i > 0$ ή $a^*_i > 0$. Στην 1η περίπτωση, το δείγμα είναι πάνω από το $\\hat{y}(x_i)$ (και άρα έχουμε $-ϵ$) και το ανάποδο για την 2η περίπτωση. Μπορούμε να βρούμε τον μέσο όρο για όλα τα SV για να βρούμε καλύτερη εκτίμηση για το $b$.\n",
    "\n"
   ]
  },
  {
   "cell_type": "code",
   "execution_count": 9,
   "metadata": {
    "colab": {
     "base_uri": "https://localhost:8080/"
    },
    "id": "ZQu0F9y2w_PE",
    "outputId": "afe3f80c-510b-41ec-8918-397f3d58d7ab"
   },
   "outputs": [
    {
     "name": "stdout",
     "output_type": "stream",
     "text": [
      "Requirement already satisfied: qpsolvers[open_source_solvers] in /usr/local/lib/python3.10/dist-packages (4.4.0)\n",
      "Requirement already satisfied: numpy>=1.15.4 in /usr/local/lib/python3.10/dist-packages (from qpsolvers[open_source_solvers]) (1.26.4)\n",
      "Requirement already satisfied: scipy>=1.2.0 in /usr/local/lib/python3.10/dist-packages (from qpsolvers[open_source_solvers]) (1.13.1)\n",
      "Requirement already satisfied: ecos>=2.0.8 in /usr/local/lib/python3.10/dist-packages (from qpsolvers[open_source_solvers]) (2.0.14)\n",
      "Requirement already satisfied: osqp>=0.6.2 in /usr/local/lib/python3.10/dist-packages (from qpsolvers[open_source_solvers]) (0.6.7.post3)\n",
      "Requirement already satisfied: proxsuite>=0.2.9 in /usr/local/lib/python3.10/dist-packages (from qpsolvers[open_source_solvers]) (0.6.7)\n",
      "Requirement already satisfied: daqp>=0.5.1 in /usr/local/lib/python3.10/dist-packages (from qpsolvers[open_source_solvers]) (0.6.0)\n",
      "Requirement already satisfied: scs>=3.2.0 in /usr/local/lib/python3.10/dist-packages (from qpsolvers[open_source_solvers]) (3.2.7)\n",
      "Requirement already satisfied: qpax>=0.0.9 in /usr/local/lib/python3.10/dist-packages (from qpsolvers[open_source_solvers]) (0.0.9)\n",
      "Requirement already satisfied: clarabel>=0.4.1 in /usr/local/lib/python3.10/dist-packages (from qpsolvers[open_source_solvers]) (0.9.0)\n",
      "Requirement already satisfied: piqp>=0.2.2 in /usr/local/lib/python3.10/dist-packages (from qpsolvers[open_source_solvers]) (0.4.2)\n",
      "Requirement already satisfied: highspy>=1.1.2.dev3 in /usr/local/lib/python3.10/dist-packages (from qpsolvers[open_source_solvers]) (1.8.1)\n",
      "Requirement already satisfied: qpalm>=1.2.1 in /usr/local/lib/python3.10/dist-packages (from qpsolvers[open_source_solvers]) (1.2.5)\n",
      "Requirement already satisfied: quadprog>=0.1.11 in /usr/local/lib/python3.10/dist-packages (from qpsolvers[open_source_solvers]) (0.1.13)\n",
      "Requirement already satisfied: cvxopt>=1.2.6 in /usr/local/lib/python3.10/dist-packages (from qpsolvers[open_source_solvers]) (1.3.2)\n",
      "Requirement already satisfied: qdldl in /usr/local/lib/python3.10/dist-packages (from osqp>=0.6.2->qpsolvers[open_source_solvers]) (0.1.7.post4)\n",
      "Requirement already satisfied: cmeel in /usr/local/lib/python3.10/dist-packages (from proxsuite>=0.2.9->qpsolvers[open_source_solvers]) (0.53.3)\n",
      "Requirement already satisfied: jax>=0.4.0 in /usr/local/lib/python3.10/dist-packages (from qpax>=0.0.9->qpsolvers[open_source_solvers]) (0.4.33)\n",
      "Requirement already satisfied: jaxlib>=0.4.0 in /usr/local/lib/python3.10/dist-packages (from qpax>=0.0.9->qpsolvers[open_source_solvers]) (0.4.33)\n",
      "Requirement already satisfied: ml-dtypes>=0.2.0 in /usr/local/lib/python3.10/dist-packages (from jax>=0.4.0->qpax>=0.0.9->qpsolvers[open_source_solvers]) (0.4.1)\n",
      "Requirement already satisfied: opt-einsum in /usr/local/lib/python3.10/dist-packages (from jax>=0.4.0->qpax>=0.0.9->qpsolvers[open_source_solvers]) (3.4.0)\n",
      "Requirement already satisfied: tomli<3.0.0,>=2.0.1 in /usr/local/lib/python3.10/dist-packages (from cmeel->proxsuite>=0.2.9->qpsolvers[open_source_solvers]) (2.2.1)\n"
     ]
    }
   ],
   "source": [
    "!pip install qpsolvers[open_source_solvers]"
   ]
  },
  {
   "cell_type": "code",
   "execution_count": 3,
   "metadata": {
    "id": "kwe3eDzNa1su"
   },
   "outputs": [],
   "source": [
    "import numpy as np\n",
    "import qpsolvers"
   ]
  },
  {
   "cell_type": "code",
   "execution_count": 45,
   "metadata": {
    "id": "wwTqDHEFze3M"
   },
   "outputs": [],
   "source": [
    "class SVR:\n",
    "    def __init__(self, kernel_fn, C=1.0, epsilon=0.1):\n",
    "        self.kernel_fn = kernel_fn\n",
    "        self.C = C\n",
    "        self.epsilon = epsilon\n",
    "\n",
    "    def _create_kernel_matrix(self, X):\n",
    "        return np.array([ [ self.kernel_fn(x1, x2) for x1 in X ] for x2 in X ])\n",
    "\n",
    "    def fit(self, X, y):\n",
    "        X = np.array(X, dtype='d')\n",
    "        y = np.array(y, dtype='d')\n",
    "\n",
    "        N = X.shape[0]\n",
    "\n",
    "        # First, we create the matrices to plug in the QP solver\n",
    "        K = self._create_kernel_matrix(X)\n",
    "\n",
    "        Q = np.block([ [ K, -K ], [ -K, K] ])\n",
    "        c = np.hstack((-y + self.epsilon, y + self.epsilon))\n",
    "\n",
    "        A = np.vstack((np.identity(2 * N), -np.identity(2 * N)))\n",
    "        b = np.hstack(( np.full((2 * N), self.C), np.zeros((2 * N)) ))\n",
    "\n",
    "        C = np.hstack(( np.ones((N)), -np.ones((N)) )).reshape((1, 2 * N))\n",
    "        d = np.array([0], dtype='d')\n",
    "\n",
    "        # We find a_prime values using the QP solver\n",
    "        a_prime = qpsolvers.solve_qp(Q, c, A, b, C, d, solver='cvxopt')\n",
    "\n",
    "        # Now, we approximate b\n",
    "        a, a_star = a_prime[:N], a_prime[N:]\n",
    "        a_diff = a - a_star\n",
    "\n",
    "        # First, we find SVs and characterize them\n",
    "        is_sv = np.logical_or(a > 1e-5, a_star > 1e-5) # take care of very small values\n",
    "        sv_sign = (a > 1e-5) + (-1) * (a_star > 1e-5) # 1 if pos, -1 if neg\n",
    "\n",
    "        b_vals = np.array([ is_sv[i] * (y[i] - np.sum(a_diff * K[i, :]) - sv_sign[i] * self.epsilon)\n",
    "                           for i in range(N) if is_sv[i] ])\n",
    "\n",
    "        if len(b_vals) == 0: # take care of empty values\n",
    "            self.b = 0\n",
    "        else:\n",
    "            self.b = np.mean(b_vals)\n",
    "\n",
    "        # Save some more values needed for inference\n",
    "        self.X, self.y = X, y\n",
    "        self.a_diff = a_diff\n",
    "\n",
    "    def predict(self, X_test):\n",
    "        K_corr_matrix = np.array([ [ self.kernel_fn(x_test, x_train) for x_test in X_test ] for x_train in self.X ])\n",
    "\n",
    "        # Use (6)\n",
    "        return np.array([ self.b + np.sum(self.a_diff * K_corr_matrix[:, ind] ) for ind in range(len(X_test)) ])\n"
   ]
  },
  {
   "cell_type": "code",
   "execution_count": 46,
   "metadata": {
    "colab": {
     "base_uri": "https://localhost:8080/"
    },
    "id": "w5eS4bIDvSwi",
    "outputId": "9a583457-6bdd-4c9b-8240-7b4a4c77bda6"
   },
   "outputs": [
    {
     "name": "stdout",
     "output_type": "stream",
     "text": [
      "[3.80000007 4.70000011 5.60000014 6.50000018]\n"
     ]
    }
   ],
   "source": [
    "kernel_fn = lambda x1, x2: np.dot(x1, x2)\n",
    "\n",
    "svr = SVR(kernel_fn)\n",
    "svr.fit(np.array([ [ 1, 1 ], [ 2, 2 ], [ 3, 3 ] ]), np.array([1,2,3]))\n",
    "print(svr.predict([ [ 4, 4], [5, 5], [6, 6], [7, 7] ]))"
   ]
  },
  {
   "cell_type": "code",
   "execution_count": null,
   "metadata": {
    "id": "_P8pWxDY9UQD"
   },
   "outputs": [],
   "source": []
  }
 ],
 "metadata": {
  "colab": {
   "provenance": []
  },
  "kernelspec": {
   "display_name": "Python 3",
   "language": "python",
   "name": "python3"
  },
  "language_info": {
   "codemirror_mode": {
    "name": "ipython",
    "version": 3
   },
   "file_extension": ".py",
   "mimetype": "text/x-python",
   "name": "python",
   "nbconvert_exporter": "python",
   "pygments_lexer": "ipython3",
   "version": "3.8.3"
  }
 },
 "nbformat": 4,
 "nbformat_minor": 1
}
